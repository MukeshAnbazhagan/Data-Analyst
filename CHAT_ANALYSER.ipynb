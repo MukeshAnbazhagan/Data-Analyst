{
  "cells": [
    {
      "cell_type": "code",
      "source": [
        "pip install emoji==1.7"
      ],
      "metadata": {
        "colab": {
          "base_uri": "https://localhost:8080/"
        },
        "id": "AQd3llN3gFL5",
        "outputId": "ef052844-5863-40c5-98db-5fc1e614bfc4"
      },
      "execution_count": null,
      "outputs": [
        {
          "output_type": "stream",
          "name": "stdout",
          "text": [
            "Looking in indexes: https://pypi.org/simple, https://us-python.pkg.dev/colab-wheels/public/simple/\n",
            "Collecting emoji==1.7\n",
            "  Downloading emoji-1.7.0.tar.gz (175 kB)\n",
            "\u001b[2K     \u001b[90m━━━━━━━━━━━━━━━━━━━━━━━━━━━━━━━━━━━━━━\u001b[0m \u001b[32m175.4/175.4 KB\u001b[0m \u001b[31m13.4 MB/s\u001b[0m eta \u001b[36m0:00:00\u001b[0m\n",
            "\u001b[?25h  Preparing metadata (setup.py) ... \u001b[?25l\u001b[?25hdone\n",
            "Building wheels for collected packages: emoji\n",
            "  Building wheel for emoji (setup.py) ... \u001b[?25l\u001b[?25hdone\n",
            "  Created wheel for emoji: filename=emoji-1.7.0-py3-none-any.whl size=171046 sha256=743b700f1b60cdf562c97525c6c45bc971d67d0e4edfe543a0b9a36c3485fbdc\n",
            "  Stored in directory: /root/.cache/pip/wheels/5e/8c/80/c3646df8201ba6f5070297fe3779a4b70265d0bfd961c15302\n",
            "Successfully built emoji\n",
            "Installing collected packages: emoji\n",
            "Successfully installed emoji-1.7.0\n"
          ]
        }
      ]
    },
    {
      "cell_type": "code",
      "source": [
        "from google.colab import drive\n",
        "drive.mount('/content/drive')"
      ],
      "metadata": {
        "colab": {
          "base_uri": "https://localhost:8080/"
        },
        "id": "b-FmBT5UI9Jx",
        "outputId": "b1863560-451a-4871-9e64-e8e97328fcc4"
      },
      "execution_count": null,
      "outputs": [
        {
          "output_type": "stream",
          "name": "stdout",
          "text": [
            "Mounted at /content/drive\n"
          ]
        }
      ]
    },
    {
      "cell_type": "code",
      "execution_count": null,
      "metadata": {
        "id": "EX9mcA_chzH9"
      },
      "outputs": [],
      "source": [
        "import regex\n",
        "import pandas as pd\n",
        "import numpy as np\n",
        "import emoji\n",
        "from collections import Counter\n",
        "import matplotlib.pyplot as plt\n",
        "from wordcloud import WordCloud, STOPWORDS, ImageColorGenerator\n",
        "import re\n",
        "from wordcloud import WordCloud,STOPWORDS\n",
        "from PIL import Image\n",
        "from textblob import TextBlob\n",
        "import warnings\n",
        "warnings.filterwarnings(\"ignore\")\n",
        "#import advertools as adv"
      ]
    },
    {
      "cell_type": "code",
      "execution_count": null,
      "metadata": {
        "id": "yN0z0bOhh1vW"
      },
      "outputs": [],
      "source": [
        "def date_time(s):\n",
        "    pattern = '^([0-9]+)(\\/)([0-9]+)(\\/)([0-9]+), ([0-9]+):([0-9]+)[ ]?(AM|PM|am|pm)? -'\n",
        "    result = regex.match(pattern, s)\n",
        "    if result:\n",
        "        return True\n",
        "    return False\n",
        "\n",
        "def find_author(s):\n",
        "    s = s.split(\":\")\n",
        "    if len(s)==2:\n",
        "        return True\n",
        "    else:\n",
        "        return False\n",
        "\n",
        "def getDatapoint(line):\n",
        "    splitline = line.split(' - ')\n",
        "    dateTime = splitline[0]\n",
        "    date, time = dateTime.split(\", \")\n",
        "    message = \" \".join(splitline[1:])\n",
        "    if find_author(message):\n",
        "        splitmessage = message.split(\": \")\n",
        "        author = splitmessage[0]\n",
        "        message = \" \".join(splitmessage[1:])\n",
        "    else:\n",
        "        author= None\n",
        "    return date, time, author, message"
      ]
    },
    {
      "cell_type": "code",
      "execution_count": null,
      "metadata": {
        "id": "ySWD4F2Nh5i7"
      },
      "outputs": [],
      "source": [
        "data = []\n",
        "conversation = '/content/drive/MyDrive/Internship /IPL/chat/WhatsApp Chat with IPL.txt'\n",
        "with open(conversation, encoding=\"utf-8\") as fp:\n",
        "    fp.readline()\n",
        "    messageBuffer = []\n",
        "    date, time, author = None, None, None\n",
        "    while True:\n",
        "        line = fp.readline()\n",
        "        if not line:\n",
        "            break\n",
        "        line = line.strip()\n",
        "        if date_time(line):\n",
        "            if len(messageBuffer) > 0:\n",
        "                data.append([date, time, author, ' '.join(messageBuffer)])\n",
        "            messageBuffer.clear()\n",
        "            date, time, author, message = getDatapoint(line)\n",
        "            messageBuffer.append(message)\n",
        "        else:\n",
        "            messageBuffer.append(line)"
      ]
    },
    {
      "cell_type": "code",
      "execution_count": null,
      "metadata": {
        "id": "FNQ2idl1iHol"
      },
      "outputs": [],
      "source": [
        "df = pd.DataFrame(data, columns=[\"Date\", 'Time', 'Author', 'Message'])\n",
        "df['Date'] = pd.to_datetime(df['Date'])\n",
        "\n"
      ]
    },
    {
      "cell_type": "code",
      "execution_count": null,
      "metadata": {
        "colab": {
          "base_uri": "https://localhost:8080/"
        },
        "id": "lcrcB72fwXUQ",
        "outputId": "08ca7a24-c099-4cc1-a94c-9270e8b0ed3c"
      },
      "outputs": [
        {
          "output_type": "stream",
          "name": "stdout",
          "text": [
            "<class 'pandas.core.frame.DataFrame'>\n",
            "RangeIndex: 199 entries, 0 to 198\n",
            "Data columns (total 4 columns):\n",
            " #   Column   Non-Null Count  Dtype         \n",
            "---  ------   --------------  -----         \n",
            " 0   Date     199 non-null    datetime64[ns]\n",
            " 1   Time     199 non-null    object        \n",
            " 2   Author   196 non-null    object        \n",
            " 3   Message  199 non-null    object        \n",
            "dtypes: datetime64[ns](1), object(3)\n",
            "memory usage: 6.3+ KB\n"
          ]
        }
      ],
      "source": [
        "df.info()"
      ]
    },
    {
      "cell_type": "code",
      "source": [
        "df\n"
      ],
      "metadata": {
        "colab": {
          "base_uri": "https://localhost:8080/",
          "height": 424
        },
        "id": "Vedmc1qQrlob",
        "outputId": "f055f36a-9f9c-4521-9ce9-2c990b19fd94"
      },
      "execution_count": null,
      "outputs": [
        {
          "output_type": "execute_result",
          "data": {
            "text/plain": [
              "          Date   Time          Author  \\\n",
              "0   2022-12-26  19:19            None   \n",
              "1   2022-12-26  19:19            None   \n",
              "2   2022-12-26  19:45          Mukesh   \n",
              "3   2022-12-26  19:46  Koushik Itachi   \n",
              "4   2022-12-26  19:46    Aanandh Sret   \n",
              "..         ...    ...             ...   \n",
              "194 2023-01-01  22:38          Mukesh   \n",
              "195 2023-01-01  22:38          Mukesh   \n",
              "196 2023-01-01  22:39          Mukesh   \n",
              "197 2023-01-01  22:39  Koushik Itachi   \n",
              "198 2023-01-01  22:40          Mukesh   \n",
              "\n",
              "                                               Message  \n",
              "0                              You created group \"IPL\"  \n",
              "1                 You added Koushik Itachi and Udhayan  \n",
              "2                                             Hii guys  \n",
              "3                                             Hii boys  \n",
              "4                                             Hii guys  \n",
              "..                                                 ...  \n",
              "194  and also a very good batsman for back up Will ...  \n",
              "195  yeah but i think most probably he'll play till...  \n",
              "196                        Hope he does will till then  \n",
              "197                                               Yeah  \n",
              "198  Maxwell is also injured hopefully he'll get ba...  \n",
              "\n",
              "[199 rows x 4 columns]"
            ],
            "text/html": [
              "\n",
              "  <div id=\"df-188f9482-9ee1-48b8-a305-2da6fa4ca275\">\n",
              "    <div class=\"colab-df-container\">\n",
              "      <div>\n",
              "<style scoped>\n",
              "    .dataframe tbody tr th:only-of-type {\n",
              "        vertical-align: middle;\n",
              "    }\n",
              "\n",
              "    .dataframe tbody tr th {\n",
              "        vertical-align: top;\n",
              "    }\n",
              "\n",
              "    .dataframe thead th {\n",
              "        text-align: right;\n",
              "    }\n",
              "</style>\n",
              "<table border=\"1\" class=\"dataframe\">\n",
              "  <thead>\n",
              "    <tr style=\"text-align: right;\">\n",
              "      <th></th>\n",
              "      <th>Date</th>\n",
              "      <th>Time</th>\n",
              "      <th>Author</th>\n",
              "      <th>Message</th>\n",
              "    </tr>\n",
              "  </thead>\n",
              "  <tbody>\n",
              "    <tr>\n",
              "      <th>0</th>\n",
              "      <td>2022-12-26</td>\n",
              "      <td>19:19</td>\n",
              "      <td>None</td>\n",
              "      <td>You created group \"IPL\"</td>\n",
              "    </tr>\n",
              "    <tr>\n",
              "      <th>1</th>\n",
              "      <td>2022-12-26</td>\n",
              "      <td>19:19</td>\n",
              "      <td>None</td>\n",
              "      <td>You added Koushik Itachi and Udhayan</td>\n",
              "    </tr>\n",
              "    <tr>\n",
              "      <th>2</th>\n",
              "      <td>2022-12-26</td>\n",
              "      <td>19:45</td>\n",
              "      <td>Mukesh</td>\n",
              "      <td>Hii guys</td>\n",
              "    </tr>\n",
              "    <tr>\n",
              "      <th>3</th>\n",
              "      <td>2022-12-26</td>\n",
              "      <td>19:46</td>\n",
              "      <td>Koushik Itachi</td>\n",
              "      <td>Hii boys</td>\n",
              "    </tr>\n",
              "    <tr>\n",
              "      <th>4</th>\n",
              "      <td>2022-12-26</td>\n",
              "      <td>19:46</td>\n",
              "      <td>Aanandh Sret</td>\n",
              "      <td>Hii guys</td>\n",
              "    </tr>\n",
              "    <tr>\n",
              "      <th>...</th>\n",
              "      <td>...</td>\n",
              "      <td>...</td>\n",
              "      <td>...</td>\n",
              "      <td>...</td>\n",
              "    </tr>\n",
              "    <tr>\n",
              "      <th>194</th>\n",
              "      <td>2023-01-01</td>\n",
              "      <td>22:38</td>\n",
              "      <td>Mukesh</td>\n",
              "      <td>and also a very good batsman for back up Will ...</td>\n",
              "    </tr>\n",
              "    <tr>\n",
              "      <th>195</th>\n",
              "      <td>2023-01-01</td>\n",
              "      <td>22:38</td>\n",
              "      <td>Mukesh</td>\n",
              "      <td>yeah but i think most probably he'll play till...</td>\n",
              "    </tr>\n",
              "    <tr>\n",
              "      <th>196</th>\n",
              "      <td>2023-01-01</td>\n",
              "      <td>22:39</td>\n",
              "      <td>Mukesh</td>\n",
              "      <td>Hope he does will till then</td>\n",
              "    </tr>\n",
              "    <tr>\n",
              "      <th>197</th>\n",
              "      <td>2023-01-01</td>\n",
              "      <td>22:39</td>\n",
              "      <td>Koushik Itachi</td>\n",
              "      <td>Yeah</td>\n",
              "    </tr>\n",
              "    <tr>\n",
              "      <th>198</th>\n",
              "      <td>2023-01-01</td>\n",
              "      <td>22:40</td>\n",
              "      <td>Mukesh</td>\n",
              "      <td>Maxwell is also injured hopefully he'll get ba...</td>\n",
              "    </tr>\n",
              "  </tbody>\n",
              "</table>\n",
              "<p>199 rows × 4 columns</p>\n",
              "</div>\n",
              "      <button class=\"colab-df-convert\" onclick=\"convertToInteractive('df-188f9482-9ee1-48b8-a305-2da6fa4ca275')\"\n",
              "              title=\"Convert this dataframe to an interactive table.\"\n",
              "              style=\"display:none;\">\n",
              "        \n",
              "  <svg xmlns=\"http://www.w3.org/2000/svg\" height=\"24px\"viewBox=\"0 0 24 24\"\n",
              "       width=\"24px\">\n",
              "    <path d=\"M0 0h24v24H0V0z\" fill=\"none\"/>\n",
              "    <path d=\"M18.56 5.44l.94 2.06.94-2.06 2.06-.94-2.06-.94-.94-2.06-.94 2.06-2.06.94zm-11 1L8.5 8.5l.94-2.06 2.06-.94-2.06-.94L8.5 2.5l-.94 2.06-2.06.94zm10 10l.94 2.06.94-2.06 2.06-.94-2.06-.94-.94-2.06-.94 2.06-2.06.94z\"/><path d=\"M17.41 7.96l-1.37-1.37c-.4-.4-.92-.59-1.43-.59-.52 0-1.04.2-1.43.59L10.3 9.45l-7.72 7.72c-.78.78-.78 2.05 0 2.83L4 21.41c.39.39.9.59 1.41.59.51 0 1.02-.2 1.41-.59l7.78-7.78 2.81-2.81c.8-.78.8-2.07 0-2.86zM5.41 20L4 18.59l7.72-7.72 1.47 1.35L5.41 20z\"/>\n",
              "  </svg>\n",
              "      </button>\n",
              "      \n",
              "  <style>\n",
              "    .colab-df-container {\n",
              "      display:flex;\n",
              "      flex-wrap:wrap;\n",
              "      gap: 12px;\n",
              "    }\n",
              "\n",
              "    .colab-df-convert {\n",
              "      background-color: #E8F0FE;\n",
              "      border: none;\n",
              "      border-radius: 50%;\n",
              "      cursor: pointer;\n",
              "      display: none;\n",
              "      fill: #1967D2;\n",
              "      height: 32px;\n",
              "      padding: 0 0 0 0;\n",
              "      width: 32px;\n",
              "    }\n",
              "\n",
              "    .colab-df-convert:hover {\n",
              "      background-color: #E2EBFA;\n",
              "      box-shadow: 0px 1px 2px rgba(60, 64, 67, 0.3), 0px 1px 3px 1px rgba(60, 64, 67, 0.15);\n",
              "      fill: #174EA6;\n",
              "    }\n",
              "\n",
              "    [theme=dark] .colab-df-convert {\n",
              "      background-color: #3B4455;\n",
              "      fill: #D2E3FC;\n",
              "    }\n",
              "\n",
              "    [theme=dark] .colab-df-convert:hover {\n",
              "      background-color: #434B5C;\n",
              "      box-shadow: 0px 1px 3px 1px rgba(0, 0, 0, 0.15);\n",
              "      filter: drop-shadow(0px 1px 2px rgba(0, 0, 0, 0.3));\n",
              "      fill: #FFFFFF;\n",
              "    }\n",
              "  </style>\n",
              "\n",
              "      <script>\n",
              "        const buttonEl =\n",
              "          document.querySelector('#df-188f9482-9ee1-48b8-a305-2da6fa4ca275 button.colab-df-convert');\n",
              "        buttonEl.style.display =\n",
              "          google.colab.kernel.accessAllowed ? 'block' : 'none';\n",
              "\n",
              "        async function convertToInteractive(key) {\n",
              "          const element = document.querySelector('#df-188f9482-9ee1-48b8-a305-2da6fa4ca275');\n",
              "          const dataTable =\n",
              "            await google.colab.kernel.invokeFunction('convertToInteractive',\n",
              "                                                     [key], {});\n",
              "          if (!dataTable) return;\n",
              "\n",
              "          const docLinkHtml = 'Like what you see? Visit the ' +\n",
              "            '<a target=\"_blank\" href=https://colab.research.google.com/notebooks/data_table.ipynb>data table notebook</a>'\n",
              "            + ' to learn more about interactive tables.';\n",
              "          element.innerHTML = '';\n",
              "          dataTable['output_type'] = 'display_data';\n",
              "          await google.colab.output.renderOutput(dataTable, element);\n",
              "          const docLink = document.createElement('div');\n",
              "          docLink.innerHTML = docLinkHtml;\n",
              "          element.appendChild(docLink);\n",
              "        }\n",
              "      </script>\n",
              "    </div>\n",
              "  </div>\n",
              "  "
            ]
          },
          "metadata": {},
          "execution_count": 9
        }
      ]
    },
    {
      "cell_type": "code",
      "source": [
        "### Droping Nan values from dataset\n",
        "df = df.dropna()\n",
        "df = df.reset_index(drop=True)\n",
        "df.shape"
      ],
      "metadata": {
        "colab": {
          "base_uri": "https://localhost:8080/"
        },
        "id": "hUT5goNDLVwf",
        "outputId": "00ef7b43-4014-40ee-e128-345febc8ff9c"
      },
      "execution_count": null,
      "outputs": [
        {
          "output_type": "execute_result",
          "data": {
            "text/plain": [
              "(196, 4)"
            ]
          },
          "metadata": {},
          "execution_count": 10
        }
      ]
    },
    {
      "cell_type": "code",
      "source": [
        "df.head(50)"
      ],
      "metadata": {
        "colab": {
          "base_uri": "https://localhost:8080/",
          "height": 1000
        },
        "id": "8UnhGbSnLdgS",
        "outputId": "56f15d82-c064-40f9-bbeb-986ddd7e2b8d"
      },
      "execution_count": null,
      "outputs": [
        {
          "output_type": "execute_result",
          "data": {
            "text/plain": [
              "         Date   Time          Author  \\\n",
              "0  2022-12-26  19:45          Mukesh   \n",
              "1  2022-12-26  19:46  Koushik Itachi   \n",
              "2  2022-12-26  19:46    Aanandh Sret   \n",
              "3  2022-12-26  19:46          Mukesh   \n",
              "4  2022-12-26  19:46    Aanandh Sret   \n",
              "5  2022-12-26  19:47         Udhayan   \n",
              "6  2022-12-26  19:47         Udhayan   \n",
              "7  2022-12-26  19:47  Koushik Itachi   \n",
              "8  2022-12-26  19:48          Mukesh   \n",
              "9  2022-12-26  19:49  Koushik Itachi   \n",
              "10 2022-12-26  19:49    Aanandh Sret   \n",
              "11 2022-12-26  19:50         Udhayan   \n",
              "12 2022-12-26  19:51          Mukesh   \n",
              "13 2022-12-26  19:52    Aanandh Sret   \n",
              "14 2022-12-26  19:53          Mukesh   \n",
              "15 2022-12-26  19:53    Aanandh Sret   \n",
              "16 2022-12-26  19:54          Mukesh   \n",
              "17 2022-12-26  19:55    Aanandh Sret   \n",
              "18 2022-12-26  19:55    Aanandh Sret   \n",
              "19 2022-12-26  19:56         Udhayan   \n",
              "20 2022-12-26  19:57          Mukesh   \n",
              "21 2022-12-26  19:58    Aanandh Sret   \n",
              "22 2022-12-26  19:58  Koushik Itachi   \n",
              "23 2022-12-26  19:58    Aanandh Sret   \n",
              "24 2022-12-26  19:59          Mukesh   \n",
              "25 2022-12-26  20:01         Udhayan   \n",
              "26 2022-12-26  20:03    Aanandh Sret   \n",
              "27 2022-12-26  20:03  Koushik Itachi   \n",
              "28 2022-12-26  20:06          Mukesh   \n",
              "29 2022-12-26  20:07  Koushik Itachi   \n",
              "30 2022-12-26  20:09    Aanandh Sret   \n",
              "31 2022-12-26  20:09    Aanandh Sret   \n",
              "32 2022-12-26  20:10          Mukesh   \n",
              "33 2022-12-27  20:31          Mukesh   \n",
              "34 2022-12-27  20:33  Koushik Itachi   \n",
              "35 2022-12-27  20:34          Mukesh   \n",
              "36 2022-12-27  20:34          Mukesh   \n",
              "37 2022-12-27  20:36    Aanandh Sret   \n",
              "38 2022-12-27  20:36  Koushik Itachi   \n",
              "39 2022-12-27  20:42          Mukesh   \n",
              "40 2022-12-27  20:42          Mukesh   \n",
              "41 2022-12-27  20:43  Koushik Itachi   \n",
              "42 2022-12-27  20:44    Aanandh Sret   \n",
              "43 2022-12-27  20:44          Mukesh   \n",
              "44 2022-12-27  20:44    Aanandh Sret   \n",
              "45 2022-12-27  20:44  Koushik Itachi   \n",
              "46 2022-12-27  20:45          Mukesh   \n",
              "47 2022-12-27  20:47    Aanandh Sret   \n",
              "48 2022-12-27  20:48  Koushik Itachi   \n",
              "49 2022-12-27  20:48    Aanandh Sret   \n",
              "\n",
              "                                              Message  \n",
              "0                                            Hii guys  \n",
              "1                                            Hii boys  \n",
              "2                                            Hii guys  \n",
              "3                                    How are you all?  \n",
              "4                                           I'm great  \n",
              "5                                                fine  \n",
              "6                                    what about you ?  \n",
              "7                                                Fine  \n",
              "8                                         doing great  \n",
              "9                             When is ipl  starting ?  \n",
              "10                                       March 2023!💥  \n",
              "11              so how did the auction go this year ?  \n",
              "12   Only few players got auctioned for higher prizes  \n",
              "13                                        Bro Price*😂  \n",
              "14                                           my bad😂😂  \n",
              "15               Which player went for highest price?  \n",
              "16  The highest bid was taken by punjab kings for ...  \n",
              "17                                                 ⚡⚡  \n",
              "18                      He went for around 19c right?  \n",
              "19          to be exact he was bided  for 18.5 crores  \n",
              "20                                    No 18.5 crores💪  \n",
              "21                                              Fine!  \n",
              "22  Curran's selling price surpassed the record se...  \n",
              "23                                           Great 👍🏻  \n",
              "24            Sam curren is not worth for 18.5 crores  \n",
              "25  yea his batting form was not good in the last ...  \n",
              "26  Yes correct, ben stokes deserves much price th...  \n",
              "27                                         I agree 👍💯  \n",
              "28  Cameron Green also crossed the mark with MI ag...  \n",
              "29  West Indies’ Nicholas Pooran became the most e...  \n",
              "30  I guess Cameron green is overrated , since we ...  \n",
              "31                                                He*  \n",
              "32  Already LSG have a very good wicket keeping ba...  \n",
              "33  Guys what's your prediction on this year's ora...  \n",
              "34  I think kl Rahul will win orange cap and kagis...  \n",
              "35                    No kl rahul is not in good form  \n",
              "36            I think Kohli will win the orange cap💪🔥  \n",
              "37                               I guess devon Conway  \n",
              "38                                                💥🔥🔥  \n",
              "39  yeah I'll also agree.. Because last year he di...  \n",
              "40                                                  💥  \n",
              "41                  guys any guesses for purple cap ?  \n",
              "42                                              Bhuvi  \n",
              "43            I think sam curren will win purple cap💪  \n",
              "44                                               Nope  \n",
              "45                                                 🔥🔥  \n",
              "46  bhuvi only takes initial wickets in the power ...  \n",
              "47                                                 🤔🤔  \n",
              "48  Who will be underperformer of the upcoming sea...  \n",
              "49                                       Rohit Sharma  "
            ],
            "text/html": [
              "\n",
              "  <div id=\"df-78fb87ef-f8c3-4ceb-af44-f2971b946ba0\">\n",
              "    <div class=\"colab-df-container\">\n",
              "      <div>\n",
              "<style scoped>\n",
              "    .dataframe tbody tr th:only-of-type {\n",
              "        vertical-align: middle;\n",
              "    }\n",
              "\n",
              "    .dataframe tbody tr th {\n",
              "        vertical-align: top;\n",
              "    }\n",
              "\n",
              "    .dataframe thead th {\n",
              "        text-align: right;\n",
              "    }\n",
              "</style>\n",
              "<table border=\"1\" class=\"dataframe\">\n",
              "  <thead>\n",
              "    <tr style=\"text-align: right;\">\n",
              "      <th></th>\n",
              "      <th>Date</th>\n",
              "      <th>Time</th>\n",
              "      <th>Author</th>\n",
              "      <th>Message</th>\n",
              "    </tr>\n",
              "  </thead>\n",
              "  <tbody>\n",
              "    <tr>\n",
              "      <th>0</th>\n",
              "      <td>2022-12-26</td>\n",
              "      <td>19:45</td>\n",
              "      <td>Mukesh</td>\n",
              "      <td>Hii guys</td>\n",
              "    </tr>\n",
              "    <tr>\n",
              "      <th>1</th>\n",
              "      <td>2022-12-26</td>\n",
              "      <td>19:46</td>\n",
              "      <td>Koushik Itachi</td>\n",
              "      <td>Hii boys</td>\n",
              "    </tr>\n",
              "    <tr>\n",
              "      <th>2</th>\n",
              "      <td>2022-12-26</td>\n",
              "      <td>19:46</td>\n",
              "      <td>Aanandh Sret</td>\n",
              "      <td>Hii guys</td>\n",
              "    </tr>\n",
              "    <tr>\n",
              "      <th>3</th>\n",
              "      <td>2022-12-26</td>\n",
              "      <td>19:46</td>\n",
              "      <td>Mukesh</td>\n",
              "      <td>How are you all?</td>\n",
              "    </tr>\n",
              "    <tr>\n",
              "      <th>4</th>\n",
              "      <td>2022-12-26</td>\n",
              "      <td>19:46</td>\n",
              "      <td>Aanandh Sret</td>\n",
              "      <td>I'm great</td>\n",
              "    </tr>\n",
              "    <tr>\n",
              "      <th>5</th>\n",
              "      <td>2022-12-26</td>\n",
              "      <td>19:47</td>\n",
              "      <td>Udhayan</td>\n",
              "      <td>fine</td>\n",
              "    </tr>\n",
              "    <tr>\n",
              "      <th>6</th>\n",
              "      <td>2022-12-26</td>\n",
              "      <td>19:47</td>\n",
              "      <td>Udhayan</td>\n",
              "      <td>what about you ?</td>\n",
              "    </tr>\n",
              "    <tr>\n",
              "      <th>7</th>\n",
              "      <td>2022-12-26</td>\n",
              "      <td>19:47</td>\n",
              "      <td>Koushik Itachi</td>\n",
              "      <td>Fine</td>\n",
              "    </tr>\n",
              "    <tr>\n",
              "      <th>8</th>\n",
              "      <td>2022-12-26</td>\n",
              "      <td>19:48</td>\n",
              "      <td>Mukesh</td>\n",
              "      <td>doing great</td>\n",
              "    </tr>\n",
              "    <tr>\n",
              "      <th>9</th>\n",
              "      <td>2022-12-26</td>\n",
              "      <td>19:49</td>\n",
              "      <td>Koushik Itachi</td>\n",
              "      <td>When is ipl  starting ?</td>\n",
              "    </tr>\n",
              "    <tr>\n",
              "      <th>10</th>\n",
              "      <td>2022-12-26</td>\n",
              "      <td>19:49</td>\n",
              "      <td>Aanandh Sret</td>\n",
              "      <td>March 2023!💥</td>\n",
              "    </tr>\n",
              "    <tr>\n",
              "      <th>11</th>\n",
              "      <td>2022-12-26</td>\n",
              "      <td>19:50</td>\n",
              "      <td>Udhayan</td>\n",
              "      <td>so how did the auction go this year ?</td>\n",
              "    </tr>\n",
              "    <tr>\n",
              "      <th>12</th>\n",
              "      <td>2022-12-26</td>\n",
              "      <td>19:51</td>\n",
              "      <td>Mukesh</td>\n",
              "      <td>Only few players got auctioned for higher prizes</td>\n",
              "    </tr>\n",
              "    <tr>\n",
              "      <th>13</th>\n",
              "      <td>2022-12-26</td>\n",
              "      <td>19:52</td>\n",
              "      <td>Aanandh Sret</td>\n",
              "      <td>Bro Price*😂</td>\n",
              "    </tr>\n",
              "    <tr>\n",
              "      <th>14</th>\n",
              "      <td>2022-12-26</td>\n",
              "      <td>19:53</td>\n",
              "      <td>Mukesh</td>\n",
              "      <td>my bad😂😂</td>\n",
              "    </tr>\n",
              "    <tr>\n",
              "      <th>15</th>\n",
              "      <td>2022-12-26</td>\n",
              "      <td>19:53</td>\n",
              "      <td>Aanandh Sret</td>\n",
              "      <td>Which player went for highest price?</td>\n",
              "    </tr>\n",
              "    <tr>\n",
              "      <th>16</th>\n",
              "      <td>2022-12-26</td>\n",
              "      <td>19:54</td>\n",
              "      <td>Mukesh</td>\n",
              "      <td>The highest bid was taken by punjab kings for ...</td>\n",
              "    </tr>\n",
              "    <tr>\n",
              "      <th>17</th>\n",
              "      <td>2022-12-26</td>\n",
              "      <td>19:55</td>\n",
              "      <td>Aanandh Sret</td>\n",
              "      <td>⚡⚡</td>\n",
              "    </tr>\n",
              "    <tr>\n",
              "      <th>18</th>\n",
              "      <td>2022-12-26</td>\n",
              "      <td>19:55</td>\n",
              "      <td>Aanandh Sret</td>\n",
              "      <td>He went for around 19c right?</td>\n",
              "    </tr>\n",
              "    <tr>\n",
              "      <th>19</th>\n",
              "      <td>2022-12-26</td>\n",
              "      <td>19:56</td>\n",
              "      <td>Udhayan</td>\n",
              "      <td>to be exact he was bided  for 18.5 crores</td>\n",
              "    </tr>\n",
              "    <tr>\n",
              "      <th>20</th>\n",
              "      <td>2022-12-26</td>\n",
              "      <td>19:57</td>\n",
              "      <td>Mukesh</td>\n",
              "      <td>No 18.5 crores💪</td>\n",
              "    </tr>\n",
              "    <tr>\n",
              "      <th>21</th>\n",
              "      <td>2022-12-26</td>\n",
              "      <td>19:58</td>\n",
              "      <td>Aanandh Sret</td>\n",
              "      <td>Fine!</td>\n",
              "    </tr>\n",
              "    <tr>\n",
              "      <th>22</th>\n",
              "      <td>2022-12-26</td>\n",
              "      <td>19:58</td>\n",
              "      <td>Koushik Itachi</td>\n",
              "      <td>Curran's selling price surpassed the record se...</td>\n",
              "    </tr>\n",
              "    <tr>\n",
              "      <th>23</th>\n",
              "      <td>2022-12-26</td>\n",
              "      <td>19:58</td>\n",
              "      <td>Aanandh Sret</td>\n",
              "      <td>Great 👍🏻</td>\n",
              "    </tr>\n",
              "    <tr>\n",
              "      <th>24</th>\n",
              "      <td>2022-12-26</td>\n",
              "      <td>19:59</td>\n",
              "      <td>Mukesh</td>\n",
              "      <td>Sam curren is not worth for 18.5 crores</td>\n",
              "    </tr>\n",
              "    <tr>\n",
              "      <th>25</th>\n",
              "      <td>2022-12-26</td>\n",
              "      <td>20:01</td>\n",
              "      <td>Udhayan</td>\n",
              "      <td>yea his batting form was not good in the last ...</td>\n",
              "    </tr>\n",
              "    <tr>\n",
              "      <th>26</th>\n",
              "      <td>2022-12-26</td>\n",
              "      <td>20:03</td>\n",
              "      <td>Aanandh Sret</td>\n",
              "      <td>Yes correct, ben stokes deserves much price th...</td>\n",
              "    </tr>\n",
              "    <tr>\n",
              "      <th>27</th>\n",
              "      <td>2022-12-26</td>\n",
              "      <td>20:03</td>\n",
              "      <td>Koushik Itachi</td>\n",
              "      <td>I agree 👍💯</td>\n",
              "    </tr>\n",
              "    <tr>\n",
              "      <th>28</th>\n",
              "      <td>2022-12-26</td>\n",
              "      <td>20:06</td>\n",
              "      <td>Mukesh</td>\n",
              "      <td>Cameron Green also crossed the mark with MI ag...</td>\n",
              "    </tr>\n",
              "    <tr>\n",
              "      <th>29</th>\n",
              "      <td>2022-12-26</td>\n",
              "      <td>20:07</td>\n",
              "      <td>Koushik Itachi</td>\n",
              "      <td>West Indies’ Nicholas Pooran became the most e...</td>\n",
              "    </tr>\n",
              "    <tr>\n",
              "      <th>30</th>\n",
              "      <td>2022-12-26</td>\n",
              "      <td>20:09</td>\n",
              "      <td>Aanandh Sret</td>\n",
              "      <td>I guess Cameron green is overrated , since we ...</td>\n",
              "    </tr>\n",
              "    <tr>\n",
              "      <th>31</th>\n",
              "      <td>2022-12-26</td>\n",
              "      <td>20:09</td>\n",
              "      <td>Aanandh Sret</td>\n",
              "      <td>He*</td>\n",
              "    </tr>\n",
              "    <tr>\n",
              "      <th>32</th>\n",
              "      <td>2022-12-26</td>\n",
              "      <td>20:10</td>\n",
              "      <td>Mukesh</td>\n",
              "      <td>Already LSG have a very good wicket keeping ba...</td>\n",
              "    </tr>\n",
              "    <tr>\n",
              "      <th>33</th>\n",
              "      <td>2022-12-27</td>\n",
              "      <td>20:31</td>\n",
              "      <td>Mukesh</td>\n",
              "      <td>Guys what's your prediction on this year's ora...</td>\n",
              "    </tr>\n",
              "    <tr>\n",
              "      <th>34</th>\n",
              "      <td>2022-12-27</td>\n",
              "      <td>20:33</td>\n",
              "      <td>Koushik Itachi</td>\n",
              "      <td>I think kl Rahul will win orange cap and kagis...</td>\n",
              "    </tr>\n",
              "    <tr>\n",
              "      <th>35</th>\n",
              "      <td>2022-12-27</td>\n",
              "      <td>20:34</td>\n",
              "      <td>Mukesh</td>\n",
              "      <td>No kl rahul is not in good form</td>\n",
              "    </tr>\n",
              "    <tr>\n",
              "      <th>36</th>\n",
              "      <td>2022-12-27</td>\n",
              "      <td>20:34</td>\n",
              "      <td>Mukesh</td>\n",
              "      <td>I think Kohli will win the orange cap💪🔥</td>\n",
              "    </tr>\n",
              "    <tr>\n",
              "      <th>37</th>\n",
              "      <td>2022-12-27</td>\n",
              "      <td>20:36</td>\n",
              "      <td>Aanandh Sret</td>\n",
              "      <td>I guess devon Conway</td>\n",
              "    </tr>\n",
              "    <tr>\n",
              "      <th>38</th>\n",
              "      <td>2022-12-27</td>\n",
              "      <td>20:36</td>\n",
              "      <td>Koushik Itachi</td>\n",
              "      <td>💥🔥🔥</td>\n",
              "    </tr>\n",
              "    <tr>\n",
              "      <th>39</th>\n",
              "      <td>2022-12-27</td>\n",
              "      <td>20:42</td>\n",
              "      <td>Mukesh</td>\n",
              "      <td>yeah I'll also agree.. Because last year he di...</td>\n",
              "    </tr>\n",
              "    <tr>\n",
              "      <th>40</th>\n",
              "      <td>2022-12-27</td>\n",
              "      <td>20:42</td>\n",
              "      <td>Mukesh</td>\n",
              "      <td>💥</td>\n",
              "    </tr>\n",
              "    <tr>\n",
              "      <th>41</th>\n",
              "      <td>2022-12-27</td>\n",
              "      <td>20:43</td>\n",
              "      <td>Koushik Itachi</td>\n",
              "      <td>guys any guesses for purple cap ?</td>\n",
              "    </tr>\n",
              "    <tr>\n",
              "      <th>42</th>\n",
              "      <td>2022-12-27</td>\n",
              "      <td>20:44</td>\n",
              "      <td>Aanandh Sret</td>\n",
              "      <td>Bhuvi</td>\n",
              "    </tr>\n",
              "    <tr>\n",
              "      <th>43</th>\n",
              "      <td>2022-12-27</td>\n",
              "      <td>20:44</td>\n",
              "      <td>Mukesh</td>\n",
              "      <td>I think sam curren will win purple cap💪</td>\n",
              "    </tr>\n",
              "    <tr>\n",
              "      <th>44</th>\n",
              "      <td>2022-12-27</td>\n",
              "      <td>20:44</td>\n",
              "      <td>Aanandh Sret</td>\n",
              "      <td>Nope</td>\n",
              "    </tr>\n",
              "    <tr>\n",
              "      <th>45</th>\n",
              "      <td>2022-12-27</td>\n",
              "      <td>20:44</td>\n",
              "      <td>Koushik Itachi</td>\n",
              "      <td>🔥🔥</td>\n",
              "    </tr>\n",
              "    <tr>\n",
              "      <th>46</th>\n",
              "      <td>2022-12-27</td>\n",
              "      <td>20:45</td>\n",
              "      <td>Mukesh</td>\n",
              "      <td>bhuvi only takes initial wickets in the power ...</td>\n",
              "    </tr>\n",
              "    <tr>\n",
              "      <th>47</th>\n",
              "      <td>2022-12-27</td>\n",
              "      <td>20:47</td>\n",
              "      <td>Aanandh Sret</td>\n",
              "      <td>🤔🤔</td>\n",
              "    </tr>\n",
              "    <tr>\n",
              "      <th>48</th>\n",
              "      <td>2022-12-27</td>\n",
              "      <td>20:48</td>\n",
              "      <td>Koushik Itachi</td>\n",
              "      <td>Who will be underperformer of the upcoming sea...</td>\n",
              "    </tr>\n",
              "    <tr>\n",
              "      <th>49</th>\n",
              "      <td>2022-12-27</td>\n",
              "      <td>20:48</td>\n",
              "      <td>Aanandh Sret</td>\n",
              "      <td>Rohit Sharma</td>\n",
              "    </tr>\n",
              "  </tbody>\n",
              "</table>\n",
              "</div>\n",
              "      <button class=\"colab-df-convert\" onclick=\"convertToInteractive('df-78fb87ef-f8c3-4ceb-af44-f2971b946ba0')\"\n",
              "              title=\"Convert this dataframe to an interactive table.\"\n",
              "              style=\"display:none;\">\n",
              "        \n",
              "  <svg xmlns=\"http://www.w3.org/2000/svg\" height=\"24px\"viewBox=\"0 0 24 24\"\n",
              "       width=\"24px\">\n",
              "    <path d=\"M0 0h24v24H0V0z\" fill=\"none\"/>\n",
              "    <path d=\"M18.56 5.44l.94 2.06.94-2.06 2.06-.94-2.06-.94-.94-2.06-.94 2.06-2.06.94zm-11 1L8.5 8.5l.94-2.06 2.06-.94-2.06-.94L8.5 2.5l-.94 2.06-2.06.94zm10 10l.94 2.06.94-2.06 2.06-.94-2.06-.94-.94-2.06-.94 2.06-2.06.94z\"/><path d=\"M17.41 7.96l-1.37-1.37c-.4-.4-.92-.59-1.43-.59-.52 0-1.04.2-1.43.59L10.3 9.45l-7.72 7.72c-.78.78-.78 2.05 0 2.83L4 21.41c.39.39.9.59 1.41.59.51 0 1.02-.2 1.41-.59l7.78-7.78 2.81-2.81c.8-.78.8-2.07 0-2.86zM5.41 20L4 18.59l7.72-7.72 1.47 1.35L5.41 20z\"/>\n",
              "  </svg>\n",
              "      </button>\n",
              "      \n",
              "  <style>\n",
              "    .colab-df-container {\n",
              "      display:flex;\n",
              "      flex-wrap:wrap;\n",
              "      gap: 12px;\n",
              "    }\n",
              "\n",
              "    .colab-df-convert {\n",
              "      background-color: #E8F0FE;\n",
              "      border: none;\n",
              "      border-radius: 50%;\n",
              "      cursor: pointer;\n",
              "      display: none;\n",
              "      fill: #1967D2;\n",
              "      height: 32px;\n",
              "      padding: 0 0 0 0;\n",
              "      width: 32px;\n",
              "    }\n",
              "\n",
              "    .colab-df-convert:hover {\n",
              "      background-color: #E2EBFA;\n",
              "      box-shadow: 0px 1px 2px rgba(60, 64, 67, 0.3), 0px 1px 3px 1px rgba(60, 64, 67, 0.15);\n",
              "      fill: #174EA6;\n",
              "    }\n",
              "\n",
              "    [theme=dark] .colab-df-convert {\n",
              "      background-color: #3B4455;\n",
              "      fill: #D2E3FC;\n",
              "    }\n",
              "\n",
              "    [theme=dark] .colab-df-convert:hover {\n",
              "      background-color: #434B5C;\n",
              "      box-shadow: 0px 1px 3px 1px rgba(0, 0, 0, 0.15);\n",
              "      filter: drop-shadow(0px 1px 2px rgba(0, 0, 0, 0.3));\n",
              "      fill: #FFFFFF;\n",
              "    }\n",
              "  </style>\n",
              "\n",
              "      <script>\n",
              "        const buttonEl =\n",
              "          document.querySelector('#df-78fb87ef-f8c3-4ceb-af44-f2971b946ba0 button.colab-df-convert');\n",
              "        buttonEl.style.display =\n",
              "          google.colab.kernel.accessAllowed ? 'block' : 'none';\n",
              "\n",
              "        async function convertToInteractive(key) {\n",
              "          const element = document.querySelector('#df-78fb87ef-f8c3-4ceb-af44-f2971b946ba0');\n",
              "          const dataTable =\n",
              "            await google.colab.kernel.invokeFunction('convertToInteractive',\n",
              "                                                     [key], {});\n",
              "          if (!dataTable) return;\n",
              "\n",
              "          const docLinkHtml = 'Like what you see? Visit the ' +\n",
              "            '<a target=\"_blank\" href=https://colab.research.google.com/notebooks/data_table.ipynb>data table notebook</a>'\n",
              "            + ' to learn more about interactive tables.';\n",
              "          element.innerHTML = '';\n",
              "          dataTable['output_type'] = 'display_data';\n",
              "          await google.colab.output.renderOutput(dataTable, element);\n",
              "          const docLink = document.createElement('div');\n",
              "          docLink.innerHTML = docLinkHtml;\n",
              "          element.appendChild(docLink);\n",
              "        }\n",
              "      </script>\n",
              "    </div>\n",
              "  </div>\n",
              "  "
            ]
          },
          "metadata": {},
          "execution_count": 11
        }
      ]
    },
    {
      "cell_type": "code",
      "source": [
        "#writing to csv file\n",
        "dataFrame = pd.DataFrame(df)\n",
        "print(\"DataFrame...\\n\",dataFrame)\n",
        "\n",
        "\n",
        "dataFrame.to_csv(\"/content/drive/MyDrive/Internship /IPL/data.csv\")"
      ],
      "metadata": {
        "colab": {
          "base_uri": "https://localhost:8080/"
        },
        "id": "zk4GebC8prB0",
        "outputId": "bc2c75c6-ecbf-4520-971e-1e154a0f9878"
      },
      "execution_count": null,
      "outputs": [
        {
          "output_type": "stream",
          "name": "stdout",
          "text": [
            "DataFrame...\n",
            "           Date   Time          Author  \\\n",
            "0   2022-12-26  19:45          Mukesh   \n",
            "1   2022-12-26  19:46  Koushik Itachi   \n",
            "2   2022-12-26  19:46    Aanandh Sret   \n",
            "3   2022-12-26  19:46          Mukesh   \n",
            "4   2022-12-26  19:46    Aanandh Sret   \n",
            "..         ...    ...             ...   \n",
            "191 2023-01-01  22:38          Mukesh   \n",
            "192 2023-01-01  22:38          Mukesh   \n",
            "193 2023-01-01  22:39          Mukesh   \n",
            "194 2023-01-01  22:39  Koushik Itachi   \n",
            "195 2023-01-01  22:40          Mukesh   \n",
            "\n",
            "                                               Message  \n",
            "0                                             Hii guys  \n",
            "1                                             Hii boys  \n",
            "2                                             Hii guys  \n",
            "3                                     How are you all?  \n",
            "4                                            I'm great  \n",
            "..                                                 ...  \n",
            "191  and also a very good batsman for back up Will ...  \n",
            "192  yeah but i think most probably he'll play till...  \n",
            "193                        Hope he does will till then  \n",
            "194                                               Yeah  \n",
            "195  Maxwell is also injured hopefully he'll get ba...  \n",
            "\n",
            "[196 rows x 4 columns]\n"
          ]
        }
      ]
    },
    {
      "cell_type": "code",
      "source": [
        "### Checking no. of null values in dataset\n",
        "df.isnull().sum()"
      ],
      "metadata": {
        "colab": {
          "base_uri": "https://localhost:8080/"
        },
        "id": "GqMgsC_XJmA2",
        "outputId": "75a85f06-bcbc-45be-8c5b-eb9a5703c10d"
      },
      "execution_count": null,
      "outputs": [
        {
          "output_type": "execute_result",
          "data": {
            "text/plain": [
              "Date       0\n",
              "Time       0\n",
              "Author     0\n",
              "Message    0\n",
              "dtype: int64"
            ]
          },
          "metadata": {},
          "execution_count": 13
        }
      ]
    },
    {
      "cell_type": "code",
      "source": [],
      "metadata": {
        "id": "STYXjrrxe7uA"
      },
      "execution_count": null,
      "outputs": []
    },
    {
      "cell_type": "code",
      "source": [
        "### Checking no. of authors of group\n",
        "df['Author'].nunique()\n"
      ],
      "metadata": {
        "colab": {
          "base_uri": "https://localhost:8080/"
        },
        "id": "53P1JXt3JRWz",
        "outputId": "9201b4f8-efaa-473e-db3c-98db35176cc3"
      },
      "execution_count": null,
      "outputs": [
        {
          "output_type": "execute_result",
          "data": {
            "text/plain": [
              "4"
            ]
          },
          "metadata": {},
          "execution_count": 14
        }
      ]
    },
    {
      "cell_type": "code",
      "source": [
        "### Checking authors of group\n",
        "print(df.Author.unique())"
      ],
      "metadata": {
        "colab": {
          "base_uri": "https://localhost:8080/"
        },
        "id": "QYj6T61sLv5_",
        "outputId": "39c7cb7e-df0f-4e95-cf90-c1a87b33b439"
      },
      "execution_count": null,
      "outputs": [
        {
          "output_type": "stream",
          "name": "stdout",
          "text": [
            "['Mukesh' 'Koushik Itachi' 'Aanandh Sret' 'Udhayan']\n"
          ]
        }
      ]
    },
    {
      "cell_type": "code",
      "source": [
        "total_messages = df.shape[0]\n",
        "print(total_messages)"
      ],
      "metadata": {
        "colab": {
          "base_uri": "https://localhost:8080/"
        },
        "id": "DelE7GlefnwG",
        "outputId": "14e8e444-074a-4339-a4be-df99ebac28f7"
      },
      "execution_count": null,
      "outputs": [
        {
          "output_type": "stream",
          "name": "stdout",
          "text": [
            "196\n"
          ]
        }
      ]
    },
    {
      "cell_type": "code",
      "source": [
        "media_messages = df[df[\"Message\"]=='<Media omitted>'].shape[0]\n",
        "print(media_messages)"
      ],
      "metadata": {
        "colab": {
          "base_uri": "https://localhost:8080/"
        },
        "id": "chsnbtp6e6y-",
        "outputId": "399c2c27-f310-4e12-f375-f46ff070e141"
      },
      "execution_count": null,
      "outputs": [
        {
          "output_type": "stream",
          "name": "stdout",
          "text": [
            "3\n"
          ]
        }
      ]
    },
    {
      "cell_type": "code",
      "source": [
        "URLPATTERN = r'(https?://(?:[-\\w.]|(?:%[\\da-fA-F]{2}))+)'\n",
        "df['urlcount'] = df.Message.apply(lambda x: regex.findall(URLPATTERN, x)).str.len()\n",
        "links = np.sum(df.urlcount)\n",
        "\n",
        "print(\"IPL\")\n",
        "print(\"Total Messages: \", total_messages)\n",
        "print(\"Number of Media Shared: \", media_messages)\n",
        "\n",
        "print(\"Number of Links Shared\", links)"
      ],
      "metadata": {
        "colab": {
          "base_uri": "https://localhost:8080/"
        },
        "id": "hKdv5-BnlGsf",
        "outputId": "02a92dc8-508c-4b53-ed53-7638fb95a1fc"
      },
      "execution_count": null,
      "outputs": [
        {
          "output_type": "stream",
          "name": "stdout",
          "text": [
            "IPL\n",
            "Total Messages:  196\n",
            "Number of Media Shared:  3\n",
            "Number of Links Shared 0\n"
          ]
        }
      ]
    },
    {
      "cell_type": "code",
      "source": [
        "#Most active\n",
        "Toppers = df['Author'].value_counts()\n",
        "Toppers.plot(kind='bar')\n",
        "plt.title(\"Most active\")"
      ],
      "metadata": {
        "colab": {
          "base_uri": "https://localhost:8080/",
          "height": 358
        },
        "id": "GdcDdXa_-IDQ",
        "outputId": "dd96c863-760f-47c1-875e-07b7c1fb3626"
      },
      "execution_count": null,
      "outputs": [
        {
          "output_type": "execute_result",
          "data": {
            "text/plain": [
              "Text(0.5, 1.0, 'Most active')"
            ]
          },
          "metadata": {},
          "execution_count": 19
        },
        {
          "output_type": "display_data",
          "data": {
            "text/plain": [
              "<Figure size 432x288 with 1 Axes>"
            ],
            "image/png": "[encoded data removed]"
          },
          "metadata": {
            "needs_background": "light"
          }
        }
      ]
    },
    {
      "cell_type": "code",
      "source": [
        "MediaValues = df[df['Message'] == '<Media omitted>']\n",
        "MediaValues"
      ],
      "metadata": {
        "id": "ApFdYa2Mgfwv",
        "colab": {
          "base_uri": "https://localhost:8080/",
          "height": 143
        },
        "outputId": "f832ae3c-f21b-49a2-ea1e-6a40b834045c"
      },
      "execution_count": null,
      "outputs": [
        {
          "output_type": "execute_result",
          "data": {
            "text/plain": [
              "          Date   Time  Author          Message  urlcount\n",
              "67  2022-12-28  20:33  Mukesh  <Media omitted>         0\n",
              "76  2022-12-28  20:36  Mukesh  <Media omitted>         0\n",
              "169 2023-01-01  11:55  Mukesh  <Media omitted>         0"
            ],
            "text/html": [
              "\n",
              "  <div id=\"df-e48b2f29-cb2c-4457-a5b2-d5e907d488b8\">\n",
              "    <div class=\"colab-df-container\">\n",
              "      <div>\n",
              "<style scoped>\n",
              "    .dataframe tbody tr th:only-of-type {\n",
              "        vertical-align: middle;\n",
              "    }\n",
              "\n",
              "    .dataframe tbody tr th {\n",
              "        vertical-align: top;\n",
              "    }\n",
              "\n",
              "    .dataframe thead th {\n",
              "        text-align: right;\n",
              "    }\n",
              "</style>\n",
              "<table border=\"1\" class=\"dataframe\">\n",
              "  <thead>\n",
              "    <tr style=\"text-align: right;\">\n",
              "      <th></th>\n",
              "      <th>Date</th>\n",
              "      <th>Time</th>\n",
              "      <th>Author</th>\n",
              "      <th>Message</th>\n",
              "      <th>urlcount</th>\n",
              "    </tr>\n",
              "  </thead>\n",
              "  <tbody>\n",
              "    <tr>\n",
              "      <th>67</th>\n",
              "      <td>2022-12-28</td>\n",
              "      <td>20:33</td>\n",
              "      <td>Mukesh</td>\n",
              "      <td>&lt;Media omitted&gt;</td>\n",
              "      <td>0</td>\n",
              "    </tr>\n",
              "    <tr>\n",
              "      <th>76</th>\n",
              "      <td>2022-12-28</td>\n",
              "      <td>20:36</td>\n",
              "      <td>Mukesh</td>\n",
              "      <td>&lt;Media omitted&gt;</td>\n",
              "      <td>0</td>\n",
              "    </tr>\n",
              "    <tr>\n",
              "      <th>169</th>\n",
              "      <td>2023-01-01</td>\n",
              "      <td>11:55</td>\n",
              "      <td>Mukesh</td>\n",
              "      <td>&lt;Media omitted&gt;</td>\n",
              "      <td>0</td>\n",
              "    </tr>\n",
              "  </tbody>\n",
              "</table>\n",
              "</div>\n",
              "      <button class=\"colab-df-convert\" onclick=\"convertToInteractive('df-e48b2f29-cb2c-4457-a5b2-d5e907d488b8')\"\n",
              "              title=\"Convert this dataframe to an interactive table.\"\n",
              "              style=\"display:none;\">\n",
              "        \n",
              "  <svg xmlns=\"http://www.w3.org/2000/svg\" height=\"24px\"viewBox=\"0 0 24 24\"\n",
              "       width=\"24px\">\n",
              "    <path d=\"M0 0h24v24H0V0z\" fill=\"none\"/>\n",
              "    <path d=\"M18.56 5.44l.94 2.06.94-2.06 2.06-.94-2.06-.94-.94-2.06-.94 2.06-2.06.94zm-11 1L8.5 8.5l.94-2.06 2.06-.94-2.06-.94L8.5 2.5l-.94 2.06-2.06.94zm10 10l.94 2.06.94-2.06 2.06-.94-2.06-.94-.94-2.06-.94 2.06-2.06.94z\"/><path d=\"M17.41 7.96l-1.37-1.37c-.4-.4-.92-.59-1.43-.59-.52 0-1.04.2-1.43.59L10.3 9.45l-7.72 7.72c-.78.78-.78 2.05 0 2.83L4 21.41c.39.39.9.59 1.41.59.51 0 1.02-.2 1.41-.59l7.78-7.78 2.81-2.81c.8-.78.8-2.07 0-2.86zM5.41 20L4 18.59l7.72-7.72 1.47 1.35L5.41 20z\"/>\n",
              "  </svg>\n",
              "      </button>\n",
              "      \n",
              "  <style>\n",
              "    .colab-df-container {\n",
              "      display:flex;\n",
              "      flex-wrap:wrap;\n",
              "      gap: 12px;\n",
              "    }\n",
              "\n",
              "    .colab-df-convert {\n",
              "      background-color: #E8F0FE;\n",
              "      border: none;\n",
              "      border-radius: 50%;\n",
              "      cursor: pointer;\n",
              "      display: none;\n",
              "      fill: #1967D2;\n",
              "      height: 32px;\n",
              "      padding: 0 0 0 0;\n",
              "      width: 32px;\n",
              "    }\n",
              "\n",
              "    .colab-df-convert:hover {\n",
              "      background-color: #E2EBFA;\n",
              "      box-shadow: 0px 1px 2px rgba(60, 64, 67, 0.3), 0px 1px 3px 1px rgba(60, 64, 67, 0.15);\n",
              "      fill: #174EA6;\n",
              "    }\n",
              "\n",
              "    [theme=dark] .colab-df-convert {\n",
              "      background-color: #3B4455;\n",
              "      fill: #D2E3FC;\n",
              "    }\n",
              "\n",
              "    [theme=dark] .colab-df-convert:hover {\n",
              "      background-color: #434B5C;\n",
              "      box-shadow: 0px 1px 3px 1px rgba(0, 0, 0, 0.15);\n",
              "      filter: drop-shadow(0px 1px 2px rgba(0, 0, 0, 0.3));\n",
              "      fill: #FFFFFF;\n",
              "    }\n",
              "  </style>\n",
              "\n",
              "      <script>\n",
              "        const buttonEl =\n",
              "          document.querySelector('#df-e48b2f29-cb2c-4457-a5b2-d5e907d488b8 button.colab-df-convert');\n",
              "        buttonEl.style.display =\n",
              "          google.colab.kernel.accessAllowed ? 'block' : 'none';\n",
              "\n",
              "        async function convertToInteractive(key) {\n",
              "          const element = document.querySelector('#df-e48b2f29-cb2c-4457-a5b2-d5e907d488b8');\n",
              "          const dataTable =\n",
              "            await google.colab.kernel.invokeFunction('convertToInteractive',\n",
              "                                                     [key], {});\n",
              "          if (!dataTable) return;\n",
              "\n",
              "          const docLinkHtml = 'Like what you see? Visit the ' +\n",
              "            '<a target=\"_blank\" href=https://colab.research.google.com/notebooks/data_table.ipynb>data table notebook</a>'\n",
              "            + ' to learn more about interactive tables.';\n",
              "          element.innerHTML = '';\n",
              "          dataTable['output_type'] = 'display_data';\n",
              "          await google.colab.output.renderOutput(dataTable, element);\n",
              "          const docLink = document.createElement('div');\n",
              "          docLink.innerHTML = docLinkHtml;\n",
              "          element.appendChild(docLink);\n",
              "        }\n",
              "      </script>\n",
              "    </div>\n",
              "  </div>\n",
              "  "
            ]
          },
          "metadata": {},
          "execution_count": 20
        }
      ]
    },
    {
      "cell_type": "code",
      "source": [
        "#most media sent\n",
        "MediaTopper = MediaValues['Author'].value_counts()\n",
        "MediaTopper.plot(kind='bar', color='m')\n",
        "plt.title(\"Most media sent\")"
      ],
      "metadata": {
        "colab": {
          "base_uri": "https://localhost:8080/",
          "height": 326
        },
        "id": "o8C1__v0-jMR",
        "outputId": "bbbbc970-70f0-41d7-bb76-85264042f1f1"
      },
      "execution_count": null,
      "outputs": [
        {
          "output_type": "execute_result",
          "data": {
            "text/plain": [
              "Text(0.5, 1.0, 'Most media sent')"
            ]
          },
          "metadata": {},
          "execution_count": 21
        },
        {
          "output_type": "display_data",
          "data": {
            "text/plain": [
              "<Figure size 432x288 with 1 Axes>"
            ],
            "image/png": "[encoded data removed]"
          },
          "metadata": {
            "needs_background": "light"
          }
        }
      ]
    },
    {
      "cell_type": "code",
      "source": [
        "#most active days\n",
        "TopDate = df['Date'].value_counts().head(50)\n",
        "TopDate.plot(kind='bar', color='firebrick')\n",
        "plt.title(\"Most Active Days\")"
      ],
      "metadata": {
        "colab": {
          "base_uri": "https://localhost:8080/",
          "height": 394
        },
        "id": "ZJ_ZirRw-47q",
        "outputId": "d95372b7-d982-4a6d-8b26-84f1417d6f0b"
      },
      "execution_count": null,
      "outputs": [
        {
          "output_type": "execute_result",
          "data": {
            "text/plain": [
              "Text(0.5, 1.0, 'Most Active Days')"
            ]
          },
          "metadata": {},
          "execution_count": 22
        },
        {
          "output_type": "display_data",
          "data": {
            "text/plain": [
              "<Figure size 432x288 with 1 Axes>"
            ],
            "image/png": "[encoded data removed]"
          },
          "metadata": {
            "needs_background": "light"
          }
        }
      ]
    },
    {
      "cell_type": "code",
      "source": [
        "#active hours\n",
        "df['Hour'] = df['Time'].apply(lambda a : a.split(':')[0])\n",
        "TopHours = df['Hour'].value_counts()\n",
        "TopHours = TopHours.sort_index()\n",
        "TopHours.plot(kind='bar', color='orange')\n",
        "plt.title(\"Most Active Hours\")"
      ],
      "metadata": {
        "colab": {
          "base_uri": "https://localhost:8080/",
          "height": 301
        },
        "id": "EJ_QUW5X_G6Q",
        "outputId": "b83944a3-9576-4456-e4e8-750ba59e3d38"
      },
      "execution_count": null,
      "outputs": [
        {
          "output_type": "execute_result",
          "data": {
            "text/plain": [
              "Text(0.5, 1.0, 'Most Active Hours')"
            ]
          },
          "metadata": {},
          "execution_count": 23
        },
        {
          "output_type": "display_data",
          "data": {
            "text/plain": [
              "<Figure size 432x288 with 1 Axes>"
            ],
            "image/png": "[encoded data removed]"
          },
          "metadata": {
            "needs_background": "light"
          }
        }
      ]
    },
    {
      "cell_type": "code",
      "source": [
        "df = df.drop(MediaValues.index)\n",
        "df['Letters'] = df['Message'].apply(lambda s : len(s))\n",
        "df['WordCount'] = df['Message'].apply(lambda s : len(s.split(\" \")))"
      ],
      "metadata": {
        "id": "4N9sc-jh_WBh"
      },
      "execution_count": null,
      "outputs": []
    },
    {
      "cell_type": "code",
      "source": [
        "GroupedData = df.groupby(['Author']).sum()\n",
        "LetterGroupedData = GroupedData.sort_values(by=['Letters'])\n",
        "WordGroupedData = GroupedData.sort_values(by=['WordCount'])"
      ],
      "metadata": {
        "id": "tjF82O-c_ZMY"
      },
      "execution_count": null,
      "outputs": []
    },
    {
      "cell_type": "code",
      "source": [
        "df1=GroupedData.drop(['urlcount'], axis=1)"
      ],
      "metadata": {
        "id": "DMYZVlLe_6tV"
      },
      "execution_count": null,
      "outputs": []
    },
    {
      "cell_type": "code",
      "source": [
        "df1"
      ],
      "metadata": {
        "colab": {
          "base_uri": "https://localhost:8080/",
          "height": 206
        },
        "id": "awqOsM5eAZtz",
        "outputId": "2b9def3e-f1d3-40d1-edc7-97ca322ea788"
      },
      "execution_count": null,
      "outputs": [
        {
          "output_type": "execute_result",
          "data": {
            "text/plain": [
              "                Letters  WordCount\n",
              "Author                            \n",
              "Aanandh Sret        440         88\n",
              "Koushik Itachi     1848        368\n",
              "Mukesh             3799        732\n",
              "Udhayan             157         37"
            ],
            "text/html": [
              "\n",
              "  <div id=\"df-772f0b77-2f03-488f-a5a7-c59fc0bfe76a\">\n",
              "    <div class=\"colab-df-container\">\n",
              "      <div>\n",
              "<style scoped>\n",
              "    .dataframe tbody tr th:only-of-type {\n",
              "        vertical-align: middle;\n",
              "    }\n",
              "\n",
              "    .dataframe tbody tr th {\n",
              "        vertical-align: top;\n",
              "    }\n",
              "\n",
              "    .dataframe thead th {\n",
              "        text-align: right;\n",
              "    }\n",
              "</style>\n",
              "<table border=\"1\" class=\"dataframe\">\n",
              "  <thead>\n",
              "    <tr style=\"text-align: right;\">\n",
              "      <th></th>\n",
              "      <th>Letters</th>\n",
              "      <th>WordCount</th>\n",
              "    </tr>\n",
              "    <tr>\n",
              "      <th>Author</th>\n",
              "      <th></th>\n",
              "      <th></th>\n",
              "    </tr>\n",
              "  </thead>\n",
              "  <tbody>\n",
              "    <tr>\n",
              "      <th>Aanandh Sret</th>\n",
              "      <td>440</td>\n",
              "      <td>88</td>\n",
              "    </tr>\n",
              "    <tr>\n",
              "      <th>Koushik Itachi</th>\n",
              "      <td>1848</td>\n",
              "      <td>368</td>\n",
              "    </tr>\n",
              "    <tr>\n",
              "      <th>Mukesh</th>\n",
              "      <td>3799</td>\n",
              "      <td>732</td>\n",
              "    </tr>\n",
              "    <tr>\n",
              "      <th>Udhayan</th>\n",
              "      <td>157</td>\n",
              "      <td>37</td>\n",
              "    </tr>\n",
              "  </tbody>\n",
              "</table>\n",
              "</div>\n",
              "      <button class=\"colab-df-convert\" onclick=\"convertToInteractive('df-772f0b77-2f03-488f-a5a7-c59fc0bfe76a')\"\n",
              "              title=\"Convert this dataframe to an interactive table.\"\n",
              "              style=\"display:none;\">\n",
              "        \n",
              "  <svg xmlns=\"http://www.w3.org/2000/svg\" height=\"24px\"viewBox=\"0 0 24 24\"\n",
              "       width=\"24px\">\n",
              "    <path d=\"M0 0h24v24H0V0z\" fill=\"none\"/>\n",
              "    <path d=\"M18.56 5.44l.94 2.06.94-2.06 2.06-.94-2.06-.94-.94-2.06-.94 2.06-2.06.94zm-11 1L8.5 8.5l.94-2.06 2.06-.94-2.06-.94L8.5 2.5l-.94 2.06-2.06.94zm10 10l.94 2.06.94-2.06 2.06-.94-2.06-.94-.94-2.06-.94 2.06-2.06.94z\"/><path d=\"M17.41 7.96l-1.37-1.37c-.4-.4-.92-.59-1.43-.59-.52 0-1.04.2-1.43.59L10.3 9.45l-7.72 7.72c-.78.78-.78 2.05 0 2.83L4 21.41c.39.39.9.59 1.41.59.51 0 1.02-.2 1.41-.59l7.78-7.78 2.81-2.81c.8-.78.8-2.07 0-2.86zM5.41 20L4 18.59l7.72-7.72 1.47 1.35L5.41 20z\"/>\n",
              "  </svg>\n",
              "      </button>\n",
              "      \n",
              "  <style>\n",
              "    .colab-df-container {\n",
              "      display:flex;\n",
              "      flex-wrap:wrap;\n",
              "      gap: 12px;\n",
              "    }\n",
              "\n",
              "    .colab-df-convert {\n",
              "      background-color: #E8F0FE;\n",
              "      border: none;\n",
              "      border-radius: 50%;\n",
              "      cursor: pointer;\n",
              "      display: none;\n",
              "      fill: #1967D2;\n",
              "      height: 32px;\n",
              "      padding: 0 0 0 0;\n",
              "      width: 32px;\n",
              "    }\n",
              "\n",
              "    .colab-df-convert:hover {\n",
              "      background-color: #E2EBFA;\n",
              "      box-shadow: 0px 1px 2px rgba(60, 64, 67, 0.3), 0px 1px 3px 1px rgba(60, 64, 67, 0.15);\n",
              "      fill: #174EA6;\n",
              "    }\n",
              "\n",
              "    [theme=dark] .colab-df-convert {\n",
              "      background-color: #3B4455;\n",
              "      fill: #D2E3FC;\n",
              "    }\n",
              "\n",
              "    [theme=dark] .colab-df-convert:hover {\n",
              "      background-color: #434B5C;\n",
              "      box-shadow: 0px 1px 3px 1px rgba(0, 0, 0, 0.15);\n",
              "      filter: drop-shadow(0px 1px 2px rgba(0, 0, 0, 0.3));\n",
              "      fill: #FFFFFF;\n",
              "    }\n",
              "  </style>\n",
              "\n",
              "      <script>\n",
              "        const buttonEl =\n",
              "          document.querySelector('#df-772f0b77-2f03-488f-a5a7-c59fc0bfe76a button.colab-df-convert');\n",
              "        buttonEl.style.display =\n",
              "          google.colab.kernel.accessAllowed ? 'block' : 'none';\n",
              "\n",
              "        async function convertToInteractive(key) {\n",
              "          const element = document.querySelector('#df-772f0b77-2f03-488f-a5a7-c59fc0bfe76a');\n",
              "          const dataTable =\n",
              "            await google.colab.kernel.invokeFunction('convertToInteractive',\n",
              "                                                     [key], {});\n",
              "          if (!dataTable) return;\n",
              "\n",
              "          const docLinkHtml = 'Like what you see? Visit the ' +\n",
              "            '<a target=\"_blank\" href=https://colab.research.google.com/notebooks/data_table.ipynb>data table notebook</a>'\n",
              "            + ' to learn more about interactive tables.';\n",
              "          element.innerHTML = '';\n",
              "          dataTable['output_type'] = 'display_data';\n",
              "          await google.colab.output.renderOutput(dataTable, element);\n",
              "          const docLink = document.createElement('div');\n",
              "          docLink.innerHTML = docLinkHtml;\n",
              "          element.appendChild(docLink);\n",
              "        }\n",
              "      </script>\n",
              "    </div>\n",
              "  </div>\n",
              "  "
            ]
          },
          "metadata": {},
          "execution_count": 27
        }
      ]
    },
    {
      "cell_type": "code",
      "source": [
        "import plotly.graph_objects as go\n",
        "author=df['Author']\n",
        "\n",
        "fig = go.Figure(data=[\n",
        "    go.Bar(name='WordCount', x=author, y=df['WordCount']),\n",
        "    go.Bar(name='Letters', x=author, y=df['Letters'])\n",
        "   \n",
        "])\n",
        "# Change the bar mode\n",
        "fig.update_layout(barmode='group',title={\n",
        "        'text': \"Analysis of Letters & Wordcount\",\n",
        "        'y':0.9,\n",
        "        'x':0.5,\n",
        "        'xanchor': 'center'})\n",
        "fig.show()\n",
        "\n"
      ],
      "metadata": {
        "colab": {
          "base_uri": "https://localhost:8080/",
          "height": 542
        },
        "id": "ZcIHcUfnEa0q",
        "outputId": "32ceb2bf-6ebf-4dd4-dbe4-8193df46f567"
      },
      "execution_count": null,
      "outputs": [
        {
          "output_type": "display_data",
          "data": {
            "text/html": [
              "<html>\n",
              "<head><meta charset=\"utf-8\" /></head>\n",
              "<body>\n",
              "    <div>            <script src=\"https://cdnjs.cloudflare.com/ajax/libs/mathjax/2.7.5/MathJax.js?config=TeX-AMS-MML_SVG\"></script><script type=\"text/javascript\">if (window.MathJax) {MathJax.Hub.Config({SVG: {font: \"STIX-Web\"}});}</script>                <script type=\"text/javascript\">window.PlotlyConfig = {MathJaxConfig: 'local'};</script>\n",
              "        <script src=\"https://cdn.plot.ly/plotly-2.8.3.min.js\"></script>                <div id=\"2cb0a075-1280-47dc-ba0b-9a9b1aa88cbd\" class=\"plotly-graph-div\" style=\"height:525px; width:100%;\"></div>            <script type=\"text/javascript\">                                    window.PLOTLYENV=window.PLOTLYENV || {};                                    if (document.getElementById(\"2cb0a075-1280-47dc-ba0b-9a9b1aa88cbd\")) {                    Plotly.newPlot(                        \"2cb0a075-1280-47dc-ba0b-9a9b1aa88cbd\",                        [{\"name\":\"WordCount\",\"x\":[\"Mukesh\",\"Koushik Itachi\",\"Aanandh Sret\",\"Mukesh\",\"Aanandh Sret\",\"Udhayan\",\"Udhayan\",\"Koushik Itachi\",\"Mukesh\",\"Koushik Itachi\",\"Aanandh Sret\",\"Udhayan\",\"Mukesh\",\"Aanandh Sret\",\"Mukesh\",\"Aanandh Sret\",\"Mukesh\",\"Aanandh Sret\",\"Aanandh Sret\",\"Udhayan\",\"Mukesh\",\"Aanandh Sret\",\"Koushik Itachi\",\"Aanandh Sret\",\"Mukesh\",\"Udhayan\",\"Aanandh Sret\",\"Koushik Itachi\",\"Mukesh\",\"Koushik Itachi\",\"Aanandh Sret\",\"Aanandh Sret\",\"Mukesh\",\"Mukesh\",\"Koushik Itachi\",\"Mukesh\",\"Mukesh\",\"Aanandh Sret\",\"Koushik Itachi\",\"Mukesh\",\"Mukesh\",\"Koushik Itachi\",\"Aanandh Sret\",\"Mukesh\",\"Aanandh Sret\",\"Koushik Itachi\",\"Mukesh\",\"Aanandh Sret\",\"Koushik Itachi\",\"Aanandh Sret\",\"Aanandh Sret\",\"Koushik Itachi\",\"Mukesh\",\"Mukesh\",\"Aanandh Sret\",\"Mukesh\",\"Mukesh\",\"Aanandh Sret\",\"Mukesh\",\"Mukesh\",\"Mukesh\",\"Mukesh\",\"Koushik Itachi\",\"Mukesh\",\"Mukesh\",\"Koushik Itachi\",\"Koushik Itachi\",\"Mukesh\",\"Mukesh\",\"Koushik Itachi\",\"Mukesh\",\"Mukesh\",\"Koushik Itachi\",\"Koushik Itachi\",\"Mukesh\",\"Mukesh\",\"Koushik Itachi\",\"Mukesh\",\"Mukesh\",\"Koushik Itachi\",\"Mukesh\",\"Mukesh\",\"Koushik Itachi\",\"Mukesh\",\"Koushik Itachi\",\"Mukesh\",\"Koushik Itachi\",\"Mukesh\",\"Mukesh\",\"Mukesh\",\"Koushik Itachi\",\"Koushik Itachi\",\"Mukesh\",\"Koushik Itachi\",\"Mukesh\",\"Mukesh\",\"Koushik Itachi\",\"Mukesh\",\"Mukesh\",\"Koushik Itachi\",\"Koushik Itachi\",\"Mukesh\",\"Mukesh\",\"Mukesh\",\"Aanandh Sret\",\"Mukesh\",\"Mukesh\",\"Mukesh\",\"Koushik Itachi\",\"Koushik Itachi\",\"Mukesh\",\"Mukesh\",\"Mukesh\",\"Koushik Itachi\",\"Mukesh\",\"Mukesh\",\"Mukesh\",\"Koushik Itachi\",\"Aanandh Sret\",\"Mukesh\",\"Mukesh\",\"Aanandh Sret\",\"Koushik Itachi\",\"Aanandh Sret\",\"Mukesh\",\"Mukesh\",\"Mukesh\",\"Koushik Itachi\",\"Koushik Itachi\",\"Mukesh\",\"Koushik Itachi\",\"Mukesh\",\"Koushik Itachi\",\"Mukesh\",\"Mukesh\",\"Koushik Itachi\",\"Mukesh\",\"Koushik Itachi\",\"Mukesh\",\"Mukesh\",\"Koushik Itachi\",\"Koushik Itachi\",\"Mukesh\",\"Koushik Itachi\",\"Mukesh\",\"Mukesh\",\"Mukesh\",\"Koushik Itachi\",\"Koushik Itachi\",\"Koushik Itachi\",\"Mukesh\",\"Mukesh\",\"Mukesh\",\"Koushik Itachi\",\"Mukesh\",\"Aanandh Sret\",\"Mukesh\",\"Mukesh\",\"Mukesh\",\"Koushik Itachi\",\"Koushik Itachi\",\"Mukesh\",\"Mukesh\",\"Koushik Itachi\",\"Mukesh\",\"Koushik Itachi\",\"Aanandh Sret\",\"Mukesh\",\"Mukesh\",\"Koushik Itachi\",\"Koushik Itachi\",\"Mukesh\",\"Mukesh\",\"Koushik Itachi\",\"Koushik Itachi\",\"Koushik Itachi\",\"Mukesh\",\"Koushik Itachi\",\"Koushik Itachi\",\"Mukesh\",\"Koushik Itachi\",\"Mukesh\",\"Mukesh\",\"Aanandh Sret\",\"Koushik Itachi\",\"Koushik Itachi\",\"Mukesh\",\"Koushik Itachi\",\"Mukesh\",\"Mukesh\",\"Mukesh\",\"Koushik Itachi\",\"Mukesh\"],\"y\":[2,2,2,4,2,1,4,1,2,6,2,9,8,2,2,6,11,1,6,10,3,1,23,2,8,13,18,3,18,24,15,1,20,13,15,8,8,4,1,12,1,7,1,8,1,1,15,1,9,2,1,5,14,5,2,8,3,9,12,7,7,7,2,4,1,7,4,9,9,8,8,6,8,7,3,7,8,9,3,3,8,2,7,9,1,10,3,5,6,1,9,8,6,1,6,1,1,13,12,8,6,10,7,1,1,8,5,4,4,4,6,7,7,13,4,18,1,1,1,9,9,1,13,2,6,17,13,3,9,10,1,15,2,10,9,7,6,8,1,3,6,1,10,1,12,7,7,5,4,4,2,6,6,2,3,1,9,10,6,3,5,1,8,10,13,2,2,6,8,3,2,14,1,1,18,3,1,9,6,9,4,5,10,1,7,7,9,11,11,12,6,1,10],\"type\":\"bar\"},{\"name\":\"Letters\",\"x\":[\"Mukesh\",\"Koushik Itachi\",\"Aanandh Sret\",\"Mukesh\",\"Aanandh Sret\",\"Udhayan\",\"Udhayan\",\"Koushik Itachi\",\"Mukesh\",\"Koushik Itachi\",\"Aanandh Sret\",\"Udhayan\",\"Mukesh\",\"Aanandh Sret\",\"Mukesh\",\"Aanandh Sret\",\"Mukesh\",\"Aanandh Sret\",\"Aanandh Sret\",\"Udhayan\",\"Mukesh\",\"Aanandh Sret\",\"Koushik Itachi\",\"Aanandh Sret\",\"Mukesh\",\"Udhayan\",\"Aanandh Sret\",\"Koushik Itachi\",\"Mukesh\",\"Koushik Itachi\",\"Aanandh Sret\",\"Aanandh Sret\",\"Mukesh\",\"Mukesh\",\"Koushik Itachi\",\"Mukesh\",\"Mukesh\",\"Aanandh Sret\",\"Koushik Itachi\",\"Mukesh\",\"Mukesh\",\"Koushik Itachi\",\"Aanandh Sret\",\"Mukesh\",\"Aanandh Sret\",\"Koushik Itachi\",\"Mukesh\",\"Aanandh Sret\",\"Koushik Itachi\",\"Aanandh Sret\",\"Aanandh Sret\",\"Koushik Itachi\",\"Mukesh\",\"Mukesh\",\"Aanandh Sret\",\"Mukesh\",\"Mukesh\",\"Aanandh Sret\",\"Mukesh\",\"Mukesh\",\"Mukesh\",\"Mukesh\",\"Koushik Itachi\",\"Mukesh\",\"Mukesh\",\"Koushik Itachi\",\"Koushik Itachi\",\"Mukesh\",\"Mukesh\",\"Koushik Itachi\",\"Mukesh\",\"Mukesh\",\"Koushik Itachi\",\"Koushik Itachi\",\"Mukesh\",\"Mukesh\",\"Koushik Itachi\",\"Mukesh\",\"Mukesh\",\"Koushik Itachi\",\"Mukesh\",\"Mukesh\",\"Koushik Itachi\",\"Mukesh\",\"Koushik Itachi\",\"Mukesh\",\"Koushik Itachi\",\"Mukesh\",\"Mukesh\",\"Mukesh\",\"Koushik Itachi\",\"Koushik Itachi\",\"Mukesh\",\"Koushik Itachi\",\"Mukesh\",\"Mukesh\",\"Koushik Itachi\",\"Mukesh\",\"Mukesh\",\"Koushik Itachi\",\"Koushik Itachi\",\"Mukesh\",\"Mukesh\",\"Mukesh\",\"Aanandh Sret\",\"Mukesh\",\"Mukesh\",\"Mukesh\",\"Koushik Itachi\",\"Koushik Itachi\",\"Mukesh\",\"Mukesh\",\"Mukesh\",\"Koushik Itachi\",\"Mukesh\",\"Mukesh\",\"Mukesh\",\"Koushik Itachi\",\"Aanandh Sret\",\"Mukesh\",\"Mukesh\",\"Aanandh Sret\",\"Koushik Itachi\",\"Aanandh Sret\",\"Mukesh\",\"Mukesh\",\"Mukesh\",\"Koushik Itachi\",\"Koushik Itachi\",\"Mukesh\",\"Koushik Itachi\",\"Mukesh\",\"Koushik Itachi\",\"Mukesh\",\"Mukesh\",\"Koushik Itachi\",\"Mukesh\",\"Koushik Itachi\",\"Mukesh\",\"Mukesh\",\"Koushik Itachi\",\"Koushik Itachi\",\"Mukesh\",\"Koushik Itachi\",\"Mukesh\",\"Mukesh\",\"Mukesh\",\"Koushik Itachi\",\"Koushik Itachi\",\"Koushik Itachi\",\"Mukesh\",\"Mukesh\",\"Mukesh\",\"Koushik Itachi\",\"Mukesh\",\"Aanandh Sret\",\"Mukesh\",\"Mukesh\",\"Mukesh\",\"Koushik Itachi\",\"Koushik Itachi\",\"Mukesh\",\"Mukesh\",\"Koushik Itachi\",\"Mukesh\",\"Koushik Itachi\",\"Aanandh Sret\",\"Mukesh\",\"Mukesh\",\"Koushik Itachi\",\"Koushik Itachi\",\"Mukesh\",\"Mukesh\",\"Koushik Itachi\",\"Koushik Itachi\",\"Koushik Itachi\",\"Mukesh\",\"Koushik Itachi\",\"Koushik Itachi\",\"Mukesh\",\"Koushik Itachi\",\"Mukesh\",\"Mukesh\",\"Aanandh Sret\",\"Koushik Itachi\",\"Koushik Itachi\",\"Mukesh\",\"Koushik Itachi\",\"Mukesh\",\"Mukesh\",\"Mukesh\",\"Koushik Itachi\",\"Mukesh\"],\"y\":[8,8,8,16,9,4,16,4,11,23,12,37,48,11,8,36,56,2,29,41,15,5,133,8,39,59,107,10,102,142,82,3,109,72,74,31,39,20,3,60,1,33,5,39,4,2,82,2,51,12,1,27,73,29,7,48,17,51,75,41,49,37,8,18,1,23,12,45,45,48,40,27,35,31,13,37,46,59,16,19,45,5,34,40,5,46,9,25,38,2,37,33,33,4,36,6,2,79,63,39,31,46,43,2,4,51,22,24,16,24,30,41,30,71,20,96,2,8,2,43,51,2,59,6,34,86,75,10,51,53,3,72,18,46,46,40,26,37,4,17,30,3,46,4,57,36,28,21,30,17,7,28,28,7,10,3,43,39,37,11,22,3,50,45,63,8,7,35,49,17,9,79,4,3,96,12,2,50,36,46,19,24,49,2,34,44,52,63,52,64,27,4,57],\"type\":\"bar\"}],                        {\"template\":{\"data\":{\"bar\":[{\"error_x\":{\"color\":\"#2a3f5f\"},\"error_y\":{\"color\":\"#2a3f5f\"},\"marker\":{\"line\":{\"color\":\"#E5ECF6\",\"width\":0.5},\"pattern\":{\"fillmode\":\"overlay\",\"size\":10,\"solidity\":0.2}},\"type\":\"bar\"}],\"barpolar\":[{\"marker\":{\"line\":{\"color\":\"#E5ECF6\",\"width\":0.5},\"pattern\":{\"fillmode\":\"overlay\",\"size\":10,\"solidity\":0.2}},\"type\":\"barpolar\"}],\"carpet\":[{\"aaxis\":{\"endlinecolor\":\"#2a3f5f\",\"gridcolor\":\"white\",\"linecolor\":\"white\",\"minorgridcolor\":\"white\",\"startlinecolor\":\"#2a3f5f\"},\"baxis\":{\"endlinecolor\":\"#2a3f5f\",\"gridcolor\":\"white\",\"linecolor\":\"white\",\"minorgridcolor\":\"white\",\"startlinecolor\":\"#2a3f5f\"},\"type\":\"carpet\"}],\"choropleth\":[{\"colorbar\":{\"outlinewidth\":0,\"ticks\":\"\"},\"type\":\"choropleth\"}],\"contour\":[{\"colorbar\":{\"outlinewidth\":0,\"ticks\":\"\"},\"colorscale\":[[0.0,\"#0d0887\"],[0.1111111111111111,\"#46039f\"],[0.2222222222222222,\"#7201a8\"],[0.3333333333333333,\"#9c179e\"],[0.4444444444444444,\"#bd3786\"],[0.5555555555555556,\"#d8576b\"],[0.6666666666666666,\"#ed7953\"],[0.7777777777777778,\"#fb9f3a\"],[0.8888888888888888,\"#fdca26\"],[1.0,\"#f0f921\"]],\"type\":\"contour\"}],\"contourcarpet\":[{\"colorbar\":{\"outlinewidth\":0,\"ticks\":\"\"},\"type\":\"contourcarpet\"}],\"heatmap\":[{\"colorbar\":{\"outlinewidth\":0,\"ticks\":\"\"},\"colorscale\":[[0.0,\"#0d0887\"],[0.1111111111111111,\"#46039f\"],[0.2222222222222222,\"#7201a8\"],[0.3333333333333333,\"#9c179e\"],[0.4444444444444444,\"#bd3786\"],[0.5555555555555556,\"#d8576b\"],[0.6666666666666666,\"#ed7953\"],[0.7777777777777778,\"#fb9f3a\"],[0.8888888888888888,\"#fdca26\"],[1.0,\"#f0f921\"]],\"type\":\"heatmap\"}],\"heatmapgl\":[{\"colorbar\":{\"outlinewidth\":0,\"ticks\":\"\"},\"colorscale\":[[0.0,\"#0d0887\"],[0.1111111111111111,\"#46039f\"],[0.2222222222222222,\"#7201a8\"],[0.3333333333333333,\"#9c179e\"],[0.4444444444444444,\"#bd3786\"],[0.5555555555555556,\"#d8576b\"],[0.6666666666666666,\"#ed7953\"],[0.7777777777777778,\"#fb9f3a\"],[0.8888888888888888,\"#fdca26\"],[1.0,\"#f0f921\"]],\"type\":\"heatmapgl\"}],\"histogram\":[{\"marker\":{\"pattern\":{\"fillmode\":\"overlay\",\"size\":10,\"solidity\":0.2}},\"type\":\"histogram\"}],\"histogram2d\":[{\"colorbar\":{\"outlinewidth\":0,\"ticks\":\"\"},\"colorscale\":[[0.0,\"#0d0887\"],[0.1111111111111111,\"#46039f\"],[0.2222222222222222,\"#7201a8\"],[0.3333333333333333,\"#9c179e\"],[0.4444444444444444,\"#bd3786\"],[0.5555555555555556,\"#d8576b\"],[0.6666666666666666,\"#ed7953\"],[0.7777777777777778,\"#fb9f3a\"],[0.8888888888888888,\"#fdca26\"],[1.0,\"#f0f921\"]],\"type\":\"histogram2d\"}],\"histogram2dcontour\":[{\"colorbar\":{\"outlinewidth\":0,\"ticks\":\"\"},\"colorscale\":[[0.0,\"#0d0887\"],[0.1111111111111111,\"#46039f\"],[0.2222222222222222,\"#7201a8\"],[0.3333333333333333,\"#9c179e\"],[0.4444444444444444,\"#bd3786\"],[0.5555555555555556,\"#d8576b\"],[0.6666666666666666,\"#ed7953\"],[0.7777777777777778,\"#fb9f3a\"],[0.8888888888888888,\"#fdca26\"],[1.0,\"#f0f921\"]],\"type\":\"histogram2dcontour\"}],\"mesh3d\":[{\"colorbar\":{\"outlinewidth\":0,\"ticks\":\"\"},\"type\":\"mesh3d\"}],\"parcoords\":[{\"line\":{\"colorbar\":{\"outlinewidth\":0,\"ticks\":\"\"}},\"type\":\"parcoords\"}],\"pie\":[{\"automargin\":true,\"type\":\"pie\"}],\"scatter\":[{\"marker\":{\"colorbar\":{\"outlinewidth\":0,\"ticks\":\"\"}},\"type\":\"scatter\"}],\"scatter3d\":[{\"line\":{\"colorbar\":{\"outlinewidth\":0,\"ticks\":\"\"}},\"marker\":{\"colorbar\":{\"outlinewidth\":0,\"ticks\":\"\"}},\"type\":\"scatter3d\"}],\"scattercarpet\":[{\"marker\":{\"colorbar\":{\"outlinewidth\":0,\"ticks\":\"\"}},\"type\":\"scattercarpet\"}],\"scattergeo\":[{\"marker\":{\"colorbar\":{\"outlinewidth\":0,\"ticks\":\"\"}},\"type\":\"scattergeo\"}],\"scattergl\":[{\"marker\":{\"colorbar\":{\"outlinewidth\":0,\"ticks\":\"\"}},\"type\":\"scattergl\"}],\"scattermapbox\":[{\"marker\":{\"colorbar\":{\"outlinewidth\":0,\"ticks\":\"\"}},\"type\":\"scattermapbox\"}],\"scatterpolar\":[{\"marker\":{\"colorbar\":{\"outlinewidth\":0,\"ticks\":\"\"}},\"type\":\"scatterpolar\"}],\"scatterpolargl\":[{\"marker\":{\"colorbar\":{\"outlinewidth\":0,\"ticks\":\"\"}},\"type\":\"scatterpolargl\"}],\"scatterternary\":[{\"marker\":{\"colorbar\":{\"outlinewidth\":0,\"ticks\":\"\"}},\"type\":\"scatterternary\"}],\"surface\":[{\"colorbar\":{\"outlinewidth\":0,\"ticks\":\"\"},\"colorscale\":[[0.0,\"#0d0887\"],[0.1111111111111111,\"#46039f\"],[0.2222222222222222,\"#7201a8\"],[0.3333333333333333,\"#9c179e\"],[0.4444444444444444,\"#bd3786\"],[0.5555555555555556,\"#d8576b\"],[0.6666666666666666,\"#ed7953\"],[0.7777777777777778,\"#fb9f3a\"],[0.8888888888888888,\"#fdca26\"],[1.0,\"#f0f921\"]],\"type\":\"surface\"}],\"table\":[{\"cells\":{\"fill\":{\"color\":\"#EBF0F8\"},\"line\":{\"color\":\"white\"}},\"header\":{\"fill\":{\"color\":\"#C8D4E3\"},\"line\":{\"color\":\"white\"}},\"type\":\"table\"}]},\"layout\":{\"annotationdefaults\":{\"arrowcolor\":\"#2a3f5f\",\"arrowhead\":0,\"arrowwidth\":1},\"autotypenumbers\":\"strict\",\"coloraxis\":{\"colorbar\":{\"outlinewidth\":0,\"ticks\":\"\"}},\"colorscale\":{\"diverging\":[[0,\"#8e0152\"],[0.1,\"#c51b7d\"],[0.2,\"#de77ae\"],[0.3,\"#f1b6da\"],[0.4,\"#fde0ef\"],[0.5,\"#f7f7f7\"],[0.6,\"#e6f5d0\"],[0.7,\"#b8e186\"],[0.8,\"#7fbc41\"],[0.9,\"#4d9221\"],[1,\"#276419\"]],\"sequential\":[[0.0,\"#0d0887\"],[0.1111111111111111,\"#46039f\"],[0.2222222222222222,\"#7201a8\"],[0.3333333333333333,\"#9c179e\"],[0.4444444444444444,\"#bd3786\"],[0.5555555555555556,\"#d8576b\"],[0.6666666666666666,\"#ed7953\"],[0.7777777777777778,\"#fb9f3a\"],[0.8888888888888888,\"#fdca26\"],[1.0,\"#f0f921\"]],\"sequentialminus\":[[0.0,\"#0d0887\"],[0.1111111111111111,\"#46039f\"],[0.2222222222222222,\"#7201a8\"],[0.3333333333333333,\"#9c179e\"],[0.4444444444444444,\"#bd3786\"],[0.5555555555555556,\"#d8576b\"],[0.6666666666666666,\"#ed7953\"],[0.7777777777777778,\"#fb9f3a\"],[0.8888888888888888,\"#fdca26\"],[1.0,\"#f0f921\"]]},\"colorway\":[\"#636efa\",\"#EF553B\",\"#00cc96\",\"#ab63fa\",\"#FFA15A\",\"#19d3f3\",\"#FF6692\",\"#B6E880\",\"#FF97FF\",\"#FECB52\"],\"font\":{\"color\":\"#2a3f5f\"},\"geo\":{\"bgcolor\":\"white\",\"lakecolor\":\"white\",\"landcolor\":\"#E5ECF6\",\"showlakes\":true,\"showland\":true,\"subunitcolor\":\"white\"},\"hoverlabel\":{\"align\":\"left\"},\"hovermode\":\"closest\",\"mapbox\":{\"style\":\"light\"},\"paper_bgcolor\":\"white\",\"plot_bgcolor\":\"#E5ECF6\",\"polar\":{\"angularaxis\":{\"gridcolor\":\"white\",\"linecolor\":\"white\",\"ticks\":\"\"},\"bgcolor\":\"#E5ECF6\",\"radialaxis\":{\"gridcolor\":\"white\",\"linecolor\":\"white\",\"ticks\":\"\"}},\"scene\":{\"xaxis\":{\"backgroundcolor\":\"#E5ECF6\",\"gridcolor\":\"white\",\"gridwidth\":2,\"linecolor\":\"white\",\"showbackground\":true,\"ticks\":\"\",\"zerolinecolor\":\"white\"},\"yaxis\":{\"backgroundcolor\":\"#E5ECF6\",\"gridcolor\":\"white\",\"gridwidth\":2,\"linecolor\":\"white\",\"showbackground\":true,\"ticks\":\"\",\"zerolinecolor\":\"white\"},\"zaxis\":{\"backgroundcolor\":\"#E5ECF6\",\"gridcolor\":\"white\",\"gridwidth\":2,\"linecolor\":\"white\",\"showbackground\":true,\"ticks\":\"\",\"zerolinecolor\":\"white\"}},\"shapedefaults\":{\"line\":{\"color\":\"#2a3f5f\"}},\"ternary\":{\"aaxis\":{\"gridcolor\":\"white\",\"linecolor\":\"white\",\"ticks\":\"\"},\"baxis\":{\"gridcolor\":\"white\",\"linecolor\":\"white\",\"ticks\":\"\"},\"bgcolor\":\"#E5ECF6\",\"caxis\":{\"gridcolor\":\"white\",\"linecolor\":\"white\",\"ticks\":\"\"}},\"title\":{\"x\":0.05},\"xaxis\":{\"automargin\":true,\"gridcolor\":\"white\",\"linecolor\":\"white\",\"ticks\":\"\",\"title\":{\"standoff\":15},\"zerolinecolor\":\"white\",\"zerolinewidth\":2},\"yaxis\":{\"automargin\":true,\"gridcolor\":\"white\",\"linecolor\":\"white\",\"ticks\":\"\",\"title\":{\"standoff\":15},\"zerolinecolor\":\"white\",\"zerolinewidth\":2}}},\"title\":{\"text\":\"Analysis of Letters & Wordcount\",\"y\":0.9,\"x\":0.5,\"xanchor\":\"center\"},\"barmode\":\"group\"},                        {\"responsive\": true}                    ).then(function(){\n",
              "                            \n",
              "var gd = document.getElementById('2cb0a075-1280-47dc-ba0b-9a9b1aa88cbd');\n",
              "var x = new MutationObserver(function (mutations, observer) {{\n",
              "        var display = window.getComputedStyle(gd).display;\n",
              "        if (!display || display === 'none') {{\n",
              "            console.log([gd, 'removed!']);\n",
              "            Plotly.purge(gd);\n",
              "            observer.disconnect();\n",
              "        }}\n",
              "}});\n",
              "\n",
              "// Listen for the removal of the full notebook cells\n",
              "var notebookContainer = gd.closest('#notebook-container');\n",
              "if (notebookContainer) {{\n",
              "    x.observe(notebookContainer, {childList: true});\n",
              "}}\n",
              "\n",
              "// Listen for the clearing of the current output cell\n",
              "var outputEl = gd.closest('.output');\n",
              "if (outputEl) {{\n",
              "    x.observe(outputEl, {childList: true});\n",
              "}}\n",
              "\n",
              "                        })                };                            </script>        </div>\n",
              "</body>\n",
              "</html>"
            ]
          },
          "metadata": {}
        }
      ]
    },
    {
      "cell_type": "code",
      "source": [
        "#Extracting Emojis\n",
        "import emoji\n",
        "import regex\n",
        "\n",
        "def split_count(text):\n",
        "\n",
        "    emoji_list = []\n",
        "    data = regex.findall(r'\\X', text)\n",
        "    for word in data:\n",
        "        if any(char in emoji.distinct_emoji_list(text)['en'] for char in word):\n",
        "            emoji_list.append(word)\n",
        "    \n",
        "    return emoji_list\n",
        "line_list = df['Message']\n",
        "new_line_list = []\n",
        "emojis=[]\n",
        "\n",
        "for word in line_list:\n",
        "  #print(word)\n",
        "  emojis.extend(emoji.distinct_emoji_list(word))\n",
        "  #print(emojis)\n",
        "  new_line_list.extend([emoji.demojize(is_emoji) for is_emoji in emojis])\n",
        "  new_line_list"
      ],
      "metadata": {
        "id": "Y1lGE5OZvg3X"
      },
      "execution_count": null,
      "outputs": []
    },
    {
      "cell_type": "code",
      "source": [
        "line_list = df['Message']\n",
        "new_line_list = []\n",
        "emojis=[]\n",
        "\n",
        "for word in line_list:\n",
        "  #print(word)\n",
        "  emojis.extend(emoji.distinct_emoji_list(word))\n",
        "  #print(emojis)\n",
        "  new_line_list.extend([emoji.demojize(is_emoji) for is_emoji in emojis])"
      ],
      "metadata": {
        "id": "SJBv_Skk6B-v"
      },
      "execution_count": null,
      "outputs": []
    },
    {
      "cell_type": "code",
      "source": [
        "new_line_list"
      ],
      "metadata": {
        "colab": {
          "base_uri": "https://localhost:8080/"
        },
        "id": "SU7eovUP6GRr",
        "outputId": "88f223f4-b0e8-4cff-b634-f39c122c2e45"
      },
      "execution_count": null,
      "outputs": [
        {
          "output_type": "execute_result",
          "data": {
            "text/plain": [
              "[':collision:',\n",
              " ':collision:',\n",
              " ':collision:',\n",
              " ':collision:',\n",
              " ':face_with_tears_of_joy:',\n",
              " ':collision:',\n",
              " ':face_with_tears_of_joy:',\n",
              " ':face_with_tears_of_joy:',\n",
              " ':collision:',\n",
              " ':face_with_tears_of_joy:',\n",
              " ':face_with_tears_of_joy:',\n",
              " ':collision:',\n",
              " ':face_with_tears_of_joy:',\n",
              " ':face_with_tears_of_joy:',\n",
              " ':collision:',\n",
              " ':face_with_tears_of_joy:',\n",
              " ':face_with_tears_of_joy:',\n",
              " ':high_voltage:',\n",
              " ':collision:',\n",
              " ':face_with_tears_of_joy:',\n",
              " ':face_with_tears_of_joy:',\n",
              " ':high_voltage:',\n",
              " ':collision:',\n",
              " ':face_with_tears_of_joy:',\n",
              " ':face_with_tears_of_joy:',\n",
              " ':high_voltage:',\n",
              " ':collision:',\n",
              " ':face_with_tears_of_joy:',\n",
              " ':face_with_tears_of_joy:',\n",
              " ':high_voltage:',\n",
              " ':flexed_biceps:',\n",
              " ':collision:',\n",
              " ':face_with_tears_of_joy:',\n",
              " ':face_with_tears_of_joy:',\n",
              " ':high_voltage:',\n",
              " ':flexed_biceps:',\n",
              " ':collision:',\n",
              " ':face_with_tears_of_joy:',\n",
              " ':face_with_tears_of_joy:',\n",
              " ':high_voltage:',\n",
              " ':flexed_biceps:',\n",
              " ':collision:',\n",
              " ':face_with_tears_of_joy:',\n",
              " ':face_with_tears_of_joy:',\n",
              " ':high_voltage:',\n",
              " ':flexed_biceps:',\n",
              " ':thumbs_up_light_skin_tone:',\n",
              " ':collision:',\n",
              " ':face_with_tears_of_joy:',\n",
              " ':face_with_tears_of_joy:',\n",
              " ':high_voltage:',\n",
              " ':flexed_biceps:',\n",
              " ':thumbs_up_light_skin_tone:',\n",
              " ':collision:',\n",
              " ':face_with_tears_of_joy:',\n",
              " ':face_with_tears_of_joy:',\n",
              " ':high_voltage:',\n",
              " ':flexed_biceps:',\n",
              " ':thumbs_up_light_skin_tone:',\n",
              " ':collision:',\n",
              " ':face_with_tears_of_joy:',\n",
              " ':face_with_tears_of_joy:',\n",
              " ':high_voltage:',\n",
              " ':flexed_biceps:',\n",
              " ':thumbs_up_light_skin_tone:',\n",
              " ':collision:',\n",
              " ':face_with_tears_of_joy:',\n",
              " ':face_with_tears_of_joy:',\n",
              " ':high_voltage:',\n",
              " ':flexed_biceps:',\n",
              " ':thumbs_up_light_skin_tone:',\n",
              " ':hundred_points:',\n",
              " ':thumbs_up:',\n",
              " ':collision:',\n",
              " ':face_with_tears_of_joy:',\n",
              " ':face_with_tears_of_joy:',\n",
              " ':high_voltage:',\n",
              " ':flexed_biceps:',\n",
              " ':thumbs_up_light_skin_tone:',\n",
              " ':hundred_points:',\n",
              " ':thumbs_up:',\n",
              " ':heart_on_fire:',\n",
              " ':collision:',\n",
              " ':face_with_tears_of_joy:',\n",
              " ':face_with_tears_of_joy:',\n",
              " ':high_voltage:',\n",
              " ':flexed_biceps:',\n",
              " ':thumbs_up_light_skin_tone:',\n",
              " ':hundred_points:',\n",
              " ':thumbs_up:',\n",
              " ':heart_on_fire:',\n",
              " ':heart_on_fire:',\n",
              " ':collision:',\n",
              " ':face_with_tears_of_joy:',\n",
              " ':face_with_tears_of_joy:',\n",
              " ':high_voltage:',\n",
              " ':flexed_biceps:',\n",
              " ':thumbs_up_light_skin_tone:',\n",
              " ':hundred_points:',\n",
              " ':thumbs_up:',\n",
              " ':heart_on_fire:',\n",
              " ':heart_on_fire:',\n",
              " ':collision:',\n",
              " ':face_with_tears_of_joy:',\n",
              " ':face_with_tears_of_joy:',\n",
              " ':high_voltage:',\n",
              " ':flexed_biceps:',\n",
              " ':thumbs_up_light_skin_tone:',\n",
              " ':hundred_points:',\n",
              " ':thumbs_up:',\n",
              " ':heart_on_fire:',\n",
              " ':heart_on_fire:',\n",
              " ':collision:',\n",
              " ':face_with_tears_of_joy:',\n",
              " ':face_with_tears_of_joy:',\n",
              " ':high_voltage:',\n",
              " ':flexed_biceps:',\n",
              " ':thumbs_up_light_skin_tone:',\n",
              " ':hundred_points:',\n",
              " ':thumbs_up:',\n",
              " ':heart_on_fire:',\n",
              " ':heart_on_fire:',\n",
              " ':face_with_tears_of_joy:',\n",
              " ':man_facepalming:',\n",
              " ':collision:',\n",
              " ':face_with_tears_of_joy:',\n",
              " ':face_with_tears_of_joy:',\n",
              " ':high_voltage:',\n",
              " ':flexed_biceps:',\n",
              " ':thumbs_up_light_skin_tone:',\n",
              " ':hundred_points:',\n",
              " ':thumbs_up:',\n",
              " ':heart_on_fire:',\n",
              " ':heart_on_fire:',\n",
              " ':face_with_tears_of_joy:',\n",
              " ':man_facepalming:',\n",
              " ':thinking_face:',\n",
              " ':collision:',\n",
              " ':face_with_tears_of_joy:',\n",
              " ':face_with_tears_of_joy:',\n",
              " ':high_voltage:',\n",
              " ':flexed_biceps:',\n",
              " ':thumbs_up_light_skin_tone:',\n",
              " ':hundred_points:',\n",
              " ':thumbs_up:',\n",
              " ':heart_on_fire:',\n",
              " ':heart_on_fire:',\n",
              " ':face_with_tears_of_joy:',\n",
              " ':man_facepalming:',\n",
              " ':thinking_face:',\n",
              " ':collision:',\n",
              " ':face_with_tears_of_joy:',\n",
              " ':face_with_tears_of_joy:',\n",
              " ':high_voltage:',\n",
              " ':flexed_biceps:',\n",
              " ':thumbs_up_light_skin_tone:',\n",
              " ':hundred_points:',\n",
              " ':thumbs_up:',\n",
              " ':heart_on_fire:',\n",
              " ':heart_on_fire:',\n",
              " ':face_with_tears_of_joy:',\n",
              " ':man_facepalming:',\n",
              " ':thinking_face:',\n",
              " ':collision:',\n",
              " ':face_with_tears_of_joy:',\n",
              " ':face_with_tears_of_joy:',\n",
              " ':high_voltage:',\n",
              " ':flexed_biceps:',\n",
              " ':thumbs_up_light_skin_tone:',\n",
              " ':hundred_points:',\n",
              " ':thumbs_up:',\n",
              " ':heart_on_fire:',\n",
              " ':heart_on_fire:',\n",
              " ':face_with_tears_of_joy:',\n",
              " ':man_facepalming:',\n",
              " ':thinking_face:',\n",
              " ':fire:',\n",
              " ':flexed_biceps:',\n",
              " ':collision:',\n",
              " ':face_with_tears_of_joy:',\n",
              " ':face_with_tears_of_joy:',\n",
              " ':high_voltage:',\n",
              " ':flexed_biceps:',\n",
              " ':thumbs_up_light_skin_tone:',\n",
              " ':hundred_points:',\n",
              " ':thumbs_up:',\n",
              " ':heart_on_fire:',\n",
              " ':heart_on_fire:',\n",
              " ':face_with_tears_of_joy:',\n",
              " ':man_facepalming:',\n",
              " ':thinking_face:',\n",
              " ':fire:',\n",
              " ':flexed_biceps:',\n",
              " ':collision:',\n",
              " ':face_with_tears_of_joy:',\n",
              " ':face_with_tears_of_joy:',\n",
              " ':high_voltage:',\n",
              " ':flexed_biceps:',\n",
              " ':thumbs_up_light_skin_tone:',\n",
              " ':hundred_points:',\n",
              " ':thumbs_up:',\n",
              " ':heart_on_fire:',\n",
              " ':heart_on_fire:',\n",
              " ':face_with_tears_of_joy:',\n",
              " ':man_facepalming:',\n",
              " ':thinking_face:',\n",
              " ':fire:',\n",
              " ':flexed_biceps:',\n",
              " ':fire:',\n",
              " ':collision:',\n",
              " ':collision:',\n",
              " ':face_with_tears_of_joy:',\n",
              " ':face_with_tears_of_joy:',\n",
              " ':high_voltage:',\n",
              " ':flexed_biceps:',\n",
              " ':thumbs_up_light_skin_tone:',\n",
              " ':hundred_points:',\n",
              " ':thumbs_up:',\n",
              " ':heart_on_fire:',\n",
              " ':heart_on_fire:',\n",
              " ':face_with_tears_of_joy:',\n",
              " ':man_facepalming:',\n",
              " ':thinking_face:',\n",
              " ':fire:',\n",
              " ':flexed_biceps:',\n",
              " ':fire:',\n",
              " ':collision:',\n",
              " ':collision:',\n",
              " ':face_with_tears_of_joy:',\n",
              " ':face_with_tears_of_joy:',\n",
              " ':high_voltage:',\n",
              " ':flexed_biceps:',\n",
              " ':thumbs_up_light_skin_tone:',\n",
              " ':hundred_points:',\n",
              " ':thumbs_up:',\n",
              " ':heart_on_fire:',\n",
              " ':heart_on_fire:',\n",
              " ':face_with_tears_of_joy:',\n",
              " ':man_facepalming:',\n",
              " ':thinking_face:',\n",
              " ':fire:',\n",
              " ':flexed_biceps:',\n",
              " ':fire:',\n",
              " ':collision:',\n",
              " ':collision:',\n",
              " ':collision:',\n",
              " ':face_with_tears_of_joy:',\n",
              " ':face_with_tears_of_joy:',\n",
              " ':high_voltage:',\n",
              " ':flexed_biceps:',\n",
              " ':thumbs_up_light_skin_tone:',\n",
              " ':hundred_points:',\n",
              " ':thumbs_up:',\n",
              " ':heart_on_fire:',\n",
              " ':heart_on_fire:',\n",
              " ':face_with_tears_of_joy:',\n",
              " ':man_facepalming:',\n",
              " ':thinking_face:',\n",
              " ':fire:',\n",
              " ':flexed_biceps:',\n",
              " ':fire:',\n",
              " ':collision:',\n",
              " ':collision:',\n",
              " ':collision:',\n",
              " ':face_with_tears_of_joy:',\n",
              " ':face_with_tears_of_joy:',\n",
              " ':high_voltage:',\n",
              " ':flexed_biceps:',\n",
              " ':thumbs_up_light_skin_tone:',\n",
              " ':hundred_points:',\n",
              " ':thumbs_up:',\n",
              " ':heart_on_fire:',\n",
              " ':heart_on_fire:',\n",
              " ':face_with_tears_of_joy:',\n",
              " ':man_facepalming:',\n",
              " ':thinking_face:',\n",
              " ':fire:',\n",
              " ':flexed_biceps:',\n",
              " ':fire:',\n",
              " ':collision:',\n",
              " ':collision:',\n",
              " ':collision:',\n",
              " ':face_with_tears_of_joy:',\n",
              " ':face_with_tears_of_joy:',\n",
              " ':high_voltage:',\n",
              " ':flexed_biceps:',\n",
              " ':thumbs_up_light_skin_tone:',\n",
              " ':hundred_points:',\n",
              " ':thumbs_up:',\n",
              " ':heart_on_fire:',\n",
              " ':heart_on_fire:',\n",
              " ':face_with_tears_of_joy:',\n",
              " ':man_facepalming:',\n",
              " ':thinking_face:',\n",
              " ':fire:',\n",
              " ':flexed_biceps:',\n",
              " ':fire:',\n",
              " ':collision:',\n",
              " ':collision:',\n",
              " ':flexed_biceps:',\n",
              " ':collision:',\n",
              " ':face_with_tears_of_joy:',\n",
              " ':face_with_tears_of_joy:',\n",
              " ':high_voltage:',\n",
              " ':flexed_biceps:',\n",
              " ':thumbs_up_light_skin_tone:',\n",
              " ':hundred_points:',\n",
              " ':thumbs_up:',\n",
              " ':heart_on_fire:',\n",
              " ':heart_on_fire:',\n",
              " ':face_with_tears_of_joy:',\n",
              " ':man_facepalming:',\n",
              " ':thinking_face:',\n",
              " ':fire:',\n",
              " ':flexed_biceps:',\n",
              " ':fire:',\n",
              " ':collision:',\n",
              " ':collision:',\n",
              " ':flexed_biceps:',\n",
              " ':collision:',\n",
              " ':face_with_tears_of_joy:',\n",
              " ':face_with_tears_of_joy:',\n",
              " ':high_voltage:',\n",
              " ':flexed_biceps:',\n",
              " ':thumbs_up_light_skin_tone:',\n",
              " ':hundred_points:',\n",
              " ':thumbs_up:',\n",
              " ':heart_on_fire:',\n",
              " ':heart_on_fire:',\n",
              " ':face_with_tears_of_joy:',\n",
              " ':man_facepalming:',\n",
              " ':thinking_face:',\n",
              " ':fire:',\n",
              " ':flexed_biceps:',\n",
              " ':fire:',\n",
              " ':collision:',\n",
              " ':collision:',\n",
              " ':flexed_biceps:',\n",
              " ':fire:',\n",
              " ':collision:',\n",
              " ':face_with_tears_of_joy:',\n",
              " ':face_with_tears_of_joy:',\n",
              " ':high_voltage:',\n",
              " ':flexed_biceps:',\n",
              " ':thumbs_up_light_skin_tone:',\n",
              " ':hundred_points:',\n",
              " ':thumbs_up:',\n",
              " ':heart_on_fire:',\n",
              " ':heart_on_fire:',\n",
              " ':face_with_tears_of_joy:',\n",
              " ':man_facepalming:',\n",
              " ':thinking_face:',\n",
              " ':fire:',\n",
              " ':flexed_biceps:',\n",
              " ':fire:',\n",
              " ':collision:',\n",
              " ':collision:',\n",
              " ':flexed_biceps:',\n",
              " ':fire:',\n",
              " ':collision:',\n",
              " ':face_with_tears_of_joy:',\n",
              " ':face_with_tears_of_joy:',\n",
              " ':high_voltage:',\n",
              " ':flexed_biceps:',\n",
              " ':thumbs_up_light_skin_tone:',\n",
              " ':hundred_points:',\n",
              " ':thumbs_up:',\n",
              " ':heart_on_fire:',\n",
              " ':heart_on_fire:',\n",
              " ':face_with_tears_of_joy:',\n",
              " ':man_facepalming:',\n",
              " ':thinking_face:',\n",
              " ':fire:',\n",
              " ':flexed_biceps:',\n",
              " ':fire:',\n",
              " ':collision:',\n",
              " ':collision:',\n",
              " ':flexed_biceps:',\n",
              " ':fire:',\n",
              " ':thinking_face:',\n",
              " ':collision:',\n",
              " ':face_with_tears_of_joy:',\n",
              " ':face_with_tears_of_joy:',\n",
              " ':high_voltage:',\n",
              " ':flexed_biceps:',\n",
              " ':thumbs_up_light_skin_tone:',\n",
              " ':hundred_points:',\n",
              " ':thumbs_up:',\n",
              " ':heart_on_fire:',\n",
              " ':heart_on_fire:',\n",
              " ':face_with_tears_of_joy:',\n",
              " ':man_facepalming:',\n",
              " ':thinking_face:',\n",
              " ':fire:',\n",
              " ':flexed_biceps:',\n",
              " ':fire:',\n",
              " ':collision:',\n",
              " ':collision:',\n",
              " ':flexed_biceps:',\n",
              " ':fire:',\n",
              " ':thinking_face:',\n",
              " ':collision:',\n",
              " ':face_with_tears_of_joy:',\n",
              " ':face_with_tears_of_joy:',\n",
              " ':high_voltage:',\n",
              " ':flexed_biceps:',\n",
              " ':thumbs_up_light_skin_tone:',\n",
              " ':hundred_points:',\n",
              " ':thumbs_up:',\n",
              " ':heart_on_fire:',\n",
              " ':heart_on_fire:',\n",
              " ':face_with_tears_of_joy:',\n",
              " ':man_facepalming:',\n",
              " ':thinking_face:',\n",
              " ':fire:',\n",
              " ':flexed_biceps:',\n",
              " ':fire:',\n",
              " ':collision:',\n",
              " ':collision:',\n",
              " ':flexed_biceps:',\n",
              " ':fire:',\n",
              " ':thinking_face:',\n",
              " ':collision:',\n",
              " ':face_with_tears_of_joy:',\n",
              " ':face_with_tears_of_joy:',\n",
              " ':high_voltage:',\n",
              " ':flexed_biceps:',\n",
              " ':thumbs_up_light_skin_tone:',\n",
              " ':hundred_points:',\n",
              " ':thumbs_up:',\n",
              " ':heart_on_fire:',\n",
              " ':heart_on_fire:',\n",
              " ':face_with_tears_of_joy:',\n",
              " ':man_facepalming:',\n",
              " ':thinking_face:',\n",
              " ':fire:',\n",
              " ':flexed_biceps:',\n",
              " ':fire:',\n",
              " ':collision:',\n",
              " ':collision:',\n",
              " ':flexed_biceps:',\n",
              " ':fire:',\n",
              " ':thinking_face:',\n",
              " ':face_with_tears_of_joy:',\n",
              " ':collision:',\n",
              " ':face_with_tears_of_joy:',\n",
              " ':face_with_tears_of_joy:',\n",
              " ':high_voltage:',\n",
              " ':flexed_biceps:',\n",
              " ':thumbs_up_light_skin_tone:',\n",
              " ':hundred_points:',\n",
              " ':thumbs_up:',\n",
              " ':heart_on_fire:',\n",
              " ':heart_on_fire:',\n",
              " ':face_with_tears_of_joy:',\n",
              " ':man_facepalming:',\n",
              " ':thinking_face:',\n",
              " ':fire:',\n",
              " ':flexed_biceps:',\n",
              " ':fire:',\n",
              " ':collision:',\n",
              " ':collision:',\n",
              " ':flexed_biceps:',\n",
              " ':fire:',\n",
              " ':thinking_face:',\n",
              " ':face_with_tears_of_joy:',\n",
              " ':collision:',\n",
              " ':face_with_tears_of_joy:',\n",
              " ':face_with_tears_of_joy:',\n",
              " ':high_voltage:',\n",
              " ':flexed_biceps:',\n",
              " ':thumbs_up_light_skin_tone:',\n",
              " ':hundred_points:',\n",
              " ':thumbs_up:',\n",
              " ':heart_on_fire:',\n",
              " ':heart_on_fire:',\n",
              " ':face_with_tears_of_joy:',\n",
              " ':man_facepalming:',\n",
              " ':thinking_face:',\n",
              " ':fire:',\n",
              " ':flexed_biceps:',\n",
              " ':fire:',\n",
              " ':collision:',\n",
              " ':collision:',\n",
              " ':flexed_biceps:',\n",
              " ':fire:',\n",
              " ':thinking_face:',\n",
              " ':face_with_tears_of_joy:',\n",
              " ':collision:',\n",
              " ':face_with_tears_of_joy:',\n",
              " ':face_with_tears_of_joy:',\n",
              " ':high_voltage:',\n",
              " ':flexed_biceps:',\n",
              " ':thumbs_up_light_skin_tone:',\n",
              " ':hundred_points:',\n",
              " ':thumbs_up:',\n",
              " ':heart_on_fire:',\n",
              " ':heart_on_fire:',\n",
              " ':face_with_tears_of_joy:',\n",
              " ':man_facepalming:',\n",
              " ':thinking_face:',\n",
              " ':fire:',\n",
              " ':flexed_biceps:',\n",
              " ':fire:',\n",
              " ':collision:',\n",
              " ':collision:',\n",
              " ':flexed_biceps:',\n",
              " ':fire:',\n",
              " ':thinking_face:',\n",
              " ':face_with_tears_of_joy:',\n",
              " ':flexed_biceps:',\n",
              " ':collision:',\n",
              " ':collision:',\n",
              " ':face_with_tears_of_joy:',\n",
              " ':face_with_tears_of_joy:',\n",
              " ':high_voltage:',\n",
              " ':flexed_biceps:',\n",
              " ':thumbs_up_light_skin_tone:',\n",
              " ':hundred_points:',\n",
              " ':thumbs_up:',\n",
              " ':heart_on_fire:',\n",
              " ':heart_on_fire:',\n",
              " ':face_with_tears_of_joy:',\n",
              " ':man_facepalming:',\n",
              " ':thinking_face:',\n",
              " ':fire:',\n",
              " ':flexed_biceps:',\n",
              " ':fire:',\n",
              " ':collision:',\n",
              " ':collision:',\n",
              " ':flexed_biceps:',\n",
              " ':fire:',\n",
              " ':thinking_face:',\n",
              " ':face_with_tears_of_joy:',\n",
              " ':flexed_biceps:',\n",
              " ':collision:',\n",
              " ':collision:',\n",
              " ':face_with_tears_of_joy:',\n",
              " ':face_with_tears_of_joy:',\n",
              " ':high_voltage:',\n",
              " ':flexed_biceps:',\n",
              " ':thumbs_up_light_skin_tone:',\n",
              " ':hundred_points:',\n",
              " ':thumbs_up:',\n",
              " ':heart_on_fire:',\n",
              " ':heart_on_fire:',\n",
              " ':face_with_tears_of_joy:',\n",
              " ':man_facepalming:',\n",
              " ':thinking_face:',\n",
              " ':fire:',\n",
              " ':flexed_biceps:',\n",
              " ':fire:',\n",
              " ':collision:',\n",
              " ':collision:',\n",
              " ':flexed_biceps:',\n",
              " ':fire:',\n",
              " ':thinking_face:',\n",
              " ':face_with_tears_of_joy:',\n",
              " ':flexed_biceps:',\n",
              " ':collision:',\n",
              " ':collision:',\n",
              " ':face_with_tears_of_joy:',\n",
              " ':face_with_tears_of_joy:',\n",
              " ':high_voltage:',\n",
              " ':flexed_biceps:',\n",
              " ':thumbs_up_light_skin_tone:',\n",
              " ':hundred_points:',\n",
              " ':thumbs_up:',\n",
              " ':heart_on_fire:',\n",
              " ':heart_on_fire:',\n",
              " ':face_with_tears_of_joy:',\n",
              " ':man_facepalming:',\n",
              " ':thinking_face:',\n",
              " ':fire:',\n",
              " ':flexed_biceps:',\n",
              " ':fire:',\n",
              " ':collision:',\n",
              " ':collision:',\n",
              " ':flexed_biceps:',\n",
              " ':fire:',\n",
              " ':thinking_face:',\n",
              " ':face_with_tears_of_joy:',\n",
              " ':flexed_biceps:',\n",
              " ':collision:',\n",
              " ':collision:',\n",
              " ':face_with_tears_of_joy:',\n",
              " ':face_with_tears_of_joy:',\n",
              " ':high_voltage:',\n",
              " ':flexed_biceps:',\n",
              " ':thumbs_up_light_skin_tone:',\n",
              " ':hundred_points:',\n",
              " ':thumbs_up:',\n",
              " ':heart_on_fire:',\n",
              " ':heart_on_fire:',\n",
              " ':face_with_tears_of_joy:',\n",
              " ':man_facepalming:',\n",
              " ':thinking_face:',\n",
              " ':fire:',\n",
              " ':flexed_biceps:',\n",
              " ':fire:',\n",
              " ':collision:',\n",
              " ':collision:',\n",
              " ':flexed_biceps:',\n",
              " ':fire:',\n",
              " ':thinking_face:',\n",
              " ':face_with_tears_of_joy:',\n",
              " ':flexed_biceps:',\n",
              " ':collision:',\n",
              " ':collision:',\n",
              " ':face_with_tears_of_joy:',\n",
              " ':face_with_tears_of_joy:',\n",
              " ':high_voltage:',\n",
              " ':flexed_biceps:',\n",
              " ':thumbs_up_light_skin_tone:',\n",
              " ':hundred_points:',\n",
              " ':thumbs_up:',\n",
              " ':heart_on_fire:',\n",
              " ':heart_on_fire:',\n",
              " ':face_with_tears_of_joy:',\n",
              " ':man_facepalming:',\n",
              " ':thinking_face:',\n",
              " ':fire:',\n",
              " ':flexed_biceps:',\n",
              " ':fire:',\n",
              " ':collision:',\n",
              " ':collision:',\n",
              " ':flexed_biceps:',\n",
              " ':fire:',\n",
              " ':thinking_face:',\n",
              " ':face_with_tears_of_joy:',\n",
              " ':flexed_biceps:',\n",
              " ':collision:',\n",
              " ':face_with_tears_of_joy:',\n",
              " ':man_facepalming:',\n",
              " ':collision:',\n",
              " ':face_with_tears_of_joy:',\n",
              " ':face_with_tears_of_joy:',\n",
              " ':high_voltage:',\n",
              " ':flexed_biceps:',\n",
              " ':thumbs_up_light_skin_tone:',\n",
              " ':hundred_points:',\n",
              " ':thumbs_up:',\n",
              " ':heart_on_fire:',\n",
              " ':heart_on_fire:',\n",
              " ':face_with_tears_of_joy:',\n",
              " ':man_facepalming:',\n",
              " ':thinking_face:',\n",
              " ':fire:',\n",
              " ':flexed_biceps:',\n",
              " ':fire:',\n",
              " ':collision:',\n",
              " ':collision:',\n",
              " ':flexed_biceps:',\n",
              " ':fire:',\n",
              " ':thinking_face:',\n",
              " ':face_with_tears_of_joy:',\n",
              " ':flexed_biceps:',\n",
              " ':collision:',\n",
              " ':face_with_tears_of_joy:',\n",
              " ':man_facepalming:',\n",
              " ':collision:',\n",
              " ':face_with_tears_of_joy:',\n",
              " ':face_with_tears_of_joy:',\n",
              " ':high_voltage:',\n",
              " ':flexed_biceps:',\n",
              " ':thumbs_up_light_skin_tone:',\n",
              " ':hundred_points:',\n",
              " ':thumbs_up:',\n",
              " ':heart_on_fire:',\n",
              " ':heart_on_fire:',\n",
              " ':face_with_tears_of_joy:',\n",
              " ':man_facepalming:',\n",
              " ':thinking_face:',\n",
              " ':fire:',\n",
              " ':flexed_biceps:',\n",
              " ':fire:',\n",
              " ':collision:',\n",
              " ':collision:',\n",
              " ':flexed_biceps:',\n",
              " ':fire:',\n",
              " ':thinking_face:',\n",
              " ':face_with_tears_of_joy:',\n",
              " ':flexed_biceps:',\n",
              " ':collision:',\n",
              " ':face_with_tears_of_joy:',\n",
              " ':man_facepalming:',\n",
              " ':collision:',\n",
              " ':face_with_tears_of_joy:',\n",
              " ':face_with_tears_of_joy:',\n",
              " ':high_voltage:',\n",
              " ':flexed_biceps:',\n",
              " ':thumbs_up_light_skin_tone:',\n",
              " ':hundred_points:',\n",
              " ':thumbs_up:',\n",
              " ':heart_on_fire:',\n",
              " ':heart_on_fire:',\n",
              " ':face_with_tears_of_joy:',\n",
              " ':man_facepalming:',\n",
              " ':thinking_face:',\n",
              " ':fire:',\n",
              " ':flexed_biceps:',\n",
              " ':fire:',\n",
              " ':collision:',\n",
              " ':collision:',\n",
              " ':flexed_biceps:',\n",
              " ':fire:',\n",
              " ':thinking_face:',\n",
              " ':face_with_tears_of_joy:',\n",
              " ':flexed_biceps:',\n",
              " ':collision:',\n",
              " ':face_with_tears_of_joy:',\n",
              " ':man_facepalming:',\n",
              " ':collision:',\n",
              " ':face_with_tears_of_joy:',\n",
              " ':face_with_tears_of_joy:',\n",
              " ':high_voltage:',\n",
              " ':flexed_biceps:',\n",
              " ':thumbs_up_light_skin_tone:',\n",
              " ':hundred_points:',\n",
              " ':thumbs_up:',\n",
              " ':heart_on_fire:',\n",
              " ':heart_on_fire:',\n",
              " ':face_with_tears_of_joy:',\n",
              " ':man_facepalming:',\n",
              " ':thinking_face:',\n",
              " ':fire:',\n",
              " ':flexed_biceps:',\n",
              " ':fire:',\n",
              " ':collision:',\n",
              " ':collision:',\n",
              " ':flexed_biceps:',\n",
              " ':fire:',\n",
              " ':thinking_face:',\n",
              " ':face_with_tears_of_joy:',\n",
              " ':flexed_biceps:',\n",
              " ':collision:',\n",
              " ':face_with_tears_of_joy:',\n",
              " ':man_facepalming:',\n",
              " ':collision:',\n",
              " ':face_with_tears_of_joy:',\n",
              " ':face_with_tears_of_joy:',\n",
              " ':high_voltage:',\n",
              " ':flexed_biceps:',\n",
              " ':thumbs_up_light_skin_tone:',\n",
              " ':hundred_points:',\n",
              " ':thumbs_up:',\n",
              " ':heart_on_fire:',\n",
              " ':heart_on_fire:',\n",
              " ':face_with_tears_of_joy:',\n",
              " ':man_facepalming:',\n",
              " ':thinking_face:',\n",
              " ':fire:',\n",
              " ':flexed_biceps:',\n",
              " ':fire:',\n",
              " ':collision:',\n",
              " ':collision:',\n",
              " ':flexed_biceps:',\n",
              " ':fire:',\n",
              " ':thinking_face:',\n",
              " ':face_with_tears_of_joy:',\n",
              " ':flexed_biceps:',\n",
              " ':collision:',\n",
              " ':face_with_tears_of_joy:',\n",
              " ':man_facepalming:',\n",
              " ':collision:',\n",
              " ':face_with_tears_of_joy:',\n",
              " ':face_with_tears_of_joy:',\n",
              " ':high_voltage:',\n",
              " ':flexed_biceps:',\n",
              " ':thumbs_up_light_skin_tone:',\n",
              " ':hundred_points:',\n",
              " ':thumbs_up:',\n",
              " ':heart_on_fire:',\n",
              " ':heart_on_fire:',\n",
              " ':face_with_tears_of_joy:',\n",
              " ':man_facepalming:',\n",
              " ':thinking_face:',\n",
              " ':fire:',\n",
              " ':flexed_biceps:',\n",
              " ':fire:',\n",
              " ':collision:',\n",
              " ':collision:',\n",
              " ':flexed_biceps:',\n",
              " ':fire:',\n",
              " ':thinking_face:',\n",
              " ':face_with_tears_of_joy:',\n",
              " ':flexed_biceps:',\n",
              " ':collision:',\n",
              " ':face_with_tears_of_joy:',\n",
              " ':man_facepalming:',\n",
              " ':face_without_mouth:',\n",
              " ':collision:',\n",
              " ':face_with_tears_of_joy:',\n",
              " ':face_with_tears_of_joy:',\n",
              " ':high_voltage:',\n",
              " ':flexed_biceps:',\n",
              " ':thumbs_up_light_skin_tone:',\n",
              " ':hundred_points:',\n",
              " ':thumbs_up:',\n",
              " ':heart_on_fire:',\n",
              " ':heart_on_fire:',\n",
              " ':face_with_tears_of_joy:',\n",
              " ':man_facepalming:',\n",
              " ':thinking_face:',\n",
              " ':fire:',\n",
              " ':flexed_biceps:',\n",
              " ':fire:',\n",
              " ':collision:',\n",
              " ':collision:',\n",
              " ':flexed_biceps:',\n",
              " ':fire:',\n",
              " ':thinking_face:',\n",
              " ':face_with_tears_of_joy:',\n",
              " ':flexed_biceps:',\n",
              " ':collision:',\n",
              " ':face_with_tears_of_joy:',\n",
              " ':man_facepalming:',\n",
              " ':face_without_mouth:',\n",
              " ':collision:',\n",
              " ':face_with_tears_of_joy:',\n",
              " ':face_with_tears_of_joy:',\n",
              " ':high_voltage:',\n",
              " ':flexed_biceps:',\n",
              " ':thumbs_up_light_skin_tone:',\n",
              " ':hundred_points:',\n",
              " ':thumbs_up:',\n",
              " ':heart_on_fire:',\n",
              " ':heart_on_fire:',\n",
              " ':face_with_tears_of_joy:',\n",
              " ':man_facepalming:',\n",
              " ':thinking_face:',\n",
              " ':fire:',\n",
              " ':flexed_biceps:',\n",
              " ':fire:',\n",
              " ':collision:',\n",
              " ':collision:',\n",
              " ':flexed_biceps:',\n",
              " ':fire:',\n",
              " ':thinking_face:',\n",
              " ':face_with_tears_of_joy:',\n",
              " ':flexed_biceps:',\n",
              " ':collision:',\n",
              " ':face_with_tears_of_joy:',\n",
              " ':man_facepalming:',\n",
              " ':face_without_mouth:',\n",
              " ':thinking_face:',\n",
              " ':collision:',\n",
              " ':face_with_tears_of_joy:',\n",
              " ':face_with_tears_of_joy:',\n",
              " ':high_voltage:',\n",
              " ':flexed_biceps:',\n",
              " ':thumbs_up_light_skin_tone:',\n",
              " ':hundred_points:',\n",
              " ':thumbs_up:',\n",
              " ':heart_on_fire:',\n",
              " ':heart_on_fire:',\n",
              " ':face_with_tears_of_joy:',\n",
              " ':man_facepalming:',\n",
              " ':thinking_face:',\n",
              " ':fire:',\n",
              " ':flexed_biceps:',\n",
              " ':fire:',\n",
              " ':collision:',\n",
              " ':collision:',\n",
              " ':flexed_biceps:',\n",
              " ':fire:',\n",
              " ':thinking_face:',\n",
              " ':face_with_tears_of_joy:',\n",
              " ':flexed_biceps:',\n",
              " ':collision:',\n",
              " ':face_with_tears_of_joy:',\n",
              " ':man_facepalming:',\n",
              " ':face_without_mouth:',\n",
              " ':thinking_face:',\n",
              " ':collision:',\n",
              " ':face_with_tears_of_joy:',\n",
              " ':face_with_tears_of_joy:',\n",
              " ':high_voltage:',\n",
              " ':flexed_biceps:',\n",
              " ':thumbs_up_light_skin_tone:',\n",
              " ':hundred_points:',\n",
              " ':thumbs_up:',\n",
              " ':heart_on_fire:',\n",
              " ':heart_on_fire:',\n",
              " ':face_with_tears_of_joy:',\n",
              " ':man_facepalming:',\n",
              " ':thinking_face:',\n",
              " ':fire:',\n",
              " ':flexed_biceps:',\n",
              " ':fire:',\n",
              " ':collision:',\n",
              " ':collision:',\n",
              " ':flexed_biceps:',\n",
              " ':fire:',\n",
              " ':thinking_face:',\n",
              " ':face_with_tears_of_joy:',\n",
              " ':flexed_biceps:',\n",
              " ':collision:',\n",
              " ':face_with_tears_of_joy:',\n",
              " ':man_facepalming:',\n",
              " ':face_without_mouth:',\n",
              " ':thinking_face:',\n",
              " ':collision:',\n",
              " ':collision:',\n",
              " ':face_with_tears_of_joy:',\n",
              " ':face_with_tears_of_joy:',\n",
              " ':high_voltage:',\n",
              " ':flexed_biceps:',\n",
              " ':thumbs_up_light_skin_tone:',\n",
              " ':hundred_points:',\n",
              " ':thumbs_up:',\n",
              " ':heart_on_fire:',\n",
              " ':heart_on_fire:',\n",
              " ':face_with_tears_of_joy:',\n",
              " ':man_facepalming:',\n",
              " ':thinking_face:',\n",
              " ':fire:',\n",
              " ':flexed_biceps:',\n",
              " ':fire:',\n",
              " ':collision:',\n",
              " ':collision:',\n",
              " ':flexed_biceps:',\n",
              " ':fire:',\n",
              " ':thinking_face:',\n",
              " ':face_with_tears_of_joy:',\n",
              " ':flexed_biceps:',\n",
              " ':collision:',\n",
              " ':face_with_tears_of_joy:',\n",
              " ':man_facepalming:',\n",
              " ':face_without_mouth:',\n",
              " ':thinking_face:',\n",
              " ':collision:',\n",
              " ':collision:',\n",
              " ':face_with_tears_of_joy:',\n",
              " ':face_with_tears_of_joy:',\n",
              " ':high_voltage:',\n",
              " ':flexed_biceps:',\n",
              " ':thumbs_up_light_skin_tone:',\n",
              " ':hundred_points:',\n",
              " ':thumbs_up:',\n",
              " ':heart_on_fire:',\n",
              " ':heart_on_fire:',\n",
              " ':face_with_tears_of_joy:',\n",
              " ':man_facepalming:',\n",
              " ':thinking_face:',\n",
              " ':fire:',\n",
              " ':flexed_biceps:',\n",
              " ':fire:',\n",
              " ':collision:',\n",
              " ':collision:',\n",
              " ':flexed_biceps:',\n",
              " ':fire:',\n",
              " ':thinking_face:',\n",
              " ':face_with_tears_of_joy:',\n",
              " ':flexed_biceps:',\n",
              " ':collision:',\n",
              " ':face_with_tears_of_joy:',\n",
              " ':man_facepalming:',\n",
              " ':face_without_mouth:',\n",
              " ':thinking_face:',\n",
              " ':collision:',\n",
              " ':collision:',\n",
              " ':face_with_tears_of_joy:',\n",
              " ':face_with_tears_of_joy:',\n",
              " ':high_voltage:',\n",
              " ':flexed_biceps:',\n",
              " ':thumbs_up_light_skin_tone:',\n",
              " ':hundred_points:',\n",
              " ':thumbs_up:',\n",
              " ':heart_on_fire:',\n",
              " ':heart_on_fire:',\n",
              " ':face_with_tears_of_joy:',\n",
              " ':man_facepalming:',\n",
              " ':thinking_face:',\n",
              " ':fire:',\n",
              " ':flexed_biceps:',\n",
              " ':fire:',\n",
              " ':collision:',\n",
              " ':collision:',\n",
              " ':flexed_biceps:',\n",
              " ':fire:',\n",
              " ':thinking_face:',\n",
              " ':face_with_tears_of_joy:',\n",
              " ':flexed_biceps:',\n",
              " ':collision:',\n",
              " ':face_with_tears_of_joy:',\n",
              " ':man_facepalming:',\n",
              " ':face_without_mouth:',\n",
              " ':thinking_face:',\n",
              " ':collision:',\n",
              " ':collision:',\n",
              " ':face_with_tears_of_joy:',\n",
              " ':face_with_tears_of_joy:',\n",
              " ':high_voltage:',\n",
              " ':flexed_biceps:',\n",
              " ':thumbs_up_light_skin_tone:',\n",
              " ':hundred_points:',\n",
              " ':thumbs_up:',\n",
              " ':heart_on_fire:',\n",
              " ':heart_on_fire:',\n",
              " ...]"
            ]
          },
          "metadata": {},
          "execution_count": 31
        }
      ]
    },
    {
      "cell_type": "code",
      "source": [
        "emojis"
      ],
      "metadata": {
        "colab": {
          "base_uri": "https://localhost:8080/"
        },
        "id": "XHyIY5Uy4OSz",
        "outputId": "1626d1a9-4d48-4a27-91ae-6bbdbc4a179b"
      },
      "execution_count": null,
      "outputs": [
        {
          "output_type": "execute_result",
          "data": {
            "text/plain": [
              "['💥',\n",
              " '😂',\n",
              " '😂',\n",
              " '⚡',\n",
              " '💪',\n",
              " '👍🏻',\n",
              " '💯',\n",
              " '👍',\n",
              " '❤️\\u200d🔥',\n",
              " '❤️\\u200d🔥',\n",
              " '😂',\n",
              " '🤦\\u200d♂️',\n",
              " '🤔',\n",
              " '🔥',\n",
              " '💪',\n",
              " '🔥',\n",
              " '💥',\n",
              " '💥',\n",
              " '💪',\n",
              " '🔥',\n",
              " '🤔',\n",
              " '😂',\n",
              " '💪',\n",
              " '💥',\n",
              " '😂',\n",
              " '🤦\\u200d♂️',\n",
              " '😶',\n",
              " '🤔',\n",
              " '💥',\n",
              " '🔥',\n",
              " '😂',\n",
              " '😢',\n",
              " '😩',\n",
              " '😂',\n",
              " '😂',\n",
              " '😂',\n",
              " '💥',\n",
              " '🔥',\n",
              " '😅',\n",
              " '🤔',\n",
              " '🔥',\n",
              " '💥',\n",
              " '😂',\n",
              " '💪',\n",
              " '🔥',\n",
              " '🤧',\n",
              " '🔥',\n",
              " '💥',\n",
              " '🔥',\n",
              " '❤️\\u200d🔥',\n",
              " '⚡',\n",
              " '🥳',\n",
              " '👍🏼',\n",
              " '🔥',\n",
              " '💯',\n",
              " '👍',\n",
              " '💯',\n",
              " '🔥',\n",
              " '🔥',\n",
              " '💥',\n",
              " '🔥',\n",
              " '🥳',\n",
              " '💯',\n",
              " '🔥',\n",
              " '💥',\n",
              " '🔥',\n",
              " '💥',\n",
              " '🤨',\n",
              " '😩',\n",
              " '😭',\n",
              " '🤔',\n",
              " '🔥',\n",
              " '💥',\n",
              " '🤧',\n",
              " '🔥',\n",
              " '✨',\n",
              " '💥',\n",
              " '💥',\n",
              " '🥵',\n",
              " '⚡',\n",
              " '🥳',\n",
              " '💥',\n",
              " '🔥',\n",
              " '🤧']"
            ]
          },
          "metadata": {},
          "execution_count": 32
        }
      ]
    },
    {
      "cell_type": "code",
      "source": [
        "emoji=len(emojis)"
      ],
      "metadata": {
        "id": "LPGMNHpYZOGY"
      },
      "execution_count": null,
      "outputs": []
    },
    {
      "cell_type": "code",
      "source": [
        "b=[]\n",
        "for i in emojis:\n",
        "    # Add to the new list\n",
        "    # only if not present\n",
        "    if i not in b:\n",
        "        b.append(i)\n",
        "\n",
        "print(b)"
      ],
      "metadata": {
        "colab": {
          "base_uri": "https://localhost:8080/"
        },
        "id": "R4Ik4ZhdHmzr",
        "outputId": "cfc5564f-8e03-4da2-babc-ae3340a97cc1"
      },
      "execution_count": null,
      "outputs": [
        {
          "output_type": "stream",
          "name": "stdout",
          "text": [
            "['💥', '😂', '⚡', '💪', '👍🏻', '💯', '👍', '❤️\\u200d🔥', '🤦\\u200d♂️', '🤔', '🔥', '😶', '😢', '😩', '😅', '🤧', '🥳', '👍🏼', '🤨', '😭', '✨', '🥵']\n"
          ]
        }
      ]
    },
    {
      "cell_type": "code",
      "source": [
        "d=[]\n",
        "for i in new_line_list:\n",
        "    # Add to the new list\n",
        "    # only if not present\n",
        "    if i not in d:\n",
        "        d.append(i)\n",
        "\n",
        "print(d)"
      ],
      "metadata": {
        "colab": {
          "base_uri": "https://localhost:8080/"
        },
        "id": "1_kvCnqn0-vb",
        "outputId": "0e19445b-c2a0-4499-d87c-1848307c74ff"
      },
      "execution_count": null,
      "outputs": [
        {
          "output_type": "stream",
          "name": "stdout",
          "text": [
            "[':collision:', ':face_with_tears_of_joy:', ':high_voltage:', ':flexed_biceps:', ':thumbs_up_light_skin_tone:', ':hundred_points:', ':thumbs_up:', ':heart_on_fire:', ':man_facepalming:', ':thinking_face:', ':fire:', ':face_without_mouth:', ':crying_face:', ':weary_face:', ':grinning_face_with_sweat:', ':sneezing_face:', ':partying_face:', ':thumbs_up_medium-light_skin_tone:', ':face_with_raised_eyebrow:', ':loudly_crying_face:', ':sparkles:', ':hot_face:']\n"
          ]
        }
      ]
    },
    {
      "cell_type": "code",
      "source": [
        "len(b)"
      ],
      "metadata": {
        "colab": {
          "base_uri": "https://localhost:8080/"
        },
        "id": "Eg41oV6oJGYb",
        "outputId": "bf05d781-3c28-47d7-b593-fabbda16fab3"
      },
      "execution_count": null,
      "outputs": [
        {
          "output_type": "execute_result",
          "data": {
            "text/plain": [
              "22"
            ]
          },
          "metadata": {},
          "execution_count": 36
        }
      ]
    },
    {
      "cell_type": "code",
      "source": [
        "len(d)"
      ],
      "metadata": {
        "colab": {
          "base_uri": "https://localhost:8080/"
        },
        "id": "h8vydn_G1nhl",
        "outputId": "bd43d801-bb74-40e3-fe4f-e41daa1d1fcf"
      },
      "execution_count": null,
      "outputs": [
        {
          "output_type": "execute_result",
          "data": {
            "text/plain": [
              "22"
            ]
          },
          "metadata": {},
          "execution_count": 37
        }
      ]
    },
    {
      "cell_type": "code",
      "source": [
        "from collections import Counter\n",
        "count = Counter(emoji for string in emojis for emoji in string)\n",
        "\n",
        "print(count)\n"
      ],
      "metadata": {
        "id": "nRPv93FEJOIC",
        "colab": {
          "base_uri": "https://localhost:8080/"
        },
        "outputId": "299abd74-acd6-4c8b-f673-1d235427d650"
      },
      "execution_count": null,
      "outputs": [
        {
          "output_type": "stream",
          "name": "stdout",
          "text": [
            "Counter({'🔥': 21, '💥': 15, '😂': 10, '💪': 5, '️': 5, '\\u200d': 5, '🤔': 5, '👍': 4, '💯': 4, '⚡': 3, '❤': 3, '🤧': 3, '🥳': 3, '🤦': 2, '♂': 2, '😩': 2, '🏻': 1, '😶': 1, '😢': 1, '😅': 1, '🏼': 1, '🤨': 1, '😭': 1, '✨': 1, '🥵': 1})\n"
          ]
        }
      ]
    },
    {
      "cell_type": "code",
      "source": [
        "!pip install urlextract"
      ],
      "metadata": {
        "colab": {
          "base_uri": "https://localhost:8080/"
        },
        "id": "r4p8pC-_kOmQ",
        "outputId": "e9ddb8c0-8057-4c23-9815-588ba844e822"
      },
      "execution_count": null,
      "outputs": [
        {
          "output_type": "stream",
          "name": "stdout",
          "text": [
            "Looking in indexes: https://pypi.org/simple, https://us-python.pkg.dev/colab-wheels/public/simple/\n",
            "Collecting urlextract\n",
            "  Downloading urlextract-1.8.0-py3-none-any.whl (21 kB)\n",
            "Collecting uritools\n",
            "  Downloading uritools-4.0.1-py3-none-any.whl (10 kB)\n",
            "Requirement already satisfied: platformdirs in /usr/local/lib/python3.8/dist-packages (from urlextract) (2.6.2)\n",
            "Requirement already satisfied: filelock in /usr/local/lib/python3.8/dist-packages (from urlextract) (3.9.0)\n",
            "Requirement already satisfied: idna in /usr/local/lib/python3.8/dist-packages (from urlextract) (2.10)\n",
            "Installing collected packages: uritools, urlextract\n",
            "Successfully installed uritools-4.0.1 urlextract-1.8.0\n"
          ]
        }
      ]
    },
    {
      "cell_type": "code",
      "source": [
        "users = df['Author'].value_counts().index[:10]\n",
        "users\n",
        "values = df['Author'].value_counts().values[:10]\n",
        "values"
      ],
      "metadata": {
        "colab": {
          "base_uri": "https://localhost:8080/"
        },
        "id": "C5ckOR5wkssf",
        "outputId": "6e3e243b-6812-4dd0-b9dd-a928ee259449"
      },
      "execution_count": null,
      "outputs": [
        {
          "output_type": "execute_result",
          "data": {
            "text/plain": [
              "array([98, 63, 27,  5])"
            ]
          },
          "metadata": {},
          "execution_count": 40
        }
      ]
    },
    {
      "cell_type": "code",
      "source": [
        "URLPATTERN = r'(?:(?:https?|ftp):\\/\\/)?[\\w/\\-?=%.]+\\.[\\w/\\-&?=%.]+'\n",
        "df['Url_Count'] = df.Message.apply(lambda x: re.findall(URLPATTERN, x)).str.len()\n",
        "links = np.sum(df.Url_Count)\n",
        "#https://youtu.be/Uo3JhzD5Vcs"
      ],
      "metadata": {
        "id": "fWSYVzjoTDM_"
      },
      "execution_count": null,
      "outputs": []
    },
    {
      "cell_type": "code",
      "source": [
        "links"
      ],
      "metadata": {
        "colab": {
          "base_uri": "https://localhost:8080/"
        },
        "id": "l6IBh0YqTUtO",
        "outputId": "7535dcaf-a57d-42f9-9fc0-c6ef6ace95cf"
      },
      "execution_count": null,
      "outputs": [
        {
          "output_type": "execute_result",
          "data": {
            "text/plain": [
              "12"
            ]
          },
          "metadata": {},
          "execution_count": 42
        }
      ]
    },
    {
      "cell_type": "code",
      "source": [
        "print('Total Number of Links : {}'.format(links))"
      ],
      "metadata": {
        "colab": {
          "base_uri": "https://localhost:8080/"
        },
        "id": "xTKbb7mwTSv5",
        "outputId": "c600ea32-b084-4046-80a4-d9dbbb40c117"
      },
      "execution_count": null,
      "outputs": [
        {
          "output_type": "stream",
          "name": "stdout",
          "text": [
            "Total Number of Links : 12\n"
          ]
        }
      ]
    },
    {
      "cell_type": "code",
      "source": [
        "\n",
        "\n",
        "print(\"Chats between Ananth , Mukesh and Koushik\")\n",
        "print(\"Total Messages: \", total_messages)\n",
        "print(\"Number of Media Shared: \", media_messages)\n",
        "print(\"Number of Emojis Shared\", emoji)\n",
        "print(\"Number of Links Shared\", links)"
      ],
      "metadata": {
        "colab": {
          "base_uri": "https://localhost:8080/"
        },
        "id": "JWJ7-pq1_0PD",
        "outputId": "f4f55bd8-a4b6-4a20-d5ae-dcd61279807c"
      },
      "execution_count": null,
      "outputs": [
        {
          "output_type": "stream",
          "name": "stdout",
          "text": [
            "Chats between Ananth , Mukesh and Koushik\n",
            "Total Messages:  196\n",
            "Number of Media Shared:  3\n",
            "Number of Emojis Shared 84\n",
            "Number of Links Shared 12\n"
          ]
        }
      ]
    },
    {
      "cell_type": "code",
      "source": [
        "emo = pd.Series(emojis)\n",
        "TopEmoji = emo.value_counts().head()\n",
        "TopEmoji"
      ],
      "metadata": {
        "colab": {
          "base_uri": "https://localhost:8080/"
        },
        "id": "l6heat5cwVkp",
        "outputId": "c1743e31-8f65-415d-86d2-c77f6f447d93"
      },
      "execution_count": null,
      "outputs": [
        {
          "output_type": "execute_result",
          "data": {
            "text/plain": [
              "🔥    18\n",
              "💥    15\n",
              "😂    10\n",
              "🤔     5\n",
              "💪     5\n",
              "dtype: int64"
            ]
          },
          "metadata": {},
          "execution_count": 45
        }
      ]
    },
    {
      "cell_type": "code",
      "source": [
        "# Creating plot\n",
        "fig = plt.figure(figsize =(10, 7))\n",
        "plt.pie(TopEmoji,labels=TopEmoji)\n",
        " \n",
        "# show plot\n",
        "plt.show()"
      ],
      "metadata": {
        "colab": {
          "base_uri": "https://localhost:8080/",
          "height": 411
        },
        "id": "-xdcCwIowoah",
        "outputId": "df108518-c514-45a4-9c8e-afcd0f8179cc"
      },
      "execution_count": null,
      "outputs": [
        {
          "output_type": "display_data",
          "data": {
            "text/plain": [
              "<Figure size 720x504 with 1 Axes>"
            ],
            "image/png": "[encoded data removed]"
          },
          "metadata": {}
        }
      ]
    },
    {
      "cell_type": "code",
      "source": [
        "\n",
        "from nltk.corpus import stopwords\n",
        "import nltk\n",
        "nltk.download('stopwords')\n",
        "stop_words = set(stopwords.words('english'))"
      ],
      "metadata": {
        "colab": {
          "base_uri": "https://localhost:8080/"
        },
        "id": "bAoCaJT7dqtY",
        "outputId": "86307344-f73b-405b-eeef-dc03fbceec2b"
      },
      "execution_count": null,
      "outputs": [
        {
          "output_type": "stream",
          "name": "stderr",
          "text": [
            "[nltk_data] Downloading package stopwords to /root/nltk_data...\n",
            "[nltk_data]   Unzipping corpora/stopwords.zip.\n"
          ]
        }
      ]
    },
    {
      "cell_type": "code",
      "source": [
        "\n",
        "temp = df[df['Author']!= 'Group Notification']\n",
        "temp = temp[temp['Message']!='']\n"
      ],
      "metadata": {
        "id": "siNYfXS6l_JF"
      },
      "execution_count": null,
      "outputs": []
    },
    {
      "cell_type": "code",
      "source": [
        "words = []\n",
        "for message in temp['Message']:\n",
        "  for word in message.lower().split():\n",
        "    if word not in stop_words:\n",
        "      words.extend(message.split())"
      ],
      "metadata": {
        "id": "NST51IFdlbCw"
      },
      "execution_count": null,
      "outputs": []
    },
    {
      "cell_type": "code",
      "source": [
        "from collections import Counter\n",
        "most_common_df = pd.DataFrame(Counter(words).most_common(10))"
      ],
      "metadata": {
        "id": "vaqak_qAldws"
      },
      "execution_count": null,
      "outputs": []
    },
    {
      "cell_type": "code",
      "source": [
        "most_common_df.columns =['Word', 'Count']"
      ],
      "metadata": {
        "id": "mho82Lppsdle"
      },
      "execution_count": null,
      "outputs": []
    },
    {
      "cell_type": "code",
      "source": [
        "\n",
        "most_common_df"
      ],
      "metadata": {
        "colab": {
          "base_uri": "https://localhost:8080/",
          "height": 363
        },
        "id": "nt8BPt_fmGtE",
        "outputId": "2b874b39-0ab2-40ed-9f79-0d0e48353ab6"
      },
      "execution_count": null,
      "outputs": [
        {
          "output_type": "execute_result",
          "data": {
            "text/plain": [
              "    Word  Count\n",
              "0    for    212\n",
              "1    the    160\n",
              "2     in    160\n",
              "3     he    131\n",
              "4      a    100\n",
              "5  think    100\n",
              "6   will    100\n",
              "7   have     84\n",
              "8      I     77\n",
              "9     to     72"
            ],
            "text/html": [
              "\n",
              "  <div id=\"df-ed2e72ac-30a7-431b-95f7-e333a0bbe8bf\">\n",
              "    <div class=\"colab-df-container\">\n",
              "      <div>\n",
              "<style scoped>\n",
              "    .dataframe tbody tr th:only-of-type {\n",
              "        vertical-align: middle;\n",
              "    }\n",
              "\n",
              "    .dataframe tbody tr th {\n",
              "        vertical-align: top;\n",
              "    }\n",
              "\n",
              "    .dataframe thead th {\n",
              "        text-align: right;\n",
              "    }\n",
              "</style>\n",
              "<table border=\"1\" class=\"dataframe\">\n",
              "  <thead>\n",
              "    <tr style=\"text-align: right;\">\n",
              "      <th></th>\n",
              "      <th>Word</th>\n",
              "      <th>Count</th>\n",
              "    </tr>\n",
              "  </thead>\n",
              "  <tbody>\n",
              "    <tr>\n",
              "      <th>0</th>\n",
              "      <td>for</td>\n",
              "      <td>212</td>\n",
              "    </tr>\n",
              "    <tr>\n",
              "      <th>1</th>\n",
              "      <td>the</td>\n",
              "      <td>160</td>\n",
              "    </tr>\n",
              "    <tr>\n",
              "      <th>2</th>\n",
              "      <td>in</td>\n",
              "      <td>160</td>\n",
              "    </tr>\n",
              "    <tr>\n",
              "      <th>3</th>\n",
              "      <td>he</td>\n",
              "      <td>131</td>\n",
              "    </tr>\n",
              "    <tr>\n",
              "      <th>4</th>\n",
              "      <td>a</td>\n",
              "      <td>100</td>\n",
              "    </tr>\n",
              "    <tr>\n",
              "      <th>5</th>\n",
              "      <td>think</td>\n",
              "      <td>100</td>\n",
              "    </tr>\n",
              "    <tr>\n",
              "      <th>6</th>\n",
              "      <td>will</td>\n",
              "      <td>100</td>\n",
              "    </tr>\n",
              "    <tr>\n",
              "      <th>7</th>\n",
              "      <td>have</td>\n",
              "      <td>84</td>\n",
              "    </tr>\n",
              "    <tr>\n",
              "      <th>8</th>\n",
              "      <td>I</td>\n",
              "      <td>77</td>\n",
              "    </tr>\n",
              "    <tr>\n",
              "      <th>9</th>\n",
              "      <td>to</td>\n",
              "      <td>72</td>\n",
              "    </tr>\n",
              "  </tbody>\n",
              "</table>\n",
              "</div>\n",
              "      <button class=\"colab-df-convert\" onclick=\"convertToInteractive('df-ed2e72ac-30a7-431b-95f7-e333a0bbe8bf')\"\n",
              "              title=\"Convert this dataframe to an interactive table.\"\n",
              "              style=\"display:none;\">\n",
              "        \n",
              "  <svg xmlns=\"http://www.w3.org/2000/svg\" height=\"24px\"viewBox=\"0 0 24 24\"\n",
              "       width=\"24px\">\n",
              "    <path d=\"M0 0h24v24H0V0z\" fill=\"none\"/>\n",
              "    <path d=\"M18.56 5.44l.94 2.06.94-2.06 2.06-.94-2.06-.94-.94-2.06-.94 2.06-2.06.94zm-11 1L8.5 8.5l.94-2.06 2.06-.94-2.06-.94L8.5 2.5l-.94 2.06-2.06.94zm10 10l.94 2.06.94-2.06 2.06-.94-2.06-.94-.94-2.06-.94 2.06-2.06.94z\"/><path d=\"M17.41 7.96l-1.37-1.37c-.4-.4-.92-.59-1.43-.59-.52 0-1.04.2-1.43.59L10.3 9.45l-7.72 7.72c-.78.78-.78 2.05 0 2.83L4 21.41c.39.39.9.59 1.41.59.51 0 1.02-.2 1.41-.59l7.78-7.78 2.81-2.81c.8-.78.8-2.07 0-2.86zM5.41 20L4 18.59l7.72-7.72 1.47 1.35L5.41 20z\"/>\n",
              "  </svg>\n",
              "      </button>\n",
              "      \n",
              "  <style>\n",
              "    .colab-df-container {\n",
              "      display:flex;\n",
              "      flex-wrap:wrap;\n",
              "      gap: 12px;\n",
              "    }\n",
              "\n",
              "    .colab-df-convert {\n",
              "      background-color: #E8F0FE;\n",
              "      border: none;\n",
              "      border-radius: 50%;\n",
              "      cursor: pointer;\n",
              "      display: none;\n",
              "      fill: #1967D2;\n",
              "      height: 32px;\n",
              "      padding: 0 0 0 0;\n",
              "      width: 32px;\n",
              "    }\n",
              "\n",
              "    .colab-df-convert:hover {\n",
              "      background-color: #E2EBFA;\n",
              "      box-shadow: 0px 1px 2px rgba(60, 64, 67, 0.3), 0px 1px 3px 1px rgba(60, 64, 67, 0.15);\n",
              "      fill: #174EA6;\n",
              "    }\n",
              "\n",
              "    [theme=dark] .colab-df-convert {\n",
              "      background-color: #3B4455;\n",
              "      fill: #D2E3FC;\n",
              "    }\n",
              "\n",
              "    [theme=dark] .colab-df-convert:hover {\n",
              "      background-color: #434B5C;\n",
              "      box-shadow: 0px 1px 3px 1px rgba(0, 0, 0, 0.15);\n",
              "      filter: drop-shadow(0px 1px 2px rgba(0, 0, 0, 0.3));\n",
              "      fill: #FFFFFF;\n",
              "    }\n",
              "  </style>\n",
              "\n",
              "      <script>\n",
              "        const buttonEl =\n",
              "          document.querySelector('#df-ed2e72ac-30a7-431b-95f7-e333a0bbe8bf button.colab-df-convert');\n",
              "        buttonEl.style.display =\n",
              "          google.colab.kernel.accessAllowed ? 'block' : 'none';\n",
              "\n",
              "        async function convertToInteractive(key) {\n",
              "          const element = document.querySelector('#df-ed2e72ac-30a7-431b-95f7-e333a0bbe8bf');\n",
              "          const dataTable =\n",
              "            await google.colab.kernel.invokeFunction('convertToInteractive',\n",
              "                                                     [key], {});\n",
              "          if (!dataTable) return;\n",
              "\n",
              "          const docLinkHtml = 'Like what you see? Visit the ' +\n",
              "            '<a target=\"_blank\" href=https://colab.research.google.com/notebooks/data_table.ipynb>data table notebook</a>'\n",
              "            + ' to learn more about interactive tables.';\n",
              "          element.innerHTML = '';\n",
              "          dataTable['output_type'] = 'display_data';\n",
              "          await google.colab.output.renderOutput(dataTable, element);\n",
              "          const docLink = document.createElement('div');\n",
              "          docLink.innerHTML = docLinkHtml;\n",
              "          element.appendChild(docLink);\n",
              "        }\n",
              "      </script>\n",
              "    </div>\n",
              "  </div>\n",
              "  "
            ]
          },
          "metadata": {},
          "execution_count": 52
        }
      ]
    },
    {
      "cell_type": "code",
      "source": [
        "most_common_df.plot(x=\"Word\", y=\"Count\", kind=\"bar\", figsize=(7, 6))\n",
        "plt.title(\"Most Used Word\")"
      ],
      "metadata": {
        "colab": {
          "base_uri": "https://localhost:8080/",
          "height": 436
        },
        "id": "Umk8GMfdutJG",
        "outputId": "ae14032b-5051-41ef-cf97-2b0831a34fe5"
      },
      "execution_count": null,
      "outputs": [
        {
          "output_type": "execute_result",
          "data": {
            "text/plain": [
              "Text(0.5, 1.0, 'Most Used Word')"
            ]
          },
          "metadata": {},
          "execution_count": 53
        },
        {
          "output_type": "display_data",
          "data": {
            "text/plain": [
              "<Figure size 504x432 with 1 Axes>"
            ],
            "image/png": "[encoded data removed]"
          },
          "metadata": {
            "needs_background": "light"
          }
        }
      ]
    },
    {
      "cell_type": "code",
      "source": [
        "text = \" \".join(review for review in df.Message)\n",
        "wordcloud = WordCloud(stopwords=STOPWORDS, background_color=\"black\").generate(text)\n",
        "  ### Display the generated image:\n",
        "plt.figure( figsize=(10,5))\n",
        "plt.imshow(wordcloud, interpolation='bilinear')\n",
        "plt.axis(\"off\")\n",
        "plt.show()"
      ],
      "metadata": {
        "colab": {
          "base_uri": "https://localhost:8080/",
          "height": 303
        },
        "id": "do3PdhRv2dkm",
        "outputId": "5573a6b3-f84f-4f54-8edb-bcb10660da30"
      },
      "execution_count": null,
      "outputs": [
        {
          "output_type": "display_data",
          "data": {
            "text/plain": [
              "<Figure size 720x360 with 1 Axes>"
            ],
            "image/png": "[encoded data removed]"
          },
          "metadata": {
            "needs_background": "light"
          }
        }
      ]
    },
    {
      "cell_type": "code",
      "source": [
        "import seaborn as sns\n",
        "import plotly.express as px\n",
        "z = df['Date'].value_counts() \n",
        "z1 = z.to_dict() #converts to dictionary\n",
        "df['Msg_count'] = df['Date'].map(z1)\n",
        "### Timeseries plot \n",
        "sns.set_style(\"darkgrid\")\n",
        "fig = px.line(x=df['Date'],y=df['Msg_count'])\n",
        "fig.update_layout(title='Analysis of number of message',xaxis_title='Month', yaxis_title='No. of Messages')\n",
        "fig.update_xaxes(nticks=20)\n",
        "fig.show()"
      ],
      "metadata": {
        "colab": {
          "base_uri": "https://localhost:8080/",
          "height": 542
        },
        "id": "-r7eJ8OV2Qem",
        "outputId": "97c06545-a3ee-4379-90ab-a7ff3e22c1ba"
      },
      "execution_count": null,
      "outputs": [
        {
          "output_type": "display_data",
          "data": {
            "text/html": [
              "<html>\n",
              "<head><meta charset=\"utf-8\" /></head>\n",
              "<body>\n",
              "    <div>            <script src=\"https://cdnjs.cloudflare.com/ajax/libs/mathjax/2.7.5/MathJax.js?config=TeX-AMS-MML_SVG\"></script><script type=\"text/javascript\">if (window.MathJax) {MathJax.Hub.Config({SVG: {font: \"STIX-Web\"}});}</script>                <script type=\"text/javascript\">window.PlotlyConfig = {MathJaxConfig: 'local'};</script>\n",
              "        <script src=\"https://cdn.plot.ly/plotly-2.8.3.min.js\"></script>                <div id=\"f5d19ac5-bd11-4811-97c9-362730edd70b\" class=\"plotly-graph-div\" style=\"height:525px; width:100%;\"></div>            <script type=\"text/javascript\">                                    window.PLOTLYENV=window.PLOTLYENV || {};                                    if (document.getElementById(\"f5d19ac5-bd11-4811-97c9-362730edd70b\")) {                    Plotly.newPlot(                        \"f5d19ac5-bd11-4811-97c9-362730edd70b\",                        [{\"hovertemplate\":\"x=%{x}<br>y=%{y}<extra></extra>\",\"legendgroup\":\"\",\"line\":{\"color\":\"#636efa\",\"dash\":\"solid\"},\"marker\":{\"symbol\":\"circle\"},\"mode\":\"lines\",\"name\":\"\",\"orientation\":\"v\",\"showlegend\":false,\"x\":[\"2022-12-26T00:00:00\",\"2022-12-26T00:00:00\",\"2022-12-26T00:00:00\",\"2022-12-26T00:00:00\",\"2022-12-26T00:00:00\",\"2022-12-26T00:00:00\",\"2022-12-26T00:00:00\",\"2022-12-26T00:00:00\",\"2022-12-26T00:00:00\",\"2022-12-26T00:00:00\",\"2022-12-26T00:00:00\",\"2022-12-26T00:00:00\",\"2022-12-26T00:00:00\",\"2022-12-26T00:00:00\",\"2022-12-26T00:00:00\",\"2022-12-26T00:00:00\",\"2022-12-26T00:00:00\",\"2022-12-26T00:00:00\",\"2022-12-26T00:00:00\",\"2022-12-26T00:00:00\",\"2022-12-26T00:00:00\",\"2022-12-26T00:00:00\",\"2022-12-26T00:00:00\",\"2022-12-26T00:00:00\",\"2022-12-26T00:00:00\",\"2022-12-26T00:00:00\",\"2022-12-26T00:00:00\",\"2022-12-26T00:00:00\",\"2022-12-26T00:00:00\",\"2022-12-26T00:00:00\",\"2022-12-26T00:00:00\",\"2022-12-26T00:00:00\",\"2022-12-26T00:00:00\",\"2022-12-27T00:00:00\",\"2022-12-27T00:00:00\",\"2022-12-27T00:00:00\",\"2022-12-27T00:00:00\",\"2022-12-27T00:00:00\",\"2022-12-27T00:00:00\",\"2022-12-27T00:00:00\",\"2022-12-27T00:00:00\",\"2022-12-27T00:00:00\",\"2022-12-27T00:00:00\",\"2022-12-27T00:00:00\",\"2022-12-27T00:00:00\",\"2022-12-27T00:00:00\",\"2022-12-27T00:00:00\",\"2022-12-27T00:00:00\",\"2022-12-27T00:00:00\",\"2022-12-27T00:00:00\",\"2022-12-27T00:00:00\",\"2022-12-27T00:00:00\",\"2022-12-27T00:00:00\",\"2022-12-27T00:00:00\",\"2022-12-27T00:00:00\",\"2022-12-27T00:00:00\",\"2022-12-27T00:00:00\",\"2022-12-27T00:00:00\",\"2022-12-27T00:00:00\",\"2022-12-28T00:00:00\",\"2022-12-28T00:00:00\",\"2022-12-28T00:00:00\",\"2022-12-28T00:00:00\",\"2022-12-28T00:00:00\",\"2022-12-28T00:00:00\",\"2022-12-28T00:00:00\",\"2022-12-28T00:00:00\",\"2022-12-28T00:00:00\",\"2022-12-28T00:00:00\",\"2022-12-28T00:00:00\",\"2022-12-28T00:00:00\",\"2022-12-28T00:00:00\",\"2022-12-28T00:00:00\",\"2022-12-28T00:00:00\",\"2022-12-28T00:00:00\",\"2022-12-28T00:00:00\",\"2022-12-28T00:00:00\",\"2022-12-28T00:00:00\",\"2022-12-28T00:00:00\",\"2022-12-28T00:00:00\",\"2022-12-28T00:00:00\",\"2022-12-28T00:00:00\",\"2022-12-28T00:00:00\",\"2022-12-28T00:00:00\",\"2022-12-28T00:00:00\",\"2022-12-28T00:00:00\",\"2022-12-28T00:00:00\",\"2022-12-28T00:00:00\",\"2022-12-28T00:00:00\",\"2022-12-28T00:00:00\",\"2022-12-28T00:00:00\",\"2022-12-28T00:00:00\",\"2022-12-28T00:00:00\",\"2022-12-28T00:00:00\",\"2022-12-28T00:00:00\",\"2022-12-28T00:00:00\",\"2022-12-28T00:00:00\",\"2022-12-28T00:00:00\",\"2022-12-28T00:00:00\",\"2022-12-28T00:00:00\",\"2022-12-28T00:00:00\",\"2022-12-28T00:00:00\",\"2022-12-28T00:00:00\",\"2022-12-28T00:00:00\",\"2022-12-28T00:00:00\",\"2022-12-29T00:00:00\",\"2022-12-29T00:00:00\",\"2022-12-29T00:00:00\",\"2022-12-29T00:00:00\",\"2022-12-29T00:00:00\",\"2022-12-29T00:00:00\",\"2022-12-29T00:00:00\",\"2022-12-29T00:00:00\",\"2022-12-29T00:00:00\",\"2022-12-29T00:00:00\",\"2022-12-29T00:00:00\",\"2022-12-29T00:00:00\",\"2022-12-29T00:00:00\",\"2022-12-29T00:00:00\",\"2022-12-30T00:00:00\",\"2022-12-30T00:00:00\",\"2022-12-30T00:00:00\",\"2022-12-30T00:00:00\",\"2022-12-30T00:00:00\",\"2022-12-30T00:00:00\",\"2022-12-30T00:00:00\",\"2022-12-30T00:00:00\",\"2022-12-30T00:00:00\",\"2022-12-30T00:00:00\",\"2022-12-30T00:00:00\",\"2022-12-30T00:00:00\",\"2022-12-30T00:00:00\",\"2022-12-30T00:00:00\",\"2022-12-30T00:00:00\",\"2022-12-30T00:00:00\",\"2022-12-30T00:00:00\",\"2022-12-30T00:00:00\",\"2022-12-30T00:00:00\",\"2022-12-30T00:00:00\",\"2022-12-30T00:00:00\",\"2022-12-30T00:00:00\",\"2022-12-30T00:00:00\",\"2022-12-30T00:00:00\",\"2022-12-30T00:00:00\",\"2022-12-30T00:00:00\",\"2022-12-30T00:00:00\",\"2022-12-30T00:00:00\",\"2022-12-30T00:00:00\",\"2022-12-30T00:00:00\",\"2022-12-30T00:00:00\",\"2022-12-30T00:00:00\",\"2022-12-30T00:00:00\",\"2022-12-30T00:00:00\",\"2022-12-30T00:00:00\",\"2022-12-30T00:00:00\",\"2022-12-30T00:00:00\",\"2022-12-31T00:00:00\",\"2022-12-31T00:00:00\",\"2022-12-31T00:00:00\",\"2022-12-31T00:00:00\",\"2022-12-31T00:00:00\",\"2022-12-31T00:00:00\",\"2022-12-31T00:00:00\",\"2022-12-31T00:00:00\",\"2022-12-31T00:00:00\",\"2022-12-31T00:00:00\",\"2022-12-31T00:00:00\",\"2023-01-01T00:00:00\",\"2023-01-01T00:00:00\",\"2023-01-01T00:00:00\",\"2023-01-01T00:00:00\",\"2023-01-01T00:00:00\",\"2023-01-01T00:00:00\",\"2023-01-01T00:00:00\",\"2023-01-01T00:00:00\",\"2023-01-01T00:00:00\",\"2023-01-01T00:00:00\",\"2023-01-01T00:00:00\",\"2023-01-01T00:00:00\",\"2023-01-01T00:00:00\",\"2023-01-01T00:00:00\",\"2023-01-01T00:00:00\",\"2023-01-01T00:00:00\",\"2023-01-01T00:00:00\",\"2023-01-01T00:00:00\",\"2023-01-01T00:00:00\",\"2023-01-01T00:00:00\",\"2023-01-01T00:00:00\",\"2023-01-01T00:00:00\",\"2023-01-01T00:00:00\",\"2023-01-01T00:00:00\",\"2023-01-01T00:00:00\",\"2023-01-01T00:00:00\"],\"xaxis\":\"x\",\"y\":[33,33,33,33,33,33,33,33,33,33,33,33,33,33,33,33,33,33,33,33,33,33,33,33,33,33,33,33,33,33,33,33,33,26,26,26,26,26,26,26,26,26,26,26,26,26,26,26,26,26,26,26,26,26,26,26,26,26,26,46,46,46,46,46,46,46,46,46,46,46,46,46,46,46,46,46,46,46,46,46,46,46,46,46,46,46,46,46,46,46,46,46,46,46,46,46,46,46,46,46,46,46,46,46,46,14,14,14,14,14,14,14,14,14,14,14,14,14,14,37,37,37,37,37,37,37,37,37,37,37,37,37,37,37,37,37,37,37,37,37,37,37,37,37,37,37,37,37,37,37,37,37,37,37,37,37,11,11,11,11,11,11,11,11,11,11,11,26,26,26,26,26,26,26,26,26,26,26,26,26,26,26,26,26,26,26,26,26,26,26,26,26,26],\"yaxis\":\"y\",\"type\":\"scatter\"}],                        {\"template\":{\"data\":{\"bar\":[{\"error_x\":{\"color\":\"#2a3f5f\"},\"error_y\":{\"color\":\"#2a3f5f\"},\"marker\":{\"line\":{\"color\":\"#E5ECF6\",\"width\":0.5},\"pattern\":{\"fillmode\":\"overlay\",\"size\":10,\"solidity\":0.2}},\"type\":\"bar\"}],\"barpolar\":[{\"marker\":{\"line\":{\"color\":\"#E5ECF6\",\"width\":0.5},\"pattern\":{\"fillmode\":\"overlay\",\"size\":10,\"solidity\":0.2}},\"type\":\"barpolar\"}],\"carpet\":[{\"aaxis\":{\"endlinecolor\":\"#2a3f5f\",\"gridcolor\":\"white\",\"linecolor\":\"white\",\"minorgridcolor\":\"white\",\"startlinecolor\":\"#2a3f5f\"},\"baxis\":{\"endlinecolor\":\"#2a3f5f\",\"gridcolor\":\"white\",\"linecolor\":\"white\",\"minorgridcolor\":\"white\",\"startlinecolor\":\"#2a3f5f\"},\"type\":\"carpet\"}],\"choropleth\":[{\"colorbar\":{\"outlinewidth\":0,\"ticks\":\"\"},\"type\":\"choropleth\"}],\"contour\":[{\"colorbar\":{\"outlinewidth\":0,\"ticks\":\"\"},\"colorscale\":[[0.0,\"#0d0887\"],[0.1111111111111111,\"#46039f\"],[0.2222222222222222,\"#7201a8\"],[0.3333333333333333,\"#9c179e\"],[0.4444444444444444,\"#bd3786\"],[0.5555555555555556,\"#d8576b\"],[0.6666666666666666,\"#ed7953\"],[0.7777777777777778,\"#fb9f3a\"],[0.8888888888888888,\"#fdca26\"],[1.0,\"#f0f921\"]],\"type\":\"contour\"}],\"contourcarpet\":[{\"colorbar\":{\"outlinewidth\":0,\"ticks\":\"\"},\"type\":\"contourcarpet\"}],\"heatmap\":[{\"colorbar\":{\"outlinewidth\":0,\"ticks\":\"\"},\"colorscale\":[[0.0,\"#0d0887\"],[0.1111111111111111,\"#46039f\"],[0.2222222222222222,\"#7201a8\"],[0.3333333333333333,\"#9c179e\"],[0.4444444444444444,\"#bd3786\"],[0.5555555555555556,\"#d8576b\"],[0.6666666666666666,\"#ed7953\"],[0.7777777777777778,\"#fb9f3a\"],[0.8888888888888888,\"#fdca26\"],[1.0,\"#f0f921\"]],\"type\":\"heatmap\"}],\"heatmapgl\":[{\"colorbar\":{\"outlinewidth\":0,\"ticks\":\"\"},\"colorscale\":[[0.0,\"#0d0887\"],[0.1111111111111111,\"#46039f\"],[0.2222222222222222,\"#7201a8\"],[0.3333333333333333,\"#9c179e\"],[0.4444444444444444,\"#bd3786\"],[0.5555555555555556,\"#d8576b\"],[0.6666666666666666,\"#ed7953\"],[0.7777777777777778,\"#fb9f3a\"],[0.8888888888888888,\"#fdca26\"],[1.0,\"#f0f921\"]],\"type\":\"heatmapgl\"}],\"histogram\":[{\"marker\":{\"pattern\":{\"fillmode\":\"overlay\",\"size\":10,\"solidity\":0.2}},\"type\":\"histogram\"}],\"histogram2d\":[{\"colorbar\":{\"outlinewidth\":0,\"ticks\":\"\"},\"colorscale\":[[0.0,\"#0d0887\"],[0.1111111111111111,\"#46039f\"],[0.2222222222222222,\"#7201a8\"],[0.3333333333333333,\"#9c179e\"],[0.4444444444444444,\"#bd3786\"],[0.5555555555555556,\"#d8576b\"],[0.6666666666666666,\"#ed7953\"],[0.7777777777777778,\"#fb9f3a\"],[0.8888888888888888,\"#fdca26\"],[1.0,\"#f0f921\"]],\"type\":\"histogram2d\"}],\"histogram2dcontour\":[{\"colorbar\":{\"outlinewidth\":0,\"ticks\":\"\"},\"colorscale\":[[0.0,\"#0d0887\"],[0.1111111111111111,\"#46039f\"],[0.2222222222222222,\"#7201a8\"],[0.3333333333333333,\"#9c179e\"],[0.4444444444444444,\"#bd3786\"],[0.5555555555555556,\"#d8576b\"],[0.6666666666666666,\"#ed7953\"],[0.7777777777777778,\"#fb9f3a\"],[0.8888888888888888,\"#fdca26\"],[1.0,\"#f0f921\"]],\"type\":\"histogram2dcontour\"}],\"mesh3d\":[{\"colorbar\":{\"outlinewidth\":0,\"ticks\":\"\"},\"type\":\"mesh3d\"}],\"parcoords\":[{\"line\":{\"colorbar\":{\"outlinewidth\":0,\"ticks\":\"\"}},\"type\":\"parcoords\"}],\"pie\":[{\"automargin\":true,\"type\":\"pie\"}],\"scatter\":[{\"marker\":{\"colorbar\":{\"outlinewidth\":0,\"ticks\":\"\"}},\"type\":\"scatter\"}],\"scatter3d\":[{\"line\":{\"colorbar\":{\"outlinewidth\":0,\"ticks\":\"\"}},\"marker\":{\"colorbar\":{\"outlinewidth\":0,\"ticks\":\"\"}},\"type\":\"scatter3d\"}],\"scattercarpet\":[{\"marker\":{\"colorbar\":{\"outlinewidth\":0,\"ticks\":\"\"}},\"type\":\"scattercarpet\"}],\"scattergeo\":[{\"marker\":{\"colorbar\":{\"outlinewidth\":0,\"ticks\":\"\"}},\"type\":\"scattergeo\"}],\"scattergl\":[{\"marker\":{\"colorbar\":{\"outlinewidth\":0,\"ticks\":\"\"}},\"type\":\"scattergl\"}],\"scattermapbox\":[{\"marker\":{\"colorbar\":{\"outlinewidth\":0,\"ticks\":\"\"}},\"type\":\"scattermapbox\"}],\"scatterpolar\":[{\"marker\":{\"colorbar\":{\"outlinewidth\":0,\"ticks\":\"\"}},\"type\":\"scatterpolar\"}],\"scatterpolargl\":[{\"marker\":{\"colorbar\":{\"outlinewidth\":0,\"ticks\":\"\"}},\"type\":\"scatterpolargl\"}],\"scatterternary\":[{\"marker\":{\"colorbar\":{\"outlinewidth\":0,\"ticks\":\"\"}},\"type\":\"scatterternary\"}],\"surface\":[{\"colorbar\":{\"outlinewidth\":0,\"ticks\":\"\"},\"colorscale\":[[0.0,\"#0d0887\"],[0.1111111111111111,\"#46039f\"],[0.2222222222222222,\"#7201a8\"],[0.3333333333333333,\"#9c179e\"],[0.4444444444444444,\"#bd3786\"],[0.5555555555555556,\"#d8576b\"],[0.6666666666666666,\"#ed7953\"],[0.7777777777777778,\"#fb9f3a\"],[0.8888888888888888,\"#fdca26\"],[1.0,\"#f0f921\"]],\"type\":\"surface\"}],\"table\":[{\"cells\":{\"fill\":{\"color\":\"#EBF0F8\"},\"line\":{\"color\":\"white\"}},\"header\":{\"fill\":{\"color\":\"#C8D4E3\"},\"line\":{\"color\":\"white\"}},\"type\":\"table\"}]},\"layout\":{\"annotationdefaults\":{\"arrowcolor\":\"#2a3f5f\",\"arrowhead\":0,\"arrowwidth\":1},\"autotypenumbers\":\"strict\",\"coloraxis\":{\"colorbar\":{\"outlinewidth\":0,\"ticks\":\"\"}},\"colorscale\":{\"diverging\":[[0,\"#8e0152\"],[0.1,\"#c51b7d\"],[0.2,\"#de77ae\"],[0.3,\"#f1b6da\"],[0.4,\"#fde0ef\"],[0.5,\"#f7f7f7\"],[0.6,\"#e6f5d0\"],[0.7,\"#b8e186\"],[0.8,\"#7fbc41\"],[0.9,\"#4d9221\"],[1,\"#276419\"]],\"sequential\":[[0.0,\"#0d0887\"],[0.1111111111111111,\"#46039f\"],[0.2222222222222222,\"#7201a8\"],[0.3333333333333333,\"#9c179e\"],[0.4444444444444444,\"#bd3786\"],[0.5555555555555556,\"#d8576b\"],[0.6666666666666666,\"#ed7953\"],[0.7777777777777778,\"#fb9f3a\"],[0.8888888888888888,\"#fdca26\"],[1.0,\"#f0f921\"]],\"sequentialminus\":[[0.0,\"#0d0887\"],[0.1111111111111111,\"#46039f\"],[0.2222222222222222,\"#7201a8\"],[0.3333333333333333,\"#9c179e\"],[0.4444444444444444,\"#bd3786\"],[0.5555555555555556,\"#d8576b\"],[0.6666666666666666,\"#ed7953\"],[0.7777777777777778,\"#fb9f3a\"],[0.8888888888888888,\"#fdca26\"],[1.0,\"#f0f921\"]]},\"colorway\":[\"#636efa\",\"#EF553B\",\"#00cc96\",\"#ab63fa\",\"#FFA15A\",\"#19d3f3\",\"#FF6692\",\"#B6E880\",\"#FF97FF\",\"#FECB52\"],\"font\":{\"color\":\"#2a3f5f\"},\"geo\":{\"bgcolor\":\"white\",\"lakecolor\":\"white\",\"landcolor\":\"#E5ECF6\",\"showlakes\":true,\"showland\":true,\"subunitcolor\":\"white\"},\"hoverlabel\":{\"align\":\"left\"},\"hovermode\":\"closest\",\"mapbox\":{\"style\":\"light\"},\"paper_bgcolor\":\"white\",\"plot_bgcolor\":\"#E5ECF6\",\"polar\":{\"angularaxis\":{\"gridcolor\":\"white\",\"linecolor\":\"white\",\"ticks\":\"\"},\"bgcolor\":\"#E5ECF6\",\"radialaxis\":{\"gridcolor\":\"white\",\"linecolor\":\"white\",\"ticks\":\"\"}},\"scene\":{\"xaxis\":{\"backgroundcolor\":\"#E5ECF6\",\"gridcolor\":\"white\",\"gridwidth\":2,\"linecolor\":\"white\",\"showbackground\":true,\"ticks\":\"\",\"zerolinecolor\":\"white\"},\"yaxis\":{\"backgroundcolor\":\"#E5ECF6\",\"gridcolor\":\"white\",\"gridwidth\":2,\"linecolor\":\"white\",\"showbackground\":true,\"ticks\":\"\",\"zerolinecolor\":\"white\"},\"zaxis\":{\"backgroundcolor\":\"#E5ECF6\",\"gridcolor\":\"white\",\"gridwidth\":2,\"linecolor\":\"white\",\"showbackground\":true,\"ticks\":\"\",\"zerolinecolor\":\"white\"}},\"shapedefaults\":{\"line\":{\"color\":\"#2a3f5f\"}},\"ternary\":{\"aaxis\":{\"gridcolor\":\"white\",\"linecolor\":\"white\",\"ticks\":\"\"},\"baxis\":{\"gridcolor\":\"white\",\"linecolor\":\"white\",\"ticks\":\"\"},\"bgcolor\":\"#E5ECF6\",\"caxis\":{\"gridcolor\":\"white\",\"linecolor\":\"white\",\"ticks\":\"\"}},\"title\":{\"x\":0.05},\"xaxis\":{\"automargin\":true,\"gridcolor\":\"white\",\"linecolor\":\"white\",\"ticks\":\"\",\"title\":{\"standoff\":15},\"zerolinecolor\":\"white\",\"zerolinewidth\":2},\"yaxis\":{\"automargin\":true,\"gridcolor\":\"white\",\"linecolor\":\"white\",\"ticks\":\"\",\"title\":{\"standoff\":15},\"zerolinecolor\":\"white\",\"zerolinewidth\":2}}},\"xaxis\":{\"anchor\":\"y\",\"domain\":[0.0,1.0],\"title\":{\"text\":\"Month\"},\"nticks\":20},\"yaxis\":{\"anchor\":\"x\",\"domain\":[0.0,1.0],\"title\":{\"text\":\"No. of Messages\"}},\"legend\":{\"tracegroupgap\":0},\"margin\":{\"t\":60},\"title\":{\"text\":\"Analysis of number of message\"}},                        {\"responsive\": true}                    ).then(function(){\n",
              "                            \n",
              "var gd = document.getElementById('f5d19ac5-bd11-4811-97c9-362730edd70b');\n",
              "var x = new MutationObserver(function (mutations, observer) {{\n",
              "        var display = window.getComputedStyle(gd).display;\n",
              "        if (!display || display === 'none') {{\n",
              "            console.log([gd, 'removed!']);\n",
              "            Plotly.purge(gd);\n",
              "            observer.disconnect();\n",
              "        }}\n",
              "}});\n",
              "\n",
              "// Listen for the removal of the full notebook cells\n",
              "var notebookContainer = gd.closest('#notebook-container');\n",
              "if (notebookContainer) {{\n",
              "    x.observe(notebookContainer, {childList: true});\n",
              "}}\n",
              "\n",
              "// Listen for the clearing of the current output cell\n",
              "var outputEl = gd.closest('.output');\n",
              "if (outputEl) {{\n",
              "    x.observe(outputEl, {childList: true});\n",
              "}}\n",
              "\n",
              "                        })                };                            </script>        </div>\n",
              "</body>\n",
              "</html>"
            ]
          },
          "metadata": {}
        }
      ]
    },
    {
      "cell_type": "code",
      "source": [
        "\n",
        "import emoji\n",
        "emojis = []\n",
        "for message in df['Message']:\n",
        "  emojis.extend([e for e in message if e in emoji.UNICODE_EMOJI['en']])"
      ],
      "metadata": {
        "id": "V4yy7in0mI5I"
      },
      "execution_count": null,
      "outputs": []
    },
    {
      "cell_type": "code",
      "source": [
        "emojis"
      ],
      "metadata": {
        "colab": {
          "base_uri": "https://localhost:8080/"
        },
        "id": "N5YM5tnlJtdB",
        "outputId": "f8206e7c-5fd4-485d-b025-d4c5fa8f73e8"
      },
      "execution_count": null,
      "outputs": [
        {
          "output_type": "execute_result",
          "data": {
            "text/plain": [
              "['💥',\n",
              " '😂',\n",
              " '😂',\n",
              " '😂',\n",
              " '⚡',\n",
              " '⚡',\n",
              " '💪',\n",
              " '👍',\n",
              " '🏻',\n",
              " '👍',\n",
              " '💯',\n",
              " '❤',\n",
              " '🔥',\n",
              " '❤',\n",
              " '🔥',\n",
              " '❤',\n",
              " '🔥',\n",
              " '❤',\n",
              " '🔥',\n",
              " '😂',\n",
              " '🤦',\n",
              " '♂',\n",
              " '🤔',\n",
              " '🤔',\n",
              " '💪',\n",
              " '🔥',\n",
              " '💥',\n",
              " '🔥',\n",
              " '🔥',\n",
              " '💥',\n",
              " '💪',\n",
              " '🔥',\n",
              " '🔥',\n",
              " '🤔',\n",
              " '🤔',\n",
              " '😂',\n",
              " '💪',\n",
              " '💥',\n",
              " '😂',\n",
              " '🤦',\n",
              " '♂',\n",
              " '😶',\n",
              " '🤔',\n",
              " '💥',\n",
              " '🔥',\n",
              " '😂',\n",
              " '😢',\n",
              " '😩',\n",
              " '😂',\n",
              " '😂',\n",
              " '😂',\n",
              " '😂',\n",
              " '💥',\n",
              " '🔥',\n",
              " '🤔',\n",
              " '😅',\n",
              " '💥',\n",
              " '🔥',\n",
              " '😂',\n",
              " '💪',\n",
              " '🔥',\n",
              " '🔥',\n",
              " '🤧',\n",
              " '🔥',\n",
              " '🔥',\n",
              " '💥',\n",
              " '💥',\n",
              " '🔥',\n",
              " '🔥',\n",
              " '❤',\n",
              " '🔥',\n",
              " '❤',\n",
              " '🔥',\n",
              " '⚡',\n",
              " '⚡',\n",
              " '🥳',\n",
              " '🥳',\n",
              " '👍',\n",
              " '🏼',\n",
              " '🔥',\n",
              " '👍',\n",
              " '💯',\n",
              " '🔥',\n",
              " '💯',\n",
              " '💯',\n",
              " '💥',\n",
              " '🔥',\n",
              " '🔥',\n",
              " '🥳',\n",
              " '💥',\n",
              " '🔥',\n",
              " '💯',\n",
              " '💥',\n",
              " '🔥',\n",
              " '🤨',\n",
              " '😩',\n",
              " '😭',\n",
              " '🤔',\n",
              " '🔥',\n",
              " '💥',\n",
              " '🤧',\n",
              " '🔥',\n",
              " '🔥',\n",
              " '✨',\n",
              " '💥',\n",
              " '💥',\n",
              " '💥',\n",
              " '🥵',\n",
              " '🥵',\n",
              " '⚡',\n",
              " '⚡',\n",
              " '💥',\n",
              " '🥳',\n",
              " '🔥',\n",
              " '🤧']"
            ]
          },
          "metadata": {},
          "execution_count": 57
        }
      ]
    },
    {
      "cell_type": "code",
      "source": [
        "emoji_df = pd.DataFrame(Counter(emojis).most_common(len(Counter(emojis))), columns=['emojis','count'])\n",
        "emoji_df.head(10)"
      ],
      "metadata": {
        "colab": {
          "base_uri": "https://localhost:8080/",
          "height": 363
        },
        "id": "NJqKPSJzmZAK",
        "outputId": "26381a6a-7954-4f1f-fa58-095d3888949f"
      },
      "execution_count": null,
      "outputs": [
        {
          "output_type": "execute_result",
          "data": {
            "text/plain": [
              "  emojis  count\n",
              "0      🔥     30\n",
              "1      💥     17\n",
              "2      😂     12\n",
              "3      🤔      7\n",
              "4      ⚡      6\n",
              "5      ❤      6\n",
              "6      💪      5\n",
              "7      💯      5\n",
              "8      👍      4\n",
              "9      🥳      4"
            ],
            "text/html": [
              "\n",
              "  <div id=\"df-761dc890-851e-4c4c-9083-d98f792dc6e9\">\n",
              "    <div class=\"colab-df-container\">\n",
              "      <div>\n",
              "<style scoped>\n",
              "    .dataframe tbody tr th:only-of-type {\n",
              "        vertical-align: middle;\n",
              "    }\n",
              "\n",
              "    .dataframe tbody tr th {\n",
              "        vertical-align: top;\n",
              "    }\n",
              "\n",
              "    .dataframe thead th {\n",
              "        text-align: right;\n",
              "    }\n",
              "</style>\n",
              "<table border=\"1\" class=\"dataframe\">\n",
              "  <thead>\n",
              "    <tr style=\"text-align: right;\">\n",
              "      <th></th>\n",
              "      <th>emojis</th>\n",
              "      <th>count</th>\n",
              "    </tr>\n",
              "  </thead>\n",
              "  <tbody>\n",
              "    <tr>\n",
              "      <th>0</th>\n",
              "      <td>🔥</td>\n",
              "      <td>30</td>\n",
              "    </tr>\n",
              "    <tr>\n",
              "      <th>1</th>\n",
              "      <td>💥</td>\n",
              "      <td>17</td>\n",
              "    </tr>\n",
              "    <tr>\n",
              "      <th>2</th>\n",
              "      <td>😂</td>\n",
              "      <td>12</td>\n",
              "    </tr>\n",
              "    <tr>\n",
              "      <th>3</th>\n",
              "      <td>🤔</td>\n",
              "      <td>7</td>\n",
              "    </tr>\n",
              "    <tr>\n",
              "      <th>4</th>\n",
              "      <td>⚡</td>\n",
              "      <td>6</td>\n",
              "    </tr>\n",
              "    <tr>\n",
              "      <th>5</th>\n",
              "      <td>❤</td>\n",
              "      <td>6</td>\n",
              "    </tr>\n",
              "    <tr>\n",
              "      <th>6</th>\n",
              "      <td>💪</td>\n",
              "      <td>5</td>\n",
              "    </tr>\n",
              "    <tr>\n",
              "      <th>7</th>\n",
              "      <td>💯</td>\n",
              "      <td>5</td>\n",
              "    </tr>\n",
              "    <tr>\n",
              "      <th>8</th>\n",
              "      <td>👍</td>\n",
              "      <td>4</td>\n",
              "    </tr>\n",
              "    <tr>\n",
              "      <th>9</th>\n",
              "      <td>🥳</td>\n",
              "      <td>4</td>\n",
              "    </tr>\n",
              "  </tbody>\n",
              "</table>\n",
              "</div>\n",
              "      <button class=\"colab-df-convert\" onclick=\"convertToInteractive('df-761dc890-851e-4c4c-9083-d98f792dc6e9')\"\n",
              "              title=\"Convert this dataframe to an interactive table.\"\n",
              "              style=\"display:none;\">\n",
              "        \n",
              "  <svg xmlns=\"http://www.w3.org/2000/svg\" height=\"24px\"viewBox=\"0 0 24 24\"\n",
              "       width=\"24px\">\n",
              "    <path d=\"M0 0h24v24H0V0z\" fill=\"none\"/>\n",
              "    <path d=\"M18.56 5.44l.94 2.06.94-2.06 2.06-.94-2.06-.94-.94-2.06-.94 2.06-2.06.94zm-11 1L8.5 8.5l.94-2.06 2.06-.94-2.06-.94L8.5 2.5l-.94 2.06-2.06.94zm10 10l.94 2.06.94-2.06 2.06-.94-2.06-.94-.94-2.06-.94 2.06-2.06.94z\"/><path d=\"M17.41 7.96l-1.37-1.37c-.4-.4-.92-.59-1.43-.59-.52 0-1.04.2-1.43.59L10.3 9.45l-7.72 7.72c-.78.78-.78 2.05 0 2.83L4 21.41c.39.39.9.59 1.41.59.51 0 1.02-.2 1.41-.59l7.78-7.78 2.81-2.81c.8-.78.8-2.07 0-2.86zM5.41 20L4 18.59l7.72-7.72 1.47 1.35L5.41 20z\"/>\n",
              "  </svg>\n",
              "      </button>\n",
              "      \n",
              "  <style>\n",
              "    .colab-df-container {\n",
              "      display:flex;\n",
              "      flex-wrap:wrap;\n",
              "      gap: 12px;\n",
              "    }\n",
              "\n",
              "    .colab-df-convert {\n",
              "      background-color: #E8F0FE;\n",
              "      border: none;\n",
              "      border-radius: 50%;\n",
              "      cursor: pointer;\n",
              "      display: none;\n",
              "      fill: #1967D2;\n",
              "      height: 32px;\n",
              "      padding: 0 0 0 0;\n",
              "      width: 32px;\n",
              "    }\n",
              "\n",
              "    .colab-df-convert:hover {\n",
              "      background-color: #E2EBFA;\n",
              "      box-shadow: 0px 1px 2px rgba(60, 64, 67, 0.3), 0px 1px 3px 1px rgba(60, 64, 67, 0.15);\n",
              "      fill: #174EA6;\n",
              "    }\n",
              "\n",
              "    [theme=dark] .colab-df-convert {\n",
              "      background-color: #3B4455;\n",
              "      fill: #D2E3FC;\n",
              "    }\n",
              "\n",
              "    [theme=dark] .colab-df-convert:hover {\n",
              "      background-color: #434B5C;\n",
              "      box-shadow: 0px 1px 3px 1px rgba(0, 0, 0, 0.15);\n",
              "      filter: drop-shadow(0px 1px 2px rgba(0, 0, 0, 0.3));\n",
              "      fill: #FFFFFF;\n",
              "    }\n",
              "  </style>\n",
              "\n",
              "      <script>\n",
              "        const buttonEl =\n",
              "          document.querySelector('#df-761dc890-851e-4c4c-9083-d98f792dc6e9 button.colab-df-convert');\n",
              "        buttonEl.style.display =\n",
              "          google.colab.kernel.accessAllowed ? 'block' : 'none';\n",
              "\n",
              "        async function convertToInteractive(key) {\n",
              "          const element = document.querySelector('#df-761dc890-851e-4c4c-9083-d98f792dc6e9');\n",
              "          const dataTable =\n",
              "            await google.colab.kernel.invokeFunction('convertToInteractive',\n",
              "                                                     [key], {});\n",
              "          if (!dataTable) return;\n",
              "\n",
              "          const docLinkHtml = 'Like what you see? Visit the ' +\n",
              "            '<a target=\"_blank\" href=https://colab.research.google.com/notebooks/data_table.ipynb>data table notebook</a>'\n",
              "            + ' to learn more about interactive tables.';\n",
              "          element.innerHTML = '';\n",
              "          dataTable['output_type'] = 'display_data';\n",
              "          await google.colab.output.renderOutput(dataTable, element);\n",
              "          const docLink = document.createElement('div');\n",
              "          docLink.innerHTML = docLinkHtml;\n",
              "          element.appendChild(docLink);\n",
              "        }\n",
              "      </script>\n",
              "    </div>\n",
              "  </div>\n",
              "  "
            ]
          },
          "metadata": {},
          "execution_count": 58
        }
      ]
    },
    {
      "cell_type": "code",
      "source": [
        "emoji_df['emojis']"
      ],
      "metadata": {
        "colab": {
          "base_uri": "https://localhost:8080/"
        },
        "id": "ACXlxoQoxP94",
        "outputId": "5c4c00f7-ad8d-48d6-993f-e5111fc92954"
      },
      "execution_count": null,
      "outputs": [
        {
          "output_type": "execute_result",
          "data": {
            "text/plain": [
              "0     🔥\n",
              "1     💥\n",
              "2     😂\n",
              "3     🤔\n",
              "4     ⚡\n",
              "5     ❤\n",
              "6     💪\n",
              "7     💯\n",
              "8     👍\n",
              "9     🥳\n",
              "10    🤧\n",
              "11    🤦\n",
              "12    ♂\n",
              "13    😩\n",
              "14    🥵\n",
              "15    🏻\n",
              "16    😶\n",
              "17    😢\n",
              "18    😅\n",
              "19    🏼\n",
              "20    🤨\n",
              "21    😭\n",
              "22    ✨\n",
              "Name: emojis, dtype: object"
            ]
          },
          "metadata": {},
          "execution_count": 59
        }
      ]
    },
    {
      "cell_type": "code",
      "source": [
        "emoji_df.plot(x=\"emojis\", y=\"count\", kind=\"bar\", figsize=(7, 6))\n",
        "plt.title(\"Most Used Emoji\")"
      ],
      "metadata": {
        "colab": {
          "base_uri": "https://localhost:8080/",
          "height": 423
        },
        "id": "QKfPcUeDvnGP",
        "outputId": "5d97e325-f6f1-473f-90ab-5a5eab196493"
      },
      "execution_count": null,
      "outputs": [
        {
          "output_type": "execute_result",
          "data": {
            "text/plain": [
              "Text(0.5, 1.0, 'Most Used Emoji')"
            ]
          },
          "metadata": {},
          "execution_count": 60
        },
        {
          "output_type": "display_data",
          "data": {
            "text/plain": [
              "<Figure size 504x432 with 1 Axes>"
            ],
            "image/png": "[encoded data removed]"
          },
          "metadata": {}
        }
      ]
    },
    {
      "cell_type": "code",
      "source": [
        "mykeys = count.keys()\n",
        "mylist = list(mykeys)"
      ],
      "metadata": {
        "id": "3k58jB88zRY-"
      },
      "execution_count": null,
      "outputs": []
    },
    {
      "cell_type": "code",
      "source": [
        "mylist"
      ],
      "metadata": {
        "colab": {
          "base_uri": "https://localhost:8080/"
        },
        "id": "zaGuK_mczkE6",
        "outputId": "e69734c6-4cf0-474f-f08e-fb27c7b7f885"
      },
      "execution_count": null,
      "outputs": [
        {
          "output_type": "execute_result",
          "data": {
            "text/plain": [
              "['💥',\n",
              " '😂',\n",
              " '⚡',\n",
              " '💪',\n",
              " '👍',\n",
              " '🏻',\n",
              " '💯',\n",
              " '❤',\n",
              " '️',\n",
              " '\\u200d',\n",
              " '🔥',\n",
              " '🤦',\n",
              " '♂',\n",
              " '🤔',\n",
              " '😶',\n",
              " '😢',\n",
              " '😩',\n",
              " '😅',\n",
              " '🤧',\n",
              " '🥳',\n",
              " '🏼',\n",
              " '🤨',\n",
              " '😭',\n",
              " '✨',\n",
              " '🥵']"
            ]
          },
          "metadata": {},
          "execution_count": 62
        }
      ]
    },
    {
      "cell_type": "code",
      "source": [
        "myvalues = count.values()\n",
        "mylist2 = list(myvalues)"
      ],
      "metadata": {
        "id": "lpV7gezLq3Gz"
      },
      "execution_count": null,
      "outputs": []
    },
    {
      "cell_type": "code",
      "source": [
        "de = pd.DataFrame(emojis)\n"
      ],
      "metadata": {
        "id": "m7LNMyCHq6Df"
      },
      "execution_count": null,
      "outputs": []
    },
    {
      "cell_type": "code",
      "source": [
        "!pip install imojify"
      ],
      "metadata": {
        "colab": {
          "base_uri": "https://localhost:8080/"
        },
        "id": "OvUstShxrAwL",
        "outputId": "086c1b1c-370e-43d6-b051-dd268781aab8"
      },
      "execution_count": null,
      "outputs": [
        {
          "output_type": "stream",
          "name": "stdout",
          "text": [
            "Looking in indexes: https://pypi.org/simple, https://us-python.pkg.dev/colab-wheels/public/simple/\n",
            "Collecting imojify\n",
            "  Downloading imojify-0.1.1-py3-none-any.whl (142.1 MB)\n",
            "\u001b[2K     \u001b[90m━━━━━━━━━━━━━━━━━━━━━━━━━━━━━━━━━━━━━━━\u001b[0m \u001b[32m142.1/142.1 MB\u001b[0m \u001b[31m5.8 MB/s\u001b[0m eta \u001b[36m0:00:00\u001b[0m\n",
            "\u001b[?25hRequirement already satisfied: numpy in /usr/local/lib/python3.8/dist-packages (from imojify) (1.21.6)\n",
            "Requirement already satisfied: Pillow in /usr/local/lib/python3.8/dist-packages (from imojify) (7.1.2)\n",
            "Requirement already satisfied: emoji in /usr/local/lib/python3.8/dist-packages (from imojify) (1.7.0)\n",
            "Installing collected packages: imojify\n",
            "Successfully installed imojify-0.1.1\n"
          ]
        }
      ]
    },
    {
      "cell_type": "code",
      "source": [
        "from imojify import imojify\n",
        "from matplotlib import pyplot as plt \n",
        "from matplotlib.offsetbox import OffsetImage,AnnotationBbox\n",
        "def offset_image(cords, emoji, ax):\n",
        "    img = plt.imread(imojify.get_img_path(emoji))\n",
        "    im = OffsetImage(img, zoom=0.08)\n",
        "    im.image.axes = ax\n",
        "    ab = AnnotationBbox(im, (cords[0], cords[1]),  frameon=False, pad=0)\n",
        "    ax.add_artist(ab)\n",
        "\n",
        "\n",
        "\n",
        "emjis = mylist\n",
        "values = mylist2\n",
        "\n",
        "fig, ax = plt.subplots(figsize=(12,8))\n",
        "ax.bar(range(len(emjis)), values, width=0.2,align=\"center\")\n",
        "ax.set_xticks(range(len(emjis)))\n",
        "ax.set_xticklabels([])\n",
        "ax.tick_params(axis='x', which='major', pad=26)\n",
        "ax.set_ylim((0, ax.get_ylim()[1]+10))\n",
        "\n",
        "for i, e in enumerate(emjis):\n",
        "    offset_image([i,values[i]+5], e, ax)"
      ],
      "metadata": {
        "colab": {
          "base_uri": "https://localhost:8080/",
          "height": 472
        },
        "id": "xJwfS4u3rEud",
        "outputId": "58cd1df0-0de7-4c7d-aa53-f6f769bfc79f"
      },
      "execution_count": null,
      "outputs": [
        {
          "output_type": "display_data",
          "data": {
            "text/plain": [
              "<Figure size 864x576 with 1 Axes>"
            ],
            "image/png": "[encoded data removed]"
          },
          "metadata": {}
        }
      ]
    },
    {
      "cell_type": "markdown",
      "source": [
        "#Sentimental Analysis"
      ],
      "metadata": {
        "id": "CN4KDW2FdhgD"
      }
    },
    {
      "cell_type": "code",
      "source": [
        "import nltk\n",
        "nltk.download()"
      ],
      "metadata": {
        "colab": {
          "base_uri": "https://localhost:8080/"
        },
        "id": "wF6rTvF9eqIH",
        "outputId": "06d03ed8-09f3-4ab9-a10a-5530395fe0c3"
      },
      "execution_count": null,
      "outputs": [
        {
          "name": "stdout",
          "output_type": "stream",
          "text": [
            "NLTK Downloader\n",
            "---------------------------------------------------------------------------\n",
            "    d) Download   l) List    u) Update   c) Config   h) Help   q) Quit\n",
            "---------------------------------------------------------------------------\n",
            "Downloader> q\n"
          ]
        },
        {
          "output_type": "execute_result",
          "data": {
            "text/plain": [
              "True"
            ]
          },
          "metadata": {},
          "execution_count": 67
        }
      ]
    },
    {
      "cell_type": "code",
      "source": [
        "from nltk.corpus import brown\n"
      ],
      "metadata": {
        "id": "_mU0rA9XfCPT"
      },
      "execution_count": null,
      "outputs": []
    },
    {
      "cell_type": "code",
      "source": [
        "import nltk\n",
        "nltk.download('vader_lexicon')"
      ],
      "metadata": {
        "colab": {
          "base_uri": "https://localhost:8080/"
        },
        "id": "I_5rqGFBf6mF",
        "outputId": "bd2d4d09-fc99-43a4-de8e-891d18434bfb"
      },
      "execution_count": null,
      "outputs": [
        {
          "output_type": "stream",
          "name": "stderr",
          "text": [
            "[nltk_data] Downloading package vader_lexicon to /root/nltk_data...\n"
          ]
        },
        {
          "output_type": "execute_result",
          "data": {
            "text/plain": [
              "True"
            ]
          },
          "metadata": {},
          "execution_count": 69
        }
      ]
    },
    {
      "cell_type": "code",
      "source": [
        "pip install nltk"
      ],
      "metadata": {
        "colab": {
          "base_uri": "https://localhost:8080/"
        },
        "id": "2yHQAqwDfKdc",
        "outputId": "41e4b609-b0ff-45b4-e191-5088b7c5fc32"
      },
      "execution_count": null,
      "outputs": [
        {
          "output_type": "stream",
          "name": "stdout",
          "text": [
            "Looking in indexes: https://pypi.org/simple, https://us-python.pkg.dev/colab-wheels/public/simple/\n",
            "Requirement already satisfied: nltk in /usr/local/lib/python3.8/dist-packages (3.7)\n",
            "Requirement already satisfied: joblib in /usr/local/lib/python3.8/dist-packages (from nltk) (1.2.0)\n",
            "Requirement already satisfied: click in /usr/local/lib/python3.8/dist-packages (from nltk) (7.1.2)\n",
            "Requirement already satisfied: tqdm in /usr/local/lib/python3.8/dist-packages (from nltk) (4.64.1)\n",
            "Requirement already satisfied: regex>=2021.8.3 in /usr/local/lib/python3.8/dist-packages (from nltk) (2022.6.2)\n"
          ]
        }
      ]
    },
    {
      "cell_type": "code",
      "source": [
        "import re\n",
        "import pandas as pd\n",
        "import numpy as np\n",
        "import emoji\n",
        "from collections import Counter\n",
        "import matplotlib.pyplot as plt\n",
        "from PIL import Image\n",
        "from wordcloud import WordCloud, STOPWORDS, ImageColorGenerator\n",
        "import nltk\n",
        "\n",
        "# Extract Time\n",
        "def date_time(s):\n",
        "    pattern = '^([0-9]+)(\\/)([0-9]+)(\\/)([0-9]+), ([0-9]+):([0-9]+)[ ]?(AM|PM|am|pm)? -'\n",
        "    result = re.match(pattern, s)\n",
        "    if result:\n",
        "        return True\n",
        "    return False\n",
        "\n",
        "# Find Authors or Contacts\n",
        "def find_author(s):\n",
        "    s = s.split(\":\")\n",
        "    if len(s)==2:\n",
        "        return True\n",
        "    else:\n",
        "        return False\n",
        "\n",
        "# Finding Messages\n",
        "def getDatapoint(line):\n",
        "    splitline = line.split(' - ')\n",
        "    dateTime = splitline[0]\n",
        "    date, time = dateTime.split(\", \")\n",
        "    message = \" \".join(splitline[1:])\n",
        "    if find_author(message):\n",
        "        splitmessage = message.split(\": \")\n",
        "        author = splitmessage[0]\n",
        "        message = \" \".join(splitmessage[1:])\n",
        "    else:\n",
        "        author= None\n",
        "    return date, time, author, message"
      ],
      "metadata": {
        "id": "DPXGYPlhdy1r"
      },
      "execution_count": null,
      "outputs": []
    },
    {
      "cell_type": "code",
      "source": [
        "data = []\n",
        "conversation = '/content/drive/MyDrive/Internship /IPL/chat/WhatsApp Chat with IPL.txt'\n",
        "with open(conversation, encoding=\"utf-8\") as fp:\n",
        "    fp.readline()\n",
        "    messageBuffer = []\n",
        "    date, time, author = None, None, None\n",
        "    while True:\n",
        "        line = fp.readline()\n",
        "        if not line:\n",
        "            break\n",
        "        line = line.strip()\n",
        "        if date_time(line):\n",
        "            if len(messageBuffer) > 0:\n",
        "                data.append([date, time, author, ' '.join(messageBuffer)])\n",
        "            messageBuffer.clear()\n",
        "            date, time, author, message = getDatapoint(line)\n",
        "            messageBuffer.append(message)\n",
        "        else:\n",
        "            messageBuffer.append(line)"
      ],
      "metadata": {
        "id": "_ZaJbDgrd3bT"
      },
      "execution_count": null,
      "outputs": []
    },
    {
      "cell_type": "code",
      "source": [
        "from nltk.sentiment.vader import SentimentIntensityAnalyzer\n",
        "nltk.download('vader_lexicon')\n",
        "senti_analyzer= SentimentIntensityAnalyzer()"
      ],
      "metadata": {
        "id": "mCHUMuWOnEOc"
      },
      "execution_count": null,
      "outputs": []
    },
    {
      "cell_type": "code",
      "source": [
        "senti_df = df[['Author','Message']]\n",
        "senti_df.head(10)"
      ],
      "metadata": {
        "id": "FKYLZq8WnJgt"
      },
      "execution_count": null,
      "outputs": []
    },
    {
      "cell_type": "code",
      "source": [
        "senti_df['postive'] = [senti_analyzer.polarity_scores(i)['pos'] for i in df['Message']]\n",
        "senti_df['negative'] = [senti_analyzer.polarity_scores(i)['neg'] for i in df['Message']]\n",
        "senti_df['neutral'] = [senti_analyzer.polarity_scores(i)['neu'] for i in df['Message']]\n",
        "senti_df.head(10)\n",
        "     "
      ],
      "metadata": {
        "id": "nEotDLLkms3Q"
      },
      "execution_count": null,
      "outputs": []
    },
    {
      "cell_type": "code",
      "source": [
        "senti_df[senti_df['postive']==1.0]"
      ],
      "metadata": {
        "id": "AnV_VlVrm77x"
      },
      "execution_count": null,
      "outputs": []
    },
    {
      "cell_type": "code",
      "source": [
        "senti_df[senti_df['neutral']==1.0]"
      ],
      "metadata": {
        "id": "niLwVK1onlG0"
      },
      "execution_count": null,
      "outputs": []
    },
    {
      "cell_type": "code",
      "source": [
        "t_pos = senti_df['postive'].sum()\n",
        "t_neg = senti_df['negative'].sum()\n",
        "t_neu = senti_df['neutral'].sum()"
      ],
      "metadata": {
        "id": "gOjIv8F5ngBv"
      },
      "execution_count": null,
      "outputs": []
    },
    {
      "cell_type": "code",
      "source": [
        "\n",
        "def sentiment_score(pos, neg, neu):\n",
        "  if (pos > neg) and (pos > neu):\n",
        "    return 'Positive 😊'\n",
        "  elif (neg > pos) and (neg > neu):\n",
        "    return 'Negative 😠'\n",
        "  else:\n",
        "    return 'Neutral 🙂'\n",
        "  \n",
        "print(sentiment_score(t_pos, t_neg, t_neu))\n",
        "  "
      ],
      "metadata": {
        "id": "rymBcvw3njrl"
      },
      "execution_count": null,
      "outputs": []
    },
    {
      "cell_type": "code",
      "source": [
        "colors = ['#99ff99','#6495ED','#FF4040']\n",
        "explode = (0.08,0.08,0.08)\n",
        "data = [t_pos, t_neg, t_neu]\n",
        "label = ['Positive','Negative','Neutral']\n",
        "\n",
        "plt.pie(data, labels=label, autopct='%1.1f%%', explode=explode, shadow=True, colors=colors)"
      ],
      "metadata": {
        "id": "gRtmhPjEn3rQ"
      },
      "execution_count": null,
      "outputs": []
    },
    {
      "cell_type": "code",
      "source": [
        "data = [t_pos, t_neg]\n",
        "label = ['Positive','Negative']\n",
        "color = ['#77DD77','#FF6961']\n",
        "plt.pie(data, labels=label, autopct='%1.1f%%', shadow=True, colors= color)"
      ],
      "metadata": {
        "id": "hoiKlvYb2qBx"
      },
      "execution_count": null,
      "outputs": []
    },
    {
      "cell_type": "code",
      "source": [
        "df['Message'] =df['Message'].str.replace('\\d+','') \n",
        "df['Message'] =df['Message'].str.replace('.','') \n",
        "\n",
        "def cleanTxt(text):\n",
        "    text = re.sub('[^a-zA-Z]', ' ', str(text)) \n",
        "    text=re.sub(r'#','',str(text)) \n",
        "    text = re.sub('http[^\\s]+','',str(text)) \n",
        "    text=re.sub(r'@[A-Za-z0-9]+','',str(text)) \n",
        "    emoji_pattern = re.compile(\"[\"\n",
        "                           u\"\\U0001F600-\\U0001F64F\"  \n",
        "                           u\"\\U0001F300-\\U0001F5FF\" \n",
        "                           u\"\\U0001F680-\\U0001F6FF\"  \n",
        "                           u\"\\U0001F1E0-\\U0001F1FF\"  \n",
        "                           u\"\\U00002702-\\U000027B0\"\n",
        "                           u\"\\U000024C2-\\U0001F251\"\n",
        "                           \"]+\", flags=re.UNICODE)\n",
        "    return emoji_pattern.sub(r'', str(text))\n",
        "\n",
        "df['Message']=df['Message'].apply(cleanTxt) \n",
        "\n",
        "def sentiment_scores(sentence):\n",
        "    s=TextBlob(sentence) \n",
        "    sentiment_dict = s.sentiment.polarity \n",
        "    if sentiment_dict>0 and sentiment_dict<=1:\n",
        "        return \"positive\"\n",
        "    elif sentiment_dict<0 :\n",
        "        return \"negative\"\n",
        "    elif sentiment_dict==0 :\n",
        "        return \"neutral\"\n",
        "\n",
        "l=[sentiment_scores(i) for i in df.Message]\n",
        "df[\"labels\"] = l\n",
        "\n"
      ],
      "metadata": {
        "id": "lqICH8l1AHj5"
      },
      "execution_count": null,
      "outputs": []
    },
    {
      "cell_type": "code",
      "source": [
        "from wordcloud import WordCloud,STOPWORDS"
      ],
      "metadata": {
        "id": "rR7h-7dWMkkc"
      },
      "execution_count": null,
      "outputs": []
    },
    {
      "cell_type": "code",
      "source": [
        "df['Date'] = pd.to_datetime(df['Date'])\n",
        "mask = (df['Date'] > '2022-12-25') & (df['Date'] <= '2023-01-02')\n",
        "g=df.loc[mask]\n",
        "\n",
        "comment_words = ''\n",
        "stopwords = set(STOPWORDS)\n",
        "n=g[g['labels']=='positive']\n",
        "for val in n['Message']:\n",
        "    val = str(val)\n",
        "    tokens = val.split()\n",
        "    for i in range(len(tokens)):\n",
        "        if tokens[i] == 'JJ' or tokens[i]=='JJR' or tokens[i]=='JJS':\n",
        "            tokens[i] = tokens[i].lower()\n",
        "    comment_words += \" \".join(tokens)+\" \"\n",
        "wordcloud = WordCloud(width = 800, height = 800,\n",
        "                background_color ='black',\n",
        "                stopwords = stopwords,\n",
        "                colormap='Set2',\n",
        "                min_font_size =10).generate(comment_words)\n",
        "     \n",
        "plt.show()"
      ],
      "metadata": {
        "id": "zRAIcB0nDrJN"
      },
      "execution_count": null,
      "outputs": []
    },
    {
      "cell_type": "code",
      "source": [
        "import nltk\n",
        "nltk.download('stopwords')\n",
        "from nltk.corpus import stopwords\n",
        "text = ' '.join([word for word in comment_words.split() if word not in (stopwords.words('english'))])"
      ],
      "metadata": {
        "id": "qDXjMEFlEi6I"
      },
      "execution_count": null,
      "outputs": []
    },
    {
      "cell_type": "code",
      "source": [
        "nltk.download('words')\n",
        "words=set(nltk.corpus.words.words())\n",
        "text= \" \".join(w for w in nltk.wordpunct_tokenize(text) if w.lower() in words or not w.isalpha())"
      ],
      "metadata": {
        "id": "ud26wkWVEnlj"
      },
      "execution_count": null,
      "outputs": []
    },
    {
      "cell_type": "code",
      "source": [
        "words=text.split()\n",
        "len(words)"
      ],
      "metadata": {
        "id": "nOQCIrR7Erdo"
      },
      "execution_count": null,
      "outputs": []
    },
    {
      "cell_type": "code",
      "source": [
        "word=[]\n",
        "for i in range(234):\n",
        "    word.append(words[i])"
      ],
      "metadata": {
        "id": "14u1cHlLEvN5"
      },
      "execution_count": null,
      "outputs": []
    },
    {
      "cell_type": "code",
      "source": [
        "for i in range(len(word)):\n",
        "    word[i] = word[i].lower()"
      ],
      "metadata": {
        "id": "a_ViG49OE8Co"
      },
      "execution_count": null,
      "outputs": []
    },
    {
      "cell_type": "code",
      "source": [
        "word=np.array(word)\n",
        "(unique,count)=np.unique(word,return_counts=True)\n",
        "data_word=pd.DataFrame({'words':unique,'frequency':count})\n",
        "df2=data_word.sort_values('frequency',ascending=False)"
      ],
      "metadata": {
        "id": "e3VR-6ZBMMwB"
      },
      "execution_count": null,
      "outputs": []
    },
    {
      "cell_type": "code",
      "source": [
        "fig,(ax1)=plt.subplots(nrows=1,figsize=(20,7))\n",
        "\n",
        "ax1.imshow(wordcloud,interpolation=\"none\")\n",
        "ax1.set_title('analysis of Positive message')\n",
        "\n",
        "ax1.axis('off')\n",
        "\n",
        "plt.show()"
      ],
      "metadata": {
        "colab": {
          "base_uri": "https://localhost:8080/",
          "height": 427
        },
        "id": "5tsbZRVVMZWt",
        "outputId": "6c454614-9dcf-4681-d455-a2980c57b704"
      },
      "execution_count": null,
      "outputs": [
        {
          "data": {
            "image/png": "[encoded data removed]",
            "text/plain": [
              "<Figure size 1440x504 with 1 Axes>"
            ]
          },
          "metadata": {},
          "output_type": "display_data"
        }
      ]
    },
    {
      "cell_type": "code",
      "source": [
        "df1=df.drop(['urlcount','Url_Count'], axis=1)"
      ],
      "metadata": {
        "id": "jWh_ccb4ML8Z"
      },
      "execution_count": null,
      "outputs": []
    },
    {
      "cell_type": "code",
      "source": [
        "df1"
      ],
      "metadata": {
        "colab": {
          "base_uri": "https://localhost:8080/",
          "height": 424
        },
        "id": "nW5xFf4jMdoH",
        "outputId": "e4a90190-f7fb-4f83-f721-941d26728b47"
      },
      "execution_count": null,
      "outputs": [
        {
          "data": {
            "text/html": [
              "\n",
              "  <div id=\"df-6588c15a-cf3a-455a-9180-345345c9113c\">\n",
              "    <div class=\"colab-df-container\">\n",
              "      <div>\n",
              "<style scoped>\n",
              "    .dataframe tbody tr th:only-of-type {\n",
              "        vertical-align: middle;\n",
              "    }\n",
              "\n",
              "    .dataframe tbody tr th {\n",
              "        vertical-align: top;\n",
              "    }\n",
              "\n",
              "    .dataframe thead th {\n",
              "        text-align: right;\n",
              "    }\n",
              "</style>\n",
              "<table border=\"1\" class=\"dataframe\">\n",
              "  <thead>\n",
              "    <tr style=\"text-align: right;\">\n",
              "      <th></th>\n",
              "      <th>Date</th>\n",
              "      <th>Time</th>\n",
              "      <th>Author</th>\n",
              "      <th>Message</th>\n",
              "      <th>Hour</th>\n",
              "      <th>Letters</th>\n",
              "      <th>WordCount</th>\n",
              "      <th>Msg_count</th>\n",
              "      <th>labels</th>\n",
              "    </tr>\n",
              "  </thead>\n",
              "  <tbody>\n",
              "    <tr>\n",
              "      <th>0</th>\n",
              "      <td>2022-12-26</td>\n",
              "      <td>19:45</td>\n",
              "      <td>Mukesh</td>\n",
              "      <td>Hii guys</td>\n",
              "      <td>19</td>\n",
              "      <td>8</td>\n",
              "      <td>2</td>\n",
              "      <td>33</td>\n",
              "      <td>neutral</td>\n",
              "    </tr>\n",
              "    <tr>\n",
              "      <th>1</th>\n",
              "      <td>2022-12-26</td>\n",
              "      <td>19:46</td>\n",
              "      <td>Koushik Itachi</td>\n",
              "      <td>Hii boys</td>\n",
              "      <td>19</td>\n",
              "      <td>8</td>\n",
              "      <td>2</td>\n",
              "      <td>33</td>\n",
              "      <td>neutral</td>\n",
              "    </tr>\n",
              "    <tr>\n",
              "      <th>2</th>\n",
              "      <td>2022-12-26</td>\n",
              "      <td>19:46</td>\n",
              "      <td>Aanandh Sret</td>\n",
              "      <td>Hii guys</td>\n",
              "      <td>19</td>\n",
              "      <td>8</td>\n",
              "      <td>2</td>\n",
              "      <td>33</td>\n",
              "      <td>neutral</td>\n",
              "    </tr>\n",
              "    <tr>\n",
              "      <th>3</th>\n",
              "      <td>2022-12-26</td>\n",
              "      <td>19:46</td>\n",
              "      <td>Mukesh</td>\n",
              "      <td>How are you all</td>\n",
              "      <td>19</td>\n",
              "      <td>16</td>\n",
              "      <td>4</td>\n",
              "      <td>33</td>\n",
              "      <td>neutral</td>\n",
              "    </tr>\n",
              "    <tr>\n",
              "      <th>4</th>\n",
              "      <td>2022-12-26</td>\n",
              "      <td>19:46</td>\n",
              "      <td>Aanandh Sret</td>\n",
              "      <td>I m great</td>\n",
              "      <td>19</td>\n",
              "      <td>9</td>\n",
              "      <td>2</td>\n",
              "      <td>33</td>\n",
              "      <td>positive</td>\n",
              "    </tr>\n",
              "    <tr>\n",
              "      <th>...</th>\n",
              "      <td>...</td>\n",
              "      <td>...</td>\n",
              "      <td>...</td>\n",
              "      <td>...</td>\n",
              "      <td>...</td>\n",
              "      <td>...</td>\n",
              "      <td>...</td>\n",
              "      <td>...</td>\n",
              "      <td>...</td>\n",
              "    </tr>\n",
              "    <tr>\n",
              "      <th>191</th>\n",
              "      <td>2023-01-01</td>\n",
              "      <td>22:38</td>\n",
              "      <td>Mukesh</td>\n",
              "      <td>and also a very good batsman for back up Will ...</td>\n",
              "      <td>22</td>\n",
              "      <td>52</td>\n",
              "      <td>11</td>\n",
              "      <td>26</td>\n",
              "      <td>positive</td>\n",
              "    </tr>\n",
              "    <tr>\n",
              "      <th>192</th>\n",
              "      <td>2023-01-01</td>\n",
              "      <td>22:38</td>\n",
              "      <td>Mukesh</td>\n",
              "      <td>yeah but i think most probably he ll play till...</td>\n",
              "      <td>22</td>\n",
              "      <td>64</td>\n",
              "      <td>12</td>\n",
              "      <td>26</td>\n",
              "      <td>positive</td>\n",
              "    </tr>\n",
              "    <tr>\n",
              "      <th>193</th>\n",
              "      <td>2023-01-01</td>\n",
              "      <td>22:39</td>\n",
              "      <td>Mukesh</td>\n",
              "      <td>Hope he does will till then</td>\n",
              "      <td>22</td>\n",
              "      <td>27</td>\n",
              "      <td>6</td>\n",
              "      <td>26</td>\n",
              "      <td>neutral</td>\n",
              "    </tr>\n",
              "    <tr>\n",
              "      <th>194</th>\n",
              "      <td>2023-01-01</td>\n",
              "      <td>22:39</td>\n",
              "      <td>Koushik Itachi</td>\n",
              "      <td>Yeah</td>\n",
              "      <td>22</td>\n",
              "      <td>4</td>\n",
              "      <td>1</td>\n",
              "      <td>26</td>\n",
              "      <td>neutral</td>\n",
              "    </tr>\n",
              "    <tr>\n",
              "      <th>195</th>\n",
              "      <td>2023-01-01</td>\n",
              "      <td>22:40</td>\n",
              "      <td>Mukesh</td>\n",
              "      <td>Maxwell is also injured hopefully he ll get ba...</td>\n",
              "      <td>22</td>\n",
              "      <td>57</td>\n",
              "      <td>10</td>\n",
              "      <td>26</td>\n",
              "      <td>neutral</td>\n",
              "    </tr>\n",
              "  </tbody>\n",
              "</table>\n",
              "<p>193 rows × 9 columns</p>\n",
              "</div>\n",
              "      <button class=\"colab-df-convert\" onclick=\"convertToInteractive('df-6588c15a-cf3a-455a-9180-345345c9113c')\"\n",
              "              title=\"Convert this dataframe to an interactive table.\"\n",
              "              style=\"display:none;\">\n",
              "        \n",
              "  <svg xmlns=\"http://www.w3.org/2000/svg\" height=\"24px\"viewBox=\"0 0 24 24\"\n",
              "       width=\"24px\">\n",
              "    <path d=\"M0 0h24v24H0V0z\" fill=\"none\"/>\n",
              "    <path d=\"M18.56 5.44l.94 2.06.94-2.06 2.06-.94-2.06-.94-.94-2.06-.94 2.06-2.06.94zm-11 1L8.5 8.5l.94-2.06 2.06-.94-2.06-.94L8.5 2.5l-.94 2.06-2.06.94zm10 10l.94 2.06.94-2.06 2.06-.94-2.06-.94-.94-2.06-.94 2.06-2.06.94z\"/><path d=\"M17.41 7.96l-1.37-1.37c-.4-.4-.92-.59-1.43-.59-.52 0-1.04.2-1.43.59L10.3 9.45l-7.72 7.72c-.78.78-.78 2.05 0 2.83L4 21.41c.39.39.9.59 1.41.59.51 0 1.02-.2 1.41-.59l7.78-7.78 2.81-2.81c.8-.78.8-2.07 0-2.86zM5.41 20L4 18.59l7.72-7.72 1.47 1.35L5.41 20z\"/>\n",
              "  </svg>\n",
              "      </button>\n",
              "      \n",
              "  <style>\n",
              "    .colab-df-container {\n",
              "      display:flex;\n",
              "      flex-wrap:wrap;\n",
              "      gap: 12px;\n",
              "    }\n",
              "\n",
              "    .colab-df-convert {\n",
              "      background-color: #E8F0FE;\n",
              "      border: none;\n",
              "      border-radius: 50%;\n",
              "      cursor: pointer;\n",
              "      display: none;\n",
              "      fill: #1967D2;\n",
              "      height: 32px;\n",
              "      padding: 0 0 0 0;\n",
              "      width: 32px;\n",
              "    }\n",
              "\n",
              "    .colab-df-convert:hover {\n",
              "      background-color: #E2EBFA;\n",
              "      box-shadow: 0px 1px 2px rgba(60, 64, 67, 0.3), 0px 1px 3px 1px rgba(60, 64, 67, 0.15);\n",
              "      fill: #174EA6;\n",
              "    }\n",
              "\n",
              "    [theme=dark] .colab-df-convert {\n",
              "      background-color: #3B4455;\n",
              "      fill: #D2E3FC;\n",
              "    }\n",
              "\n",
              "    [theme=dark] .colab-df-convert:hover {\n",
              "      background-color: #434B5C;\n",
              "      box-shadow: 0px 1px 3px 1px rgba(0, 0, 0, 0.15);\n",
              "      filter: drop-shadow(0px 1px 2px rgba(0, 0, 0, 0.3));\n",
              "      fill: #FFFFFF;\n",
              "    }\n",
              "  </style>\n",
              "\n",
              "      <script>\n",
              "        const buttonEl =\n",
              "          document.querySelector('#df-6588c15a-cf3a-455a-9180-345345c9113c button.colab-df-convert');\n",
              "        buttonEl.style.display =\n",
              "          google.colab.kernel.accessAllowed ? 'block' : 'none';\n",
              "\n",
              "        async function convertToInteractive(key) {\n",
              "          const element = document.querySelector('#df-6588c15a-cf3a-455a-9180-345345c9113c');\n",
              "          const dataTable =\n",
              "            await google.colab.kernel.invokeFunction('convertToInteractive',\n",
              "                                                     [key], {});\n",
              "          if (!dataTable) return;\n",
              "\n",
              "          const docLinkHtml = 'Like what you see? Visit the ' +\n",
              "            '<a target=\"_blank\" href=https://colab.research.google.com/notebooks/data_table.ipynb>data table notebook</a>'\n",
              "            + ' to learn more about interactive tables.';\n",
              "          element.innerHTML = '';\n",
              "          dataTable['output_type'] = 'display_data';\n",
              "          await google.colab.output.renderOutput(dataTable, element);\n",
              "          const docLink = document.createElement('div');\n",
              "          docLink.innerHTML = docLinkHtml;\n",
              "          element.appendChild(docLink);\n",
              "        }\n",
              "      </script>\n",
              "    </div>\n",
              "  </div>\n",
              "  "
            ],
            "text/plain": [
              "          Date   Time          Author  \\\n",
              "0   2022-12-26  19:45          Mukesh   \n",
              "1   2022-12-26  19:46  Koushik Itachi   \n",
              "2   2022-12-26  19:46    Aanandh Sret   \n",
              "3   2022-12-26  19:46          Mukesh   \n",
              "4   2022-12-26  19:46    Aanandh Sret   \n",
              "..         ...    ...             ...   \n",
              "191 2023-01-01  22:38          Mukesh   \n",
              "192 2023-01-01  22:38          Mukesh   \n",
              "193 2023-01-01  22:39          Mukesh   \n",
              "194 2023-01-01  22:39  Koushik Itachi   \n",
              "195 2023-01-01  22:40          Mukesh   \n",
              "\n",
              "                                               Message Hour  Letters  \\\n",
              "0                                             Hii guys   19        8   \n",
              "1                                             Hii boys   19        8   \n",
              "2                                             Hii guys   19        8   \n",
              "3                                     How are you all    19       16   \n",
              "4                                            I m great   19        9   \n",
              "..                                                 ...  ...      ...   \n",
              "191  and also a very good batsman for back up Will ...   22       52   \n",
              "192  yeah but i think most probably he ll play till...   22       64   \n",
              "193                        Hope he does will till then   22       27   \n",
              "194                                               Yeah   22        4   \n",
              "195  Maxwell is also injured hopefully he ll get ba...   22       57   \n",
              "\n",
              "     WordCount  Msg_count    labels  \n",
              "0            2         33   neutral  \n",
              "1            2         33   neutral  \n",
              "2            2         33   neutral  \n",
              "3            4         33   neutral  \n",
              "4            2         33  positive  \n",
              "..         ...        ...       ...  \n",
              "191         11         26  positive  \n",
              "192         12         26  positive  \n",
              "193          6         26   neutral  \n",
              "194          1         26   neutral  \n",
              "195         10         26   neutral  \n",
              "\n",
              "[193 rows x 9 columns]"
            ]
          },
          "execution_count": 93,
          "metadata": {},
          "output_type": "execute_result"
        }
      ]
    },
    {
      "cell_type": "code",
      "source": [],
      "metadata": {
        "id": "HslM-fOzMp_V"
      },
      "execution_count": null,
      "outputs": []
    },
    {
      "cell_type": "code",
      "source": [
        "df['Date']=pd.to_datetime(df['Date'])"
      ],
      "metadata": {
        "id": "Z7rwWGzp-i8G"
      },
      "execution_count": null,
      "outputs": []
    },
    {
      "cell_type": "code",
      "source": [
        "df['Week']=df['Date'].dt.to_period('W').astype(str)"
      ],
      "metadata": {
        "id": "uYcBKj7I_ZIN"
      },
      "execution_count": null,
      "outputs": []
    },
    {
      "cell_type": "code",
      "source": [
        "df"
      ],
      "metadata": {
        "colab": {
          "base_uri": "https://localhost:8080/",
          "height": 424
        },
        "id": "3dWvcw03_YXN",
        "outputId": "b7a2ae83-fcd6-41db-d5f1-3e7d7beb6053"
      },
      "execution_count": null,
      "outputs": [
        {
          "data": {
            "text/html": [
              "\n",
              "  <div id=\"df-56b639d3-2beb-43c4-80ac-556b90b235b4\">\n",
              "    <div class=\"colab-df-container\">\n",
              "      <div>\n",
              "<style scoped>\n",
              "    .dataframe tbody tr th:only-of-type {\n",
              "        vertical-align: middle;\n",
              "    }\n",
              "\n",
              "    .dataframe tbody tr th {\n",
              "        vertical-align: top;\n",
              "    }\n",
              "\n",
              "    .dataframe thead th {\n",
              "        text-align: right;\n",
              "    }\n",
              "</style>\n",
              "<table border=\"1\" class=\"dataframe\">\n",
              "  <thead>\n",
              "    <tr style=\"text-align: right;\">\n",
              "      <th></th>\n",
              "      <th>Date</th>\n",
              "      <th>Time</th>\n",
              "      <th>Author</th>\n",
              "      <th>Message</th>\n",
              "      <th>urlcount</th>\n",
              "      <th>Hour</th>\n",
              "      <th>Letters</th>\n",
              "      <th>WordCount</th>\n",
              "      <th>Url_Count</th>\n",
              "      <th>Msg_count</th>\n",
              "      <th>labels</th>\n",
              "      <th>Week</th>\n",
              "    </tr>\n",
              "  </thead>\n",
              "  <tbody>\n",
              "    <tr>\n",
              "      <th>0</th>\n",
              "      <td>2022-12-26</td>\n",
              "      <td>19:45</td>\n",
              "      <td>Mukesh</td>\n",
              "      <td>Hii guys</td>\n",
              "      <td>0</td>\n",
              "      <td>19</td>\n",
              "      <td>8</td>\n",
              "      <td>2</td>\n",
              "      <td>0</td>\n",
              "      <td>33</td>\n",
              "      <td>neutral</td>\n",
              "      <td>2022-12-26/2023-01-01</td>\n",
              "    </tr>\n",
              "    <tr>\n",
              "      <th>1</th>\n",
              "      <td>2022-12-26</td>\n",
              "      <td>19:46</td>\n",
              "      <td>Koushik Itachi</td>\n",
              "      <td>Hii boys</td>\n",
              "      <td>0</td>\n",
              "      <td>19</td>\n",
              "      <td>8</td>\n",
              "      <td>2</td>\n",
              "      <td>0</td>\n",
              "      <td>33</td>\n",
              "      <td>neutral</td>\n",
              "      <td>2022-12-26/2023-01-01</td>\n",
              "    </tr>\n",
              "    <tr>\n",
              "      <th>2</th>\n",
              "      <td>2022-12-26</td>\n",
              "      <td>19:46</td>\n",
              "      <td>Aanandh Sret</td>\n",
              "      <td>Hii guys</td>\n",
              "      <td>0</td>\n",
              "      <td>19</td>\n",
              "      <td>8</td>\n",
              "      <td>2</td>\n",
              "      <td>0</td>\n",
              "      <td>33</td>\n",
              "      <td>neutral</td>\n",
              "      <td>2022-12-26/2023-01-01</td>\n",
              "    </tr>\n",
              "    <tr>\n",
              "      <th>3</th>\n",
              "      <td>2022-12-26</td>\n",
              "      <td>19:46</td>\n",
              "      <td>Mukesh</td>\n",
              "      <td>How are you all</td>\n",
              "      <td>0</td>\n",
              "      <td>19</td>\n",
              "      <td>16</td>\n",
              "      <td>4</td>\n",
              "      <td>0</td>\n",
              "      <td>33</td>\n",
              "      <td>neutral</td>\n",
              "      <td>2022-12-26/2023-01-01</td>\n",
              "    </tr>\n",
              "    <tr>\n",
              "      <th>4</th>\n",
              "      <td>2022-12-26</td>\n",
              "      <td>19:46</td>\n",
              "      <td>Aanandh Sret</td>\n",
              "      <td>I m great</td>\n",
              "      <td>0</td>\n",
              "      <td>19</td>\n",
              "      <td>9</td>\n",
              "      <td>2</td>\n",
              "      <td>0</td>\n",
              "      <td>33</td>\n",
              "      <td>positive</td>\n",
              "      <td>2022-12-26/2023-01-01</td>\n",
              "    </tr>\n",
              "    <tr>\n",
              "      <th>...</th>\n",
              "      <td>...</td>\n",
              "      <td>...</td>\n",
              "      <td>...</td>\n",
              "      <td>...</td>\n",
              "      <td>...</td>\n",
              "      <td>...</td>\n",
              "      <td>...</td>\n",
              "      <td>...</td>\n",
              "      <td>...</td>\n",
              "      <td>...</td>\n",
              "      <td>...</td>\n",
              "      <td>...</td>\n",
              "    </tr>\n",
              "    <tr>\n",
              "      <th>191</th>\n",
              "      <td>2023-01-01</td>\n",
              "      <td>22:38</td>\n",
              "      <td>Mukesh</td>\n",
              "      <td>and also a very good batsman for back up Will ...</td>\n",
              "      <td>0</td>\n",
              "      <td>22</td>\n",
              "      <td>52</td>\n",
              "      <td>11</td>\n",
              "      <td>0</td>\n",
              "      <td>26</td>\n",
              "      <td>positive</td>\n",
              "      <td>2022-12-26/2023-01-01</td>\n",
              "    </tr>\n",
              "    <tr>\n",
              "      <th>192</th>\n",
              "      <td>2023-01-01</td>\n",
              "      <td>22:38</td>\n",
              "      <td>Mukesh</td>\n",
              "      <td>yeah but i think most probably he ll play till...</td>\n",
              "      <td>0</td>\n",
              "      <td>22</td>\n",
              "      <td>64</td>\n",
              "      <td>12</td>\n",
              "      <td>0</td>\n",
              "      <td>26</td>\n",
              "      <td>positive</td>\n",
              "      <td>2022-12-26/2023-01-01</td>\n",
              "    </tr>\n",
              "    <tr>\n",
              "      <th>193</th>\n",
              "      <td>2023-01-01</td>\n",
              "      <td>22:39</td>\n",
              "      <td>Mukesh</td>\n",
              "      <td>Hope he does will till then</td>\n",
              "      <td>0</td>\n",
              "      <td>22</td>\n",
              "      <td>27</td>\n",
              "      <td>6</td>\n",
              "      <td>0</td>\n",
              "      <td>26</td>\n",
              "      <td>neutral</td>\n",
              "      <td>2022-12-26/2023-01-01</td>\n",
              "    </tr>\n",
              "    <tr>\n",
              "      <th>194</th>\n",
              "      <td>2023-01-01</td>\n",
              "      <td>22:39</td>\n",
              "      <td>Koushik Itachi</td>\n",
              "      <td>Yeah</td>\n",
              "      <td>0</td>\n",
              "      <td>22</td>\n",
              "      <td>4</td>\n",
              "      <td>1</td>\n",
              "      <td>0</td>\n",
              "      <td>26</td>\n",
              "      <td>neutral</td>\n",
              "      <td>2022-12-26/2023-01-01</td>\n",
              "    </tr>\n",
              "    <tr>\n",
              "      <th>195</th>\n",
              "      <td>2023-01-01</td>\n",
              "      <td>22:40</td>\n",
              "      <td>Mukesh</td>\n",
              "      <td>Maxwell is also injured hopefully he ll get ba...</td>\n",
              "      <td>0</td>\n",
              "      <td>22</td>\n",
              "      <td>57</td>\n",
              "      <td>10</td>\n",
              "      <td>0</td>\n",
              "      <td>26</td>\n",
              "      <td>neutral</td>\n",
              "      <td>2022-12-26/2023-01-01</td>\n",
              "    </tr>\n",
              "  </tbody>\n",
              "</table>\n",
              "<p>193 rows × 12 columns</p>\n",
              "</div>\n",
              "      <button class=\"colab-df-convert\" onclick=\"convertToInteractive('df-56b639d3-2beb-43c4-80ac-556b90b235b4')\"\n",
              "              title=\"Convert this dataframe to an interactive table.\"\n",
              "              style=\"display:none;\">\n",
              "        \n",
              "  <svg xmlns=\"http://www.w3.org/2000/svg\" height=\"24px\"viewBox=\"0 0 24 24\"\n",
              "       width=\"24px\">\n",
              "    <path d=\"M0 0h24v24H0V0z\" fill=\"none\"/>\n",
              "    <path d=\"M18.56 5.44l.94 2.06.94-2.06 2.06-.94-2.06-.94-.94-2.06-.94 2.06-2.06.94zm-11 1L8.5 8.5l.94-2.06 2.06-.94-2.06-.94L8.5 2.5l-.94 2.06-2.06.94zm10 10l.94 2.06.94-2.06 2.06-.94-2.06-.94-.94-2.06-.94 2.06-2.06.94z\"/><path d=\"M17.41 7.96l-1.37-1.37c-.4-.4-.92-.59-1.43-.59-.52 0-1.04.2-1.43.59L10.3 9.45l-7.72 7.72c-.78.78-.78 2.05 0 2.83L4 21.41c.39.39.9.59 1.41.59.51 0 1.02-.2 1.41-.59l7.78-7.78 2.81-2.81c.8-.78.8-2.07 0-2.86zM5.41 20L4 18.59l7.72-7.72 1.47 1.35L5.41 20z\"/>\n",
              "  </svg>\n",
              "      </button>\n",
              "      \n",
              "  <style>\n",
              "    .colab-df-container {\n",
              "      display:flex;\n",
              "      flex-wrap:wrap;\n",
              "      gap: 12px;\n",
              "    }\n",
              "\n",
              "    .colab-df-convert {\n",
              "      background-color: #E8F0FE;\n",
              "      border: none;\n",
              "      border-radius: 50%;\n",
              "      cursor: pointer;\n",
              "      display: none;\n",
              "      fill: #1967D2;\n",
              "      height: 32px;\n",
              "      padding: 0 0 0 0;\n",
              "      width: 32px;\n",
              "    }\n",
              "\n",
              "    .colab-df-convert:hover {\n",
              "      background-color: #E2EBFA;\n",
              "      box-shadow: 0px 1px 2px rgba(60, 64, 67, 0.3), 0px 1px 3px 1px rgba(60, 64, 67, 0.15);\n",
              "      fill: #174EA6;\n",
              "    }\n",
              "\n",
              "    [theme=dark] .colab-df-convert {\n",
              "      background-color: #3B4455;\n",
              "      fill: #D2E3FC;\n",
              "    }\n",
              "\n",
              "    [theme=dark] .colab-df-convert:hover {\n",
              "      background-color: #434B5C;\n",
              "      box-shadow: 0px 1px 3px 1px rgba(0, 0, 0, 0.15);\n",
              "      filter: drop-shadow(0px 1px 2px rgba(0, 0, 0, 0.3));\n",
              "      fill: #FFFFFF;\n",
              "    }\n",
              "  </style>\n",
              "\n",
              "      <script>\n",
              "        const buttonEl =\n",
              "          document.querySelector('#df-56b639d3-2beb-43c4-80ac-556b90b235b4 button.colab-df-convert');\n",
              "        buttonEl.style.display =\n",
              "          google.colab.kernel.accessAllowed ? 'block' : 'none';\n",
              "\n",
              "        async function convertToInteractive(key) {\n",
              "          const element = document.querySelector('#df-56b639d3-2beb-43c4-80ac-556b90b235b4');\n",
              "          const dataTable =\n",
              "            await google.colab.kernel.invokeFunction('convertToInteractive',\n",
              "                                                     [key], {});\n",
              "          if (!dataTable) return;\n",
              "\n",
              "          const docLinkHtml = 'Like what you see? Visit the ' +\n",
              "            '<a target=\"_blank\" href=https://colab.research.google.com/notebooks/data_table.ipynb>data table notebook</a>'\n",
              "            + ' to learn more about interactive tables.';\n",
              "          element.innerHTML = '';\n",
              "          dataTable['output_type'] = 'display_data';\n",
              "          await google.colab.output.renderOutput(dataTable, element);\n",
              "          const docLink = document.createElement('div');\n",
              "          docLink.innerHTML = docLinkHtml;\n",
              "          element.appendChild(docLink);\n",
              "        }\n",
              "      </script>\n",
              "    </div>\n",
              "  </div>\n",
              "  "
            ],
            "text/plain": [
              "          Date   Time          Author  \\\n",
              "0   2022-12-26  19:45          Mukesh   \n",
              "1   2022-12-26  19:46  Koushik Itachi   \n",
              "2   2022-12-26  19:46    Aanandh Sret   \n",
              "3   2022-12-26  19:46          Mukesh   \n",
              "4   2022-12-26  19:46    Aanandh Sret   \n",
              "..         ...    ...             ...   \n",
              "191 2023-01-01  22:38          Mukesh   \n",
              "192 2023-01-01  22:38          Mukesh   \n",
              "193 2023-01-01  22:39          Mukesh   \n",
              "194 2023-01-01  22:39  Koushik Itachi   \n",
              "195 2023-01-01  22:40          Mukesh   \n",
              "\n",
              "                                               Message  urlcount Hour  \\\n",
              "0                                             Hii guys         0   19   \n",
              "1                                             Hii boys         0   19   \n",
              "2                                             Hii guys         0   19   \n",
              "3                                     How are you all          0   19   \n",
              "4                                            I m great         0   19   \n",
              "..                                                 ...       ...  ...   \n",
              "191  and also a very good batsman for back up Will ...         0   22   \n",
              "192  yeah but i think most probably he ll play till...         0   22   \n",
              "193                        Hope he does will till then         0   22   \n",
              "194                                               Yeah         0   22   \n",
              "195  Maxwell is also injured hopefully he ll get ba...         0   22   \n",
              "\n",
              "     Letters  WordCount  Url_Count  Msg_count    labels                   Week  \n",
              "0          8          2          0         33   neutral  2022-12-26/2023-01-01  \n",
              "1          8          2          0         33   neutral  2022-12-26/2023-01-01  \n",
              "2          8          2          0         33   neutral  2022-12-26/2023-01-01  \n",
              "3         16          4          0         33   neutral  2022-12-26/2023-01-01  \n",
              "4          9          2          0         33  positive  2022-12-26/2023-01-01  \n",
              "..       ...        ...        ...        ...       ...                    ...  \n",
              "191       52         11          0         26  positive  2022-12-26/2023-01-01  \n",
              "192       64         12          0         26  positive  2022-12-26/2023-01-01  \n",
              "193       27          6          0         26   neutral  2022-12-26/2023-01-01  \n",
              "194        4          1          0         26   neutral  2022-12-26/2023-01-01  \n",
              "195       57         10          0         26   neutral  2022-12-26/2023-01-01  \n",
              "\n",
              "[193 rows x 12 columns]"
            ]
          },
          "execution_count": 96,
          "metadata": {},
          "output_type": "execute_result"
        }
      ]
    },
    {
      "cell_type": "code",
      "source": [
        "#colors = ['#99ff99','#6495ED','#FF4040']\n",
        "#explode = (0.08,0.08,0.08)\n",
        " \n",
        "plt.pie(df.labels.value_counts(),colors = colors, autopct='%1.1f%%', startangle=90, pctdistance=0.85, explode = explode,labels=['Positive','Neutral','Negative'])\n",
        "centre_circle = plt.Circle((0,0),0.70,fc='white') #plt.circle plots the graph in circle\n",
        "fig = plt.gcf() #get current figure\n",
        "fig.gca().add_artist(centre_circle) \n",
        "plt.tight_layout()\n",
        "plt.show()"
      ],
      "metadata": {
        "colab": {
          "base_uri": "https://localhost:8080/",
          "height": 297
        },
        "id": "Q1imnG-_CLaI",
        "outputId": "2b5279f0-be36-4658-ad60-b092bf5b330a"
      },
      "execution_count": null,
      "outputs": [
        {
          "data": {
            "image/png": "[encoded data removed]",
            "text/plain": [
              "<Figure size 432x288 with 1 Axes>"
            ]
          },
          "metadata": {},
          "output_type": "display_data"
        }
      ]
    },
    {
      "cell_type": "code",
      "source": [],
      "metadata": {
        "id": "rgUcluIyrJ-z"
      },
      "execution_count": null,
      "outputs": []
    }
  ],
  "metadata": {
    "colab": {
      "provenance": []
    },
    "kernelspec": {
      "display_name": "Python 3",
      "language": "python",
      "name": "python3"
    },
    "language_info": {
      "codemirror_mode": {
        "name": "ipython",
        "version": 3
      },
      "file_extension": ".py",
      "mimetype": "text/x-python",
      "name": "python",
      "nbconvert_exporter": "python",
      "pygments_lexer": "ipython3",
      "version": "3.8.3"
    },
    "gpuClass": "standard"
  },
  "nbformat": 4,
  "nbformat_minor": 0
}